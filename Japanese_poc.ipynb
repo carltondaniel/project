{
 "cells": [
  {
   "cell_type": "code",
   "execution_count": 26,
   "id": "3e7ed9fd",
   "metadata": {},
   "outputs": [],
   "source": [
    "import spacy\n",
    "from spacy import displacy\n",
    "import pandas as pd\n",
    "import spacy_annotator as spa\n",
    "import random"
   ]
  },
  {
   "cell_type": "markdown",
   "id": "6a070773",
   "metadata": {},
   "source": [
    "## Dependency Parsing Using Large Japanese Model"
   ]
  },
  {
   "cell_type": "code",
   "execution_count": 3,
   "id": "2ef895b2",
   "metadata": {},
   "outputs": [
    {
     "data": {
      "text/html": [
       "<span class=\"tex2jax_ignore\"><svg xmlns=\"http://www.w3.org/2000/svg\" xmlns:xlink=\"http://www.w3.org/1999/xlink\" xml:lang=\"ja\" id=\"8859020ae6c8422e88df1422a59a62d3-0\" class=\"displacy\" width=\"1275\" height=\"312.0\" direction=\"ltr\" style=\"max-width: none; height: 312.0px; color: #000000; background: #ffffff; font-family: Arial; direction: ltr\">\n",
       "<text class=\"displacy-token\" fill=\"currentColor\" text-anchor=\"middle\" y=\"222.0\">\n",
       "    <tspan class=\"displacy-word\" fill=\"currentColor\" x=\"50\">アプリ</tspan>\n",
       "    <tspan class=\"displacy-tag\" dy=\"2em\" fill=\"currentColor\" x=\"50\"></tspan>\n",
       "</text>\n",
       "\n",
       "<text class=\"displacy-token\" fill=\"currentColor\" text-anchor=\"middle\" y=\"222.0\">\n",
       "    <tspan class=\"displacy-word\" fill=\"currentColor\" x=\"225\">の</tspan>\n",
       "    <tspan class=\"displacy-tag\" dy=\"2em\" fill=\"currentColor\" x=\"225\"></tspan>\n",
       "</text>\n",
       "\n",
       "<text class=\"displacy-token\" fill=\"currentColor\" text-anchor=\"middle\" y=\"222.0\">\n",
       "    <tspan class=\"displacy-word\" fill=\"currentColor\" x=\"400\">ログイン</tspan>\n",
       "    <tspan class=\"displacy-tag\" dy=\"2em\" fill=\"currentColor\" x=\"400\"></tspan>\n",
       "</text>\n",
       "\n",
       "<text class=\"displacy-token\" fill=\"currentColor\" text-anchor=\"middle\" y=\"222.0\">\n",
       "    <tspan class=\"displacy-word\" fill=\"currentColor\" x=\"575\">が</tspan>\n",
       "    <tspan class=\"displacy-tag\" dy=\"2em\" fill=\"currentColor\" x=\"575\"></tspan>\n",
       "</text>\n",
       "\n",
       "<text class=\"displacy-token\" fill=\"currentColor\" text-anchor=\"middle\" y=\"222.0\">\n",
       "    <tspan class=\"displacy-word\" fill=\"currentColor\" x=\"750\">でき</tspan>\n",
       "    <tspan class=\"displacy-tag\" dy=\"2em\" fill=\"currentColor\" x=\"750\"></tspan>\n",
       "</text>\n",
       "\n",
       "<text class=\"displacy-token\" fill=\"currentColor\" text-anchor=\"middle\" y=\"222.0\">\n",
       "    <tspan class=\"displacy-word\" fill=\"currentColor\" x=\"925\">ませ</tspan>\n",
       "    <tspan class=\"displacy-tag\" dy=\"2em\" fill=\"currentColor\" x=\"925\"></tspan>\n",
       "</text>\n",
       "\n",
       "<text class=\"displacy-token\" fill=\"currentColor\" text-anchor=\"middle\" y=\"222.0\">\n",
       "    <tspan class=\"displacy-word\" fill=\"currentColor\" x=\"1100\">ん。</tspan>\n",
       "    <tspan class=\"displacy-tag\" dy=\"2em\" fill=\"currentColor\" x=\"1100\"></tspan>\n",
       "</text>\n",
       "\n",
       "<g class=\"displacy-arrow\">\n",
       "    <path class=\"displacy-arc\" id=\"arrow-8859020ae6c8422e88df1422a59a62d3-0-0\" stroke-width=\"2px\" d=\"M70,177.0 C70,2.0 400.0,2.0 400.0,177.0\" fill=\"none\" stroke=\"currentColor\"/>\n",
       "    <text dy=\"1.25em\" style=\"font-size: 0.8em; letter-spacing: 1px\">\n",
       "        <textPath xlink:href=\"#arrow-8859020ae6c8422e88df1422a59a62d3-0-0\" class=\"displacy-label\" startOffset=\"50%\" side=\"left\" fill=\"currentColor\" text-anchor=\"middle\">nmod</textPath>\n",
       "    </text>\n",
       "    <path class=\"displacy-arrowhead\" d=\"M70,179.0 L62,167.0 78,167.0\" fill=\"currentColor\"/>\n",
       "</g>\n",
       "\n",
       "<g class=\"displacy-arrow\">\n",
       "    <path class=\"displacy-arc\" id=\"arrow-8859020ae6c8422e88df1422a59a62d3-0-1\" stroke-width=\"2px\" d=\"M70,177.0 C70,89.5 220.0,89.5 220.0,177.0\" fill=\"none\" stroke=\"currentColor\"/>\n",
       "    <text dy=\"1.25em\" style=\"font-size: 0.8em; letter-spacing: 1px\">\n",
       "        <textPath xlink:href=\"#arrow-8859020ae6c8422e88df1422a59a62d3-0-1\" class=\"displacy-label\" startOffset=\"50%\" side=\"left\" fill=\"currentColor\" text-anchor=\"middle\">case</textPath>\n",
       "    </text>\n",
       "    <path class=\"displacy-arrowhead\" d=\"M220.0,179.0 L228.0,167.0 212.0,167.0\" fill=\"currentColor\"/>\n",
       "</g>\n",
       "\n",
       "<g class=\"displacy-arrow\">\n",
       "    <path class=\"displacy-arc\" id=\"arrow-8859020ae6c8422e88df1422a59a62d3-0-2\" stroke-width=\"2px\" d=\"M420,177.0 C420,2.0 750.0,2.0 750.0,177.0\" fill=\"none\" stroke=\"currentColor\"/>\n",
       "    <text dy=\"1.25em\" style=\"font-size: 0.8em; letter-spacing: 1px\">\n",
       "        <textPath xlink:href=\"#arrow-8859020ae6c8422e88df1422a59a62d3-0-2\" class=\"displacy-label\" startOffset=\"50%\" side=\"left\" fill=\"currentColor\" text-anchor=\"middle\">nsubj</textPath>\n",
       "    </text>\n",
       "    <path class=\"displacy-arrowhead\" d=\"M420,179.0 L412,167.0 428,167.0\" fill=\"currentColor\"/>\n",
       "</g>\n",
       "\n",
       "<g class=\"displacy-arrow\">\n",
       "    <path class=\"displacy-arc\" id=\"arrow-8859020ae6c8422e88df1422a59a62d3-0-3\" stroke-width=\"2px\" d=\"M595,177.0 C595,89.5 745.0,89.5 745.0,177.0\" fill=\"none\" stroke=\"currentColor\"/>\n",
       "    <text dy=\"1.25em\" style=\"font-size: 0.8em; letter-spacing: 1px\">\n",
       "        <textPath xlink:href=\"#arrow-8859020ae6c8422e88df1422a59a62d3-0-3\" class=\"displacy-label\" startOffset=\"50%\" side=\"left\" fill=\"currentColor\" text-anchor=\"middle\">dep</textPath>\n",
       "    </text>\n",
       "    <path class=\"displacy-arrowhead\" d=\"M595,179.0 L587,167.0 603,167.0\" fill=\"currentColor\"/>\n",
       "</g>\n",
       "\n",
       "<g class=\"displacy-arrow\">\n",
       "    <path class=\"displacy-arc\" id=\"arrow-8859020ae6c8422e88df1422a59a62d3-0-4\" stroke-width=\"2px\" d=\"M770,177.0 C770,89.5 920.0,89.5 920.0,177.0\" fill=\"none\" stroke=\"currentColor\"/>\n",
       "    <text dy=\"1.25em\" style=\"font-size: 0.8em; letter-spacing: 1px\">\n",
       "        <textPath xlink:href=\"#arrow-8859020ae6c8422e88df1422a59a62d3-0-4\" class=\"displacy-label\" startOffset=\"50%\" side=\"left\" fill=\"currentColor\" text-anchor=\"middle\">aux</textPath>\n",
       "    </text>\n",
       "    <path class=\"displacy-arrowhead\" d=\"M920.0,179.0 L928.0,167.0 912.0,167.0\" fill=\"currentColor\"/>\n",
       "</g>\n",
       "\n",
       "<g class=\"displacy-arrow\">\n",
       "    <path class=\"displacy-arc\" id=\"arrow-8859020ae6c8422e88df1422a59a62d3-0-5\" stroke-width=\"2px\" d=\"M770,177.0 C770,2.0 1100.0,2.0 1100.0,177.0\" fill=\"none\" stroke=\"currentColor\"/>\n",
       "    <text dy=\"1.25em\" style=\"font-size: 0.8em; letter-spacing: 1px\">\n",
       "        <textPath xlink:href=\"#arrow-8859020ae6c8422e88df1422a59a62d3-0-5\" class=\"displacy-label\" startOffset=\"50%\" side=\"left\" fill=\"currentColor\" text-anchor=\"middle\">aux</textPath>\n",
       "    </text>\n",
       "    <path class=\"displacy-arrowhead\" d=\"M1100.0,179.0 L1108.0,167.0 1092.0,167.0\" fill=\"currentColor\"/>\n",
       "</g>\n",
       "</svg></span>"
      ],
      "text/plain": [
       "<IPython.core.display.HTML object>"
      ]
     },
     "metadata": {},
     "output_type": "display_data"
    }
   ],
   "source": [
    "##large model\n",
    "nlp=spacy.load('ja_core_news_lg')\n",
    "##I can't log in to the app.\n",
    "doc=nlp('アプリのログインができません。')\n",
    "displacy.render(doc,style='dep',jupyter=True)"
   ]
  },
  {
   "cell_type": "markdown",
   "id": "8fb1b1a5",
   "metadata": {},
   "source": [
    "## Tokanizing Text For Annotation "
   ]
  },
  {
   "cell_type": "code",
   "execution_count": 23,
   "id": "33249347",
   "metadata": {},
   "outputs": [
    {
     "name": "stdout",
     "output_type": "stream",
     "text": [
      "0 車外\n",
      "1 画像\n",
      "2 データ\n",
      "3 は\n",
      "4 どの\n",
      "5 くらい\n",
      "6 の\n",
      "7 期間\n",
      "8 保存\n",
      "9 さ\n",
      "10 れる\n",
      "11 の\n",
      "12 です\n",
      "13 か\n",
      "14 ？\n"
     ]
    }
   ],
   "source": [
    "from spacy.lang.ja.examples import sentences \n",
    "\n",
    "nlp = spacy.load(\"ja_core_news_sm\")\n",
    "doc = nlp(\"車外画像データはどのくらいの期間保存されるのですか？\")\n",
    "for token in doc:\n",
    "    print(token.i,token.text)"
   ]
  },
  {
   "cell_type": "markdown",
   "id": "c2e3a116",
   "metadata": {},
   "source": [
    "## DataFrame of all the Japanese text Corpus"
   ]
  },
  {
   "cell_type": "code",
   "execution_count": 7,
   "id": "71e66556",
   "metadata": {},
   "outputs": [],
   "source": [
    "df=pd.DataFrame({'text':['パンクしたときの対処方法は？','バッテリーがあがったときの対処法は？','スマートキーが正常に作動しないときのエンジンのかけ方は？','エンジンがかからない時は、どうしたらいいですか。','アプリのログインができません。','ドアが開いているときのうっかり通知は何分後に来るのですか？','セキュリティ通知履歴は削除できますか？','「次回のメンテナンス」では何が表示されていますか？','ヘルスチェックではどのような情報がわかるのですか？','走行データではどのような情報が表示されますか？','犯罪捜査等の目的で、警察等から車外画像データの提供を求められた場合は、提供するのですか？','車外画像データはどのくらいの期間保存されるのですか？']})"
   ]
  },
  {
   "cell_type": "markdown",
   "id": "cabbc0bf",
   "metadata": {},
   "source": [
    "## Annotating the Japanese Data using the Custom tags using spacys in-built annotator "
   ]
  },
  {
   "cell_type": "code",
   "execution_count": 10,
   "id": "e6931482",
   "metadata": {},
   "outputs": [
    {
     "data": {
      "application/vnd.jupyter.widget-view+json": {
       "model_id": "036cae57a6cc492083a5a486fb9fe488",
       "version_major": 2,
       "version_minor": 0
      },
      "text/plain": [
       "HTML(value='-1 examples annotated, 13 examples left')"
      ]
     },
     "metadata": {},
     "output_type": "display_data"
    },
    {
     "data": {
      "application/vnd.jupyter.widget-view+json": {
       "model_id": "c1b84030c03c43b2b9364705d6fe3099",
       "version_major": 2,
       "version_minor": 0
      },
      "text/plain": [
       "Text(value='', description='Symptom', layout=Layout(width='auto'), placeholder='ent one, ent two, ent three')"
      ]
     },
     "metadata": {},
     "output_type": "display_data"
    },
    {
     "data": {
      "application/vnd.jupyter.widget-view+json": {
       "model_id": "daf31dc102dd47dd97a8275c8f566bf7",
       "version_major": 2,
       "version_minor": 0
      },
      "text/plain": [
       "Text(value='', description='Vehicle', layout=Layout(width='auto'), placeholder='ent one, ent two, ent three')"
      ]
     },
     "metadata": {},
     "output_type": "display_data"
    },
    {
     "data": {
      "application/vnd.jupyter.widget-view+json": {
       "model_id": "429f04cdd9e540eba0c62c8d5bf5ab81",
       "version_major": 2,
       "version_minor": 0
      },
      "text/plain": [
       "Text(value='', description='Component', layout=Layout(width='auto'), placeholder='ent one, ent two, ent three'…"
      ]
     },
     "metadata": {},
     "output_type": "display_data"
    },
    {
     "data": {
      "application/vnd.jupyter.widget-view+json": {
       "model_id": "531d3270ee9442fb977a0266c4d08d67",
       "version_major": 2,
       "version_minor": 0
      },
      "text/plain": [
       "HBox(children=(Button(button_style='success', description='submit', style=ButtonStyle()), Button(button_style=…"
      ]
     },
     "metadata": {},
     "output_type": "display_data"
    },
    {
     "data": {
      "application/vnd.jupyter.widget-view+json": {
       "model_id": "c703f179cecf4bdcb13f09d6767ed473",
       "version_major": 2,
       "version_minor": 0
      },
      "text/plain": [
       "Output()"
      ]
     },
     "metadata": {},
     "output_type": "display_data"
    }
   ],
   "source": [
    "import spacy\n",
    "import pandas as pd\n",
    "nlp = spacy.load(\"ja_core_news_sm\")\n",
    "\n",
    "annotator=spa.Annotator(labels=['Symptom','Vehicle','Component'],model=nlp)\n",
    "df_labels=annotator.annotate(df=df,col_text=\"text\")"
   ]
  },
  {
   "cell_type": "code",
   "execution_count": 24,
   "id": "840607f8",
   "metadata": {},
   "outputs": [],
   "source": [
    "annotation_data=[]\n",
    "for i in df_labels.annotations:\n",
    "    annotation_data.append(i)"
   ]
  },
  {
   "cell_type": "markdown",
   "id": "a6315c8d",
   "metadata": {},
   "source": [
    "## Annotated Data format  required By Spacy for Training "
   ]
  },
  {
   "cell_type": "code",
   "execution_count": 25,
   "id": "e6540590",
   "metadata": {},
   "outputs": [
    {
     "data": {
      "text/plain": [
       "[('パンクしたときの対処方法は？', {'entities': []}),\n",
       " ('バッテリーがあがったときの対処法は？', {'entities': [(0, 5, 'Component')]}),\n",
       " ('スマートキーが正常に作動しないときのエンジンのかけ方は？',\n",
       "  {'entities': [(0, 6, 'Component'), (18, 22, 'Component')]}),\n",
       " ('エンジンがかからない時は、どうしたらいいですか。', {'entities': [(0, 4, 'Component')]}),\n",
       " ('アプリのログインができません。', {'entities': [(4, 8, 'Symptom'), (0, 3, 'Component')]}),\n",
       " ('ドアが開いているときのうっかり通知は何分後に来るのですか？',\n",
       "  {'entities': [(3, 5, 'Symptom'),\n",
       "    (11, 15, 'Symptom'),\n",
       "    (15, 17, 'Symptom'),\n",
       "    (0, 2, 'Component')]}),\n",
       " ('セキュリティ通知履歴は削除できますか？',\n",
       "  {'entities': [(0, 6, 'Symptom'),\n",
       "    (6, 8, 'Symptom'),\n",
       "    (8, 10, 'Symptom'),\n",
       "    (11, 13, 'Symptom')]}),\n",
       " ('「次回のメンテナンス」では何が表示されていますか？',\n",
       "  {'entities': [(21, 23, 'Symptom'),\n",
       "    (4, 10, 'Component'),\n",
       "    (15, 17, 'Component')]}),\n",
       " ('ヘルスチェックではどのような情報がわかるのですか？',\n",
       "  {'entities': [(0, 3, 'Symptom'),\n",
       "    (3, 7, 'Component'),\n",
       "    (14, 16, 'Component')]}),\n",
       " ('走行データではどのような情報が表示されますか？',\n",
       "  {'entities': [(0, 2, 'Symptom'),\n",
       "    (19, 21, 'Symptom'),\n",
       "    (2, 5, 'Component'),\n",
       "    (12, 14, 'Component'),\n",
       "    (15, 17, 'Component')]}),\n",
       " ('犯罪捜査等の目的で、警察等から車外画像データの提供を求められた場合は、提供するのですか？',\n",
       "  {'entities': [(0, 2, 'Symptom'),\n",
       "    (15, 17, 'Symptom'),\n",
       "    (31, 33, 'Symptom'),\n",
       "    (2, 4, 'Component'),\n",
       "    (10, 12, 'Component')]}),\n",
       " ('車外画像データはどのくらいの期間保存されるのですか？',\n",
       "  {'entities': [(0, 2, 'Component'),\n",
       "    (2, 4, 'Component'),\n",
       "    (4, 7, 'Component')]})]"
      ]
     },
     "execution_count": 25,
     "metadata": {},
     "output_type": "execute_result"
    }
   ],
   "source": [
    "annotation_data"
   ]
  },
  {
   "cell_type": "markdown",
   "id": "554dc550",
   "metadata": {},
   "source": [
    "## Training The custom NER model Using Spacy "
   ]
  },
  {
   "cell_type": "code",
   "execution_count": 27,
   "id": "0237b11a",
   "metadata": {},
   "outputs": [
    {
     "name": "stderr",
     "output_type": "stream",
     "text": [
      "/home/carlton/anaconda3/lib/python3.6/site-packages/spacy/language.py:636: UserWarning: [W033] Training a new parser or NER using a model with no lexeme normalization table. This may degrade the performance of the model to some degree. If this is intentional or the language you're using doesn't have a normalization table, please ignore this warning. If this is surprising, make sure you have the spacy-lookups-data package installed. The languages with lexeme normalization tables are currently: da, de, el, en, id, lb, pt, ru, sr, ta, th.\n",
      "  **kwargs\n"
     ]
    },
    {
     "name": "stdout",
     "output_type": "stream",
     "text": [
      "Statring iteration 0\n",
      "{'ner': 105.58277493808419}\n",
      "Statring iteration 1\n",
      "{'ner': 55.17429130548612}\n",
      "Statring iteration 2\n",
      "{'ner': 38.366269269872646}\n",
      "Statring iteration 3\n",
      "{'ner': 29.092391736130047}\n",
      "Statring iteration 4\n",
      "{'ner': 18.502367129865835}\n",
      "Statring iteration 5\n",
      "{'ner': 13.46200275926064}\n",
      "Statring iteration 6\n",
      "{'ner': 6.5006507800672795}\n",
      "Statring iteration 7\n",
      "{'ner': 2.3350711407307356}\n",
      "Statring iteration 8\n",
      "{'ner': 0.9592627314241318}\n",
      "Statring iteration 9\n",
      "{'ner': 0.6416178959449673}\n",
      "Statring iteration 10\n",
      "{'ner': 2.486844201011565}\n",
      "Statring iteration 11\n",
      "{'ner': 0.13356162648160116}\n",
      "Statring iteration 12\n",
      "{'ner': 1.8734043890197458}\n",
      "Statring iteration 13\n",
      "{'ner': 0.05483861710958841}\n",
      "Statring iteration 14\n",
      "{'ner': 0.00013765672878710822}\n",
      "Statring iteration 15\n",
      "{'ner': 0.0012667909886846854}\n",
      "Statring iteration 16\n",
      "{'ner': 0.0018168450736335744}\n",
      "Statring iteration 17\n",
      "{'ner': 0.0023903971112084208}\n",
      "Statring iteration 18\n",
      "{'ner': 2.2609548201231832e-05}\n",
      "Statring iteration 19\n",
      "{'ner': 1.1170826039800978e-06}\n",
      "Enter your Model Name: Japanese_poc\n",
      "Enter your testing text: 「次回のメンテナンス」では何が表示されていますか？\n",
      "メンテナンス 4 10 Component\n",
      "表示 15 17 Component\n",
      "ます 21 23 Symptom\n"
     ]
    }
   ],
   "source": [
    "\n",
    "def train_spacy(data,iterations):\n",
    "    TRAIN_DATA = data\n",
    "    nlp = spacy.blank('ja')  # create blank Language class\n",
    "    \n",
    "    if 'ner' not in nlp.pipe_names:\n",
    "        ner = nlp.create_pipe('ner')\n",
    "        nlp.add_pipe(ner, last=True)\n",
    "       \n",
    "\n",
    "    # add labels\n",
    "    for _, annotations in TRAIN_DATA:\n",
    "         for ent in annotations.get('entities'):\n",
    "            ner.add_label(ent[2])\n",
    "\n",
    "    # get names of other pipes to disable them during training\n",
    "    other_pipes = [pipe for pipe in nlp.pipe_names if pipe != 'ner']\n",
    "    with nlp.disable_pipes(*other_pipes):  # only train NER\n",
    "        optimizer = nlp.begin_training()\n",
    "        for itn in range(iterations):\n",
    "            print(\"Statring iteration \" + str(itn))\n",
    "            random.shuffle(TRAIN_DATA)\n",
    "            losses = {}\n",
    "            for text, annotations in TRAIN_DATA:\n",
    "                nlp.update(\n",
    "                    [text],  # batch of texts\n",
    "                    [annotations],  # batch of annotations\n",
    "                    drop=0.2,  # dropout - make it harder to memorise data\n",
    "                    sgd=optimizer,  # callable to update weights\n",
    "                    losses=losses)\n",
    "            print(losses)\n",
    "    return nlp\n",
    "\n",
    "\n",
    "prdnlp = train_spacy(annotation_data, 20)\n",
    "\n",
    "# Save our trained Model\n",
    "modelfile = input(\"Enter your Model Name: \")\n",
    "prdnlp.to_disk(modelfile)\n",
    "jap_spcy=spacy.load(modelfile)\n",
    "\n",
    "\n",
    "#Test your text\n",
    "test_text = input(\"Enter your testing text: \")\n",
    "doc = jap_spcy(test_text)\n",
    "for ent in doc.ents:\n",
    "    print(ent.text, ent.start_char, ent.end_char, ent.label_)"
   ]
  },
  {
   "cell_type": "markdown",
   "id": "2bcb8987",
   "metadata": {},
   "source": [
    "## Testing the Trained model by loading the saved file "
   ]
  },
  {
   "cell_type": "code",
   "execution_count": 28,
   "id": "6e7c156d",
   "metadata": {},
   "outputs": [
    {
     "name": "stdout",
     "output_type": "stream",
     "text": [
      "Enter your testing text: 「次回のメンテナンス」では何が表示されていますか？\n",
      "メンテナンス 4 10 Component\n",
      "表示 15 17 Component\n",
      "ます 21 23 Symptom\n"
     ]
    }
   ],
   "source": [
    "jap_spcy=spacy.load('Japanese_poc')\n",
    "\n",
    "\n",
    "#Test your text\n",
    "test_text = input(\"Enter your testing text: \")\n",
    "doc = jap_spcy(test_text)\n",
    "for ent in doc.ents:\n",
    "    print(ent.text, ent.start_char, ent.end_char, ent.label_)"
   ]
  },
  {
   "cell_type": "code",
   "execution_count": null,
   "id": "75c4192c",
   "metadata": {},
   "outputs": [],
   "source": []
  }
 ],
 "metadata": {
  "kernelspec": {
   "display_name": "Python 3",
   "language": "python",
   "name": "python3"
  },
  "language_info": {
   "codemirror_mode": {
    "name": "ipython",
    "version": 3
   },
   "file_extension": ".py",
   "mimetype": "text/x-python",
   "name": "python",
   "nbconvert_exporter": "python",
   "pygments_lexer": "ipython3",
   "version": "3.6.6"
  }
 },
 "nbformat": 4,
 "nbformat_minor": 5
}
