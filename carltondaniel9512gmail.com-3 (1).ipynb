{
 "cells": [
  {
   "cell_type": "markdown",
   "metadata": {
    "colab_type": "text",
    "id": "-Ab-X-IrCyl0"
   },
   "source": [
    "# DonorsChoose"
   ]
  },
  {
   "cell_type": "markdown",
   "metadata": {
    "colab_type": "text",
    "id": "etNpzy7rCyl2"
   },
   "source": [
    "<p>\n",
    "DonorsChoose.org receives hundreds of thousands of project proposals each year for classroom projects in need of funding. Right now, a large number of volunteers is needed to manually screen each submission before it's approved to be posted on the DonorsChoose.org website.\n",
    "</p>\n",
    "<p>\n",
    "    Next year, DonorsChoose.org expects to receive close to 500,000 project proposals. As a result, there are three main problems they need to solve:\n",
    "<ul>\n",
    "<li>\n",
    "    How to scale current manual processes and resources to screen 500,000 projects so that they can be posted as quickly and as efficiently as possible</li>\n",
    "    <li>How to increase the consistency of project vetting across different volunteers to improve the experience for teachers</li>\n",
    "    <li>How to focus volunteer time on the applications that need the most assistance</li>\n",
    "    </ul>\n",
    "</p>    \n",
    "<p>\n",
    "The goal of the competition is to predict whether or not a DonorsChoose.org project proposal submitted by a teacher will be approved, using the text of project descriptions as well as additional metadata about the project, teacher, and school. DonorsChoose.org can then use this information to identify projects most likely to need further review before approval.\n",
    "</p>"
   ]
  },
  {
   "cell_type": "markdown",
   "metadata": {
    "colab_type": "text",
    "id": "kO2Kg7TgCyl4"
   },
   "source": [
    "## About the DonorsChoose Data Set\n",
    "\n",
    "The `train.csv` data set provided by DonorsChoose contains the following features:\n",
    "\n",
    "Feature | Description \n",
    "----------|---------------\n",
    "**`project_id`** | A unique identifier for the proposed project. **Example:** `p036502`   \n",
    "**`project_title`**    | Title of the project. **Examples:**<br><ul><li><code>Art Will Make You Happy!</code></li><li><code>First Grade Fun</code></li></ul> \n",
    "**`project_grade_category`** | Grade level of students for which the project is targeted. One of the following enumerated values: <br/><ul><li><code>Grades PreK-2</code></li><li><code>Grades 3-5</code></li><li><code>Grades 6-8</code></li><li><code>Grades 9-12</code></li></ul>  \n",
    " **`project_subject_categories`** | One or more (comma-separated) subject categories for the project from the following enumerated list of values:  <br/><ul><li><code>Applied Learning</code></li><li><code>Care &amp; Hunger</code></li><li><code>Health &amp; Sports</code></li><li><code>History &amp; Civics</code></li><li><code>Literacy &amp; Language</code></li><li><code>Math &amp; Science</code></li><li><code>Music &amp; The Arts</code></li><li><code>Special Needs</code></li><li><code>Warmth</code></li></ul><br/> **Examples:** <br/><ul><li><code>Music &amp; The Arts</code></li><li><code>Literacy &amp; Language, Math &amp; Science</code></li>  \n",
    "  **`school_state`** | State where school is located ([Two-letter U.S. postal code](https://en.wikipedia.org/wiki/List_of_U.S._state_abbreviations#Postal_codes)). **Example:** `WY`\n",
    "**`project_subject_subcategories`** | One or more (comma-separated) subject subcategories for the project. **Examples:** <br/><ul><li><code>Literacy</code></li><li><code>Literature &amp; Writing, Social Sciences</code></li></ul> \n",
    "**`project_resource_summary`** | An explanation of the resources needed for the project. **Example:** <br/><ul><li><code>My students need hands on literacy materials to manage sensory needs!</code</li></ul> \n",
    "**`project_essay_1`**    | First application essay<sup>*</sup>  \n",
    "**`project_essay_2`**    | Second application essay<sup>*</sup> \n",
    "**`project_essay_3`**    | Third application essay<sup>*</sup> \n",
    "**`project_essay_4`**    | Fourth application essay<sup>*</sup> \n",
    "**`project_submitted_datetime`** | Datetime when project application was submitted. **Example:** `2016-04-28 12:43:56.245`   \n",
    "**`teacher_id`** | A unique identifier for the teacher of the proposed project. **Example:** `bdf8baa8fedef6bfeec7ae4ff1c15c56`  \n",
    "**`teacher_prefix`** | Teacher's title. One of the following enumerated values: <br/><ul><li><code>nan</code></li><li><code>Dr.</code></li><li><code>Mr.</code></li><li><code>Mrs.</code></li><li><code>Ms.</code></li><li><code>Teacher.</code></li></ul>  \n",
    "**`teacher_number_of_previously_posted_projects`** | Number of project applications previously submitted by the same teacher. **Example:** `2` \n",
    "\n",
    "<sup>*</sup> See the section <b>Notes on the Essay Data</b> for more details about these features.\n",
    "\n",
    "Additionally, the `resources.csv` data set provides more data about the resources required for each project. Each line in this file represents a resource required by a project:\n",
    "\n",
    "Feature | Description \n",
    "----------|---------------\n",
    "**`id`** | A `project_id` value from the `train.csv` file.  **Example:** `p036502`   \n",
    "**`description`** | Desciption of the resource. **Example:** `Tenor Saxophone Reeds, Box of 25`   \n",
    "**`quantity`** | Quantity of the resource required. **Example:** `3`   \n",
    "**`price`** | Price of the resource required. **Example:** `9.95`   \n",
    "\n",
    "**Note:** Many projects require multiple resources. The `id` value corresponds to a `project_id` in train.csv, so you use it as a key to retrieve all resources needed for a project:\n",
    "\n",
    "The data set contains the following label (the value you will attempt to predict):\n",
    "\n",
    "Label | Description\n",
    "----------|---------------\n",
    "`project_is_approved` | A binary flag indicating whether DonorsChoose approved the project. A value of `0` indicates the project was not approved, and a value of `1` indicates the project was approved."
   ]
  },
  {
   "cell_type": "markdown",
   "metadata": {
    "colab_type": "text",
    "id": "dBGA_YStCyl6"
   },
   "source": [
    "### Notes on the Essay Data\n",
    "\n",
    "<ul>\n",
    "Prior to May 17, 2016, the prompts for the essays were as follows:\n",
    "<li>__project_essay_1:__ \"Introduce us to your classroom\"</li>\n",
    "<li>__project_essay_2:__ \"Tell us more about your students\"</li>\n",
    "<li>__project_essay_3:__ \"Describe how your students will use the materials you're requesting\"</li>\n",
    "<li>__project_essay_3:__ \"Close by sharing why your project will make a difference\"</li>\n",
    "</ul>\n",
    "\n",
    "\n",
    "<ul>\n",
    "Starting on May 17, 2016, the number of essays was reduced from 4 to 2, and the prompts for the first 2 essays were changed to the following:<br>\n",
    "<li>__project_essay_1:__ \"Describe your students: What makes your students special? Specific details about their background, your neighborhood, and your school are all helpful.\"</li>\n",
    "<li>__project_essay_2:__ \"About your project: How will these materials make a difference in your students' learning and improve their school lives?\"</li>\n",
    "<br>For all projects with project_submitted_datetime of 2016-05-17 and later, the values of project_essay_3 and project_essay_4 will be NaN.\n",
    "</ul>\n"
   ]
  },
  {
   "cell_type": "code",
   "execution_count": 3,
   "metadata": {
    "colab": {},
    "colab_type": "code",
    "id": "XTrCJ5p9Cyl7",
    "outputId": "06c35f2f-d281-4345-9668-f8f44b28d6ac"
   },
   "outputs": [],
   "source": [
    "%matplotlib inline\n",
    "import warnings\n",
    "warnings.filterwarnings(\"ignore\")\n",
    "\n",
    "import sqlite3\n",
    "import pandas as pd\n",
    "import numpy as np\n",
    "import nltk\n",
    "import string\n",
    "import matplotlib.pyplot as plt\n",
    "import seaborn as sns\n",
    "from sklearn.feature_extraction.text import TfidfTransformer\n",
    "from sklearn.feature_extraction.text import TfidfVectorizer\n",
    "\n",
    "from sklearn.feature_extraction.text import CountVectorizer\n",
    "from sklearn.metrics import confusion_matrix\n",
    "from sklearn import metrics\n",
    "from sklearn.metrics import roc_curve, auc\n",
    "from nltk.stem.porter import PorterStemmer\n",
    "\n",
    "import re\n",
    "# Tutorial about Python regular expressions: https://pymotw.com/2/re/\n",
    "import string\n",
    "from nltk.corpus import stopwords\n",
    "from nltk.stem import PorterStemmer\n",
    "from nltk.stem.wordnet import WordNetLemmatizer\n",
    "\n",
    "from gensim.models import Word2Vec\n",
    "from gensim.models import KeyedVectors\n",
    "import pickle\n",
    "\n",
    "from tqdm import tqdm\n",
    "import os\n",
    "\n",
    "# # from plotly import plotly\n",
    "# # import plotly.offline as offline\n",
    "# # import plotly.graph_objs as go\n",
    "# offline.init_notebook_mode()\n",
    "from collections import Counter"
   ]
  },
  {
   "cell_type": "markdown",
   "metadata": {
    "colab_type": "text",
    "id": "MjknLZQqCymQ"
   },
   "source": [
    "## 1.1 Reading Data"
   ]
  },
  {
   "cell_type": "code",
   "execution_count": 3,
   "metadata": {
    "colab": {},
    "colab_type": "code",
    "id": "abtcqBS8CymT"
   },
   "outputs": [
    {
     "data": {
      "text/plain": [
       "1    92706\n",
       "0    16542\n",
       "Name: project_is_approved, dtype: int64"
      ]
     },
     "execution_count": 3,
     "metadata": {},
     "output_type": "execute_result"
    }
   ],
   "source": [
    "project_data = pd.read_csv('train_data.csv')\n",
    "resource_data = pd.read_csv('resources.csv')\n",
    "project_data.project_is_approved.value_counts()"
   ]
  },
  {
   "cell_type": "code",
   "execution_count": 4,
   "metadata": {},
   "outputs": [],
   "source": [
    "#https://pandas.pydata.org/pandas-docs/stable/reference/api/pandas.DataFrame.dropna.html\n",
    "project_data.dropna(subset=['teacher_prefix'],inplace=True)"
   ]
  },
  {
   "cell_type": "code",
   "execution_count": 5,
   "metadata": {},
   "outputs": [
    {
     "data": {
      "text/plain": [
       "Unnamed: 0                                           0\n",
       "id                                                   0\n",
       "teacher_id                                           0\n",
       "teacher_prefix                                       0\n",
       "school_state                                         0\n",
       "project_submitted_datetime                           0\n",
       "project_grade_category                               0\n",
       "project_subject_categories                           0\n",
       "project_subject_subcategories                        0\n",
       "project_title                                        0\n",
       "project_essay_1                                      0\n",
       "project_essay_2                                      0\n",
       "project_essay_3                                 105488\n",
       "project_essay_4                                 105488\n",
       "project_resource_summary                             0\n",
       "teacher_number_of_previously_posted_projects         0\n",
       "project_is_approved                                  0\n",
       "dtype: int64"
      ]
     },
     "execution_count": 5,
     "metadata": {},
     "output_type": "execute_result"
    }
   ],
   "source": [
    "project_data.isnull().sum()"
   ]
  },
  {
   "cell_type": "code",
   "execution_count": 6,
   "metadata": {},
   "outputs": [
    {
     "data": {
      "text/plain": [
       "id               0\n",
       "description    292\n",
       "quantity         0\n",
       "price            0\n",
       "dtype: int64"
      ]
     },
     "execution_count": 6,
     "metadata": {},
     "output_type": "execute_result"
    }
   ],
   "source": [
    "resource_data.price.fillna(resource_data.price.mean(), inplace=True)\n",
    "resource_data.isnull().sum()"
   ]
  },
  {
   "cell_type": "code",
   "execution_count": 7,
   "metadata": {},
   "outputs": [
    {
     "data": {
      "text/plain": [
       "id               0\n",
       "description    292\n",
       "quantity         0\n",
       "price            0\n",
       "dtype: int64"
      ]
     },
     "execution_count": 7,
     "metadata": {},
     "output_type": "execute_result"
    }
   ],
   "source": [
    "resource_data.quantity.fillna(resource_data.quantity.mean(), inplace=True)\n",
    "resource_data.isnull().sum()"
   ]
  },
  {
   "cell_type": "code",
   "execution_count": 8,
   "metadata": {},
   "outputs": [
    {
     "data": {
      "text/html": [
       "<div>\n",
       "<style scoped>\n",
       "    .dataframe tbody tr th:only-of-type {\n",
       "        vertical-align: middle;\n",
       "    }\n",
       "\n",
       "    .dataframe tbody tr th {\n",
       "        vertical-align: top;\n",
       "    }\n",
       "\n",
       "    .dataframe thead th {\n",
       "        text-align: right;\n",
       "    }\n",
       "</style>\n",
       "<table border=\"1\" class=\"dataframe\">\n",
       "  <thead>\n",
       "    <tr style=\"text-align: right;\">\n",
       "      <th></th>\n",
       "      <th>Unnamed: 0</th>\n",
       "      <th>id</th>\n",
       "      <th>teacher_id</th>\n",
       "      <th>teacher_prefix</th>\n",
       "      <th>school_state</th>\n",
       "      <th>project_submitted_datetime</th>\n",
       "      <th>project_grade_category</th>\n",
       "      <th>project_subject_categories</th>\n",
       "      <th>project_subject_subcategories</th>\n",
       "      <th>project_title</th>\n",
       "      <th>project_essay_1</th>\n",
       "      <th>project_essay_2</th>\n",
       "      <th>project_essay_3</th>\n",
       "      <th>project_essay_4</th>\n",
       "      <th>project_resource_summary</th>\n",
       "      <th>teacher_number_of_previously_posted_projects</th>\n",
       "    </tr>\n",
       "  </thead>\n",
       "  <tbody>\n",
       "    <tr>\n",
       "      <th>0</th>\n",
       "      <td>160221</td>\n",
       "      <td>p253737</td>\n",
       "      <td>c90749f5d961ff158d4b4d1e7dc665fc</td>\n",
       "      <td>Mrs.</td>\n",
       "      <td>IN</td>\n",
       "      <td>2016-12-05 13:43:57</td>\n",
       "      <td>Grades PreK-2</td>\n",
       "      <td>Literacy &amp; Language</td>\n",
       "      <td>ESL, Literacy</td>\n",
       "      <td>Educational Support for English Learners at Home</td>\n",
       "      <td>My students are English learners that are work...</td>\n",
       "      <td>\\\"The limits of your language are the limits o...</td>\n",
       "      <td>NaN</td>\n",
       "      <td>NaN</td>\n",
       "      <td>My students need opportunities to practice beg...</td>\n",
       "      <td>0</td>\n",
       "    </tr>\n",
       "  </tbody>\n",
       "</table>\n",
       "</div>"
      ],
      "text/plain": [
       "   Unnamed: 0       id                        teacher_id teacher_prefix  \\\n",
       "0      160221  p253737  c90749f5d961ff158d4b4d1e7dc665fc           Mrs.   \n",
       "\n",
       "  school_state project_submitted_datetime project_grade_category  \\\n",
       "0           IN        2016-12-05 13:43:57          Grades PreK-2   \n",
       "\n",
       "  project_subject_categories project_subject_subcategories  \\\n",
       "0        Literacy & Language                 ESL, Literacy   \n",
       "\n",
       "                                      project_title  \\\n",
       "0  Educational Support for English Learners at Home   \n",
       "\n",
       "                                     project_essay_1  \\\n",
       "0  My students are English learners that are work...   \n",
       "\n",
       "                                     project_essay_2 project_essay_3  \\\n",
       "0  \\\"The limits of your language are the limits o...             NaN   \n",
       "\n",
       "  project_essay_4                           project_resource_summary  \\\n",
       "0             NaN  My students need opportunities to practice beg...   \n",
       "\n",
       "   teacher_number_of_previously_posted_projects  \n",
       "0                                             0  "
      ]
     },
     "execution_count": 8,
     "metadata": {},
     "output_type": "execute_result"
    }
   ],
   "source": [
    "y = project_data['project_is_approved'].values\n",
    "project_data.drop(['project_is_approved'], axis=1, inplace=True)\n",
    "project_data.head(1)"
   ]
  },
  {
   "cell_type": "code",
   "execution_count": 9,
   "metadata": {
    "colab": {},
    "colab_type": "code",
    "id": "Prf2ghjDCymX",
    "outputId": "226c1b3c-35c9-48bd-afc9-7a819c871e8d"
   },
   "outputs": [
    {
     "name": "stdout",
     "output_type": "stream",
     "text": [
      "Number of data points in train data (109245, 16)\n",
      "--------------------------------------------------\n",
      "The attributes of data : ['Unnamed: 0' 'id' 'teacher_id' 'teacher_prefix' 'school_state'\n",
      " 'project_submitted_datetime' 'project_grade_category'\n",
      " 'project_subject_categories' 'project_subject_subcategories'\n",
      " 'project_title' 'project_essay_1' 'project_essay_2' 'project_essay_3'\n",
      " 'project_essay_4' 'project_resource_summary'\n",
      " 'teacher_number_of_previously_posted_projects']\n"
     ]
    }
   ],
   "source": [
    "print(\"Number of data points in train data\", project_data.shape)\n",
    "print('-'*50)\n",
    "print(\"The attributes of data :\", project_data.columns.values)"
   ]
  },
  {
   "cell_type": "code",
   "execution_count": 10,
   "metadata": {
    "colab": {},
    "colab_type": "code",
    "id": "BTGMDQoPCymc",
    "outputId": "5b3c47b3-d5d0-416b-b512-a59b77f60f0b"
   },
   "outputs": [
    {
     "data": {
      "text/html": [
       "<div>\n",
       "<style scoped>\n",
       "    .dataframe tbody tr th:only-of-type {\n",
       "        vertical-align: middle;\n",
       "    }\n",
       "\n",
       "    .dataframe tbody tr th {\n",
       "        vertical-align: top;\n",
       "    }\n",
       "\n",
       "    .dataframe thead th {\n",
       "        text-align: right;\n",
       "    }\n",
       "</style>\n",
       "<table border=\"1\" class=\"dataframe\">\n",
       "  <thead>\n",
       "    <tr style=\"text-align: right;\">\n",
       "      <th></th>\n",
       "      <th>Unnamed: 0</th>\n",
       "      <th>id</th>\n",
       "      <th>teacher_id</th>\n",
       "      <th>teacher_prefix</th>\n",
       "      <th>school_state</th>\n",
       "      <th>Date</th>\n",
       "      <th>project_grade_category</th>\n",
       "      <th>project_subject_categories</th>\n",
       "      <th>project_subject_subcategories</th>\n",
       "      <th>project_title</th>\n",
       "      <th>project_essay_1</th>\n",
       "      <th>project_essay_2</th>\n",
       "      <th>project_essay_3</th>\n",
       "      <th>project_essay_4</th>\n",
       "      <th>project_resource_summary</th>\n",
       "      <th>teacher_number_of_previously_posted_projects</th>\n",
       "    </tr>\n",
       "  </thead>\n",
       "  <tbody>\n",
       "    <tr>\n",
       "      <th>55660</th>\n",
       "      <td>8393</td>\n",
       "      <td>p205479</td>\n",
       "      <td>2bf07ba08945e5d8b2a3f269b2b3cfe5</td>\n",
       "      <td>Mrs.</td>\n",
       "      <td>CA</td>\n",
       "      <td>2016-04-27 00:27:36</td>\n",
       "      <td>Grades PreK-2</td>\n",
       "      <td>Math &amp; Science</td>\n",
       "      <td>Applied Sciences, Health &amp; Life Science</td>\n",
       "      <td>Engineering STEAM into the Primary Classroom</td>\n",
       "      <td>I have been fortunate enough to use the Fairy ...</td>\n",
       "      <td>My students come from a variety of backgrounds...</td>\n",
       "      <td>Each month I try to do several science or STEM...</td>\n",
       "      <td>It is challenging to develop high quality scie...</td>\n",
       "      <td>My students need STEM kits to learn critical s...</td>\n",
       "      <td>53</td>\n",
       "    </tr>\n",
       "    <tr>\n",
       "      <th>76127</th>\n",
       "      <td>37728</td>\n",
       "      <td>p043609</td>\n",
       "      <td>3f60494c61921b3b43ab61bdde2904df</td>\n",
       "      <td>Ms.</td>\n",
       "      <td>UT</td>\n",
       "      <td>2016-04-27 00:31:25</td>\n",
       "      <td>Grades 3-5</td>\n",
       "      <td>Special Needs</td>\n",
       "      <td>Special Needs</td>\n",
       "      <td>Sensory Tools for Focus</td>\n",
       "      <td>Imagine being 8-9 years old. You're in your th...</td>\n",
       "      <td>Most of my students have autism, anxiety, anot...</td>\n",
       "      <td>It is tough to do more than one thing at a tim...</td>\n",
       "      <td>When my students are able to calm themselves d...</td>\n",
       "      <td>My students need Boogie Boards for quiet senso...</td>\n",
       "      <td>4</td>\n",
       "    </tr>\n",
       "  </tbody>\n",
       "</table>\n",
       "</div>"
      ],
      "text/plain": [
       "       Unnamed: 0       id                        teacher_id teacher_prefix  \\\n",
       "55660        8393  p205479  2bf07ba08945e5d8b2a3f269b2b3cfe5           Mrs.   \n",
       "76127       37728  p043609  3f60494c61921b3b43ab61bdde2904df            Ms.   \n",
       "\n",
       "      school_state                Date project_grade_category  \\\n",
       "55660           CA 2016-04-27 00:27:36          Grades PreK-2   \n",
       "76127           UT 2016-04-27 00:31:25             Grades 3-5   \n",
       "\n",
       "      project_subject_categories            project_subject_subcategories  \\\n",
       "55660             Math & Science  Applied Sciences, Health & Life Science   \n",
       "76127              Special Needs                            Special Needs   \n",
       "\n",
       "                                      project_title  \\\n",
       "55660  Engineering STEAM into the Primary Classroom   \n",
       "76127                       Sensory Tools for Focus   \n",
       "\n",
       "                                         project_essay_1  \\\n",
       "55660  I have been fortunate enough to use the Fairy ...   \n",
       "76127  Imagine being 8-9 years old. You're in your th...   \n",
       "\n",
       "                                         project_essay_2  \\\n",
       "55660  My students come from a variety of backgrounds...   \n",
       "76127  Most of my students have autism, anxiety, anot...   \n",
       "\n",
       "                                         project_essay_3  \\\n",
       "55660  Each month I try to do several science or STEM...   \n",
       "76127  It is tough to do more than one thing at a tim...   \n",
       "\n",
       "                                         project_essay_4  \\\n",
       "55660  It is challenging to develop high quality scie...   \n",
       "76127  When my students are able to calm themselves d...   \n",
       "\n",
       "                                project_resource_summary  \\\n",
       "55660  My students need STEM kits to learn critical s...   \n",
       "76127  My students need Boogie Boards for quiet senso...   \n",
       "\n",
       "       teacher_number_of_previously_posted_projects  \n",
       "55660                                            53  \n",
       "76127                                             4  "
      ]
     },
     "execution_count": 10,
     "metadata": {},
     "output_type": "execute_result"
    }
   ],
   "source": [
    "# how to replace elements in list python: https://stackoverflow.com/a/2582163/4084039\n",
    "cols = ['Date' if x=='project_submitted_datetime' else x for x in list(project_data.columns)]\n",
    "\n",
    "\n",
    "#sort dataframe based on time pandas python: https://stackoverflow.com/a/49702492/4084039\n",
    "project_data['Date'] = pd.to_datetime(project_data['project_submitted_datetime'])\n",
    "project_data.drop('project_submitted_datetime', axis=1, inplace=True)\n",
    "project_data.sort_values(by=['Date'], inplace=True)\n",
    "\n",
    "\n",
    "# how to reorder columns pandas python: https://stackoverflow.com/a/13148611/4084039\n",
    "project_data = project_data[cols]\n",
    "\n",
    "\n",
    "project_data.head(2)"
   ]
  },
  {
   "cell_type": "code",
   "execution_count": 11,
   "metadata": {
    "colab": {},
    "colab_type": "code",
    "id": "ntdWuRoUCymj",
    "outputId": "7f1911f2-61b8-4069-bfb0-9fdfeb2419e3"
   },
   "outputs": [
    {
     "name": "stdout",
     "output_type": "stream",
     "text": [
      "Number of data points in train data (1541272, 4)\n",
      "['id' 'description' 'quantity' 'price']\n"
     ]
    },
    {
     "data": {
      "text/html": [
       "<div>\n",
       "<style scoped>\n",
       "    .dataframe tbody tr th:only-of-type {\n",
       "        vertical-align: middle;\n",
       "    }\n",
       "\n",
       "    .dataframe tbody tr th {\n",
       "        vertical-align: top;\n",
       "    }\n",
       "\n",
       "    .dataframe thead th {\n",
       "        text-align: right;\n",
       "    }\n",
       "</style>\n",
       "<table border=\"1\" class=\"dataframe\">\n",
       "  <thead>\n",
       "    <tr style=\"text-align: right;\">\n",
       "      <th></th>\n",
       "      <th>id</th>\n",
       "      <th>description</th>\n",
       "      <th>quantity</th>\n",
       "      <th>price</th>\n",
       "    </tr>\n",
       "  </thead>\n",
       "  <tbody>\n",
       "    <tr>\n",
       "      <th>0</th>\n",
       "      <td>p233245</td>\n",
       "      <td>LC652 - Lakeshore Double-Space Mobile Drying Rack</td>\n",
       "      <td>1</td>\n",
       "      <td>149.00</td>\n",
       "    </tr>\n",
       "    <tr>\n",
       "      <th>1</th>\n",
       "      <td>p069063</td>\n",
       "      <td>Bouncy Bands for Desks (Blue support pipes)</td>\n",
       "      <td>3</td>\n",
       "      <td>14.95</td>\n",
       "    </tr>\n",
       "  </tbody>\n",
       "</table>\n",
       "</div>"
      ],
      "text/plain": [
       "        id                                        description  quantity  \\\n",
       "0  p233245  LC652 - Lakeshore Double-Space Mobile Drying Rack         1   \n",
       "1  p069063        Bouncy Bands for Desks (Blue support pipes)         3   \n",
       "\n",
       "    price  \n",
       "0  149.00  \n",
       "1   14.95  "
      ]
     },
     "execution_count": 11,
     "metadata": {},
     "output_type": "execute_result"
    }
   ],
   "source": [
    "print(\"Number of data points in train data\", resource_data.shape)\n",
    "print(resource_data.columns.values)\n",
    "resource_data.head(2)"
   ]
  },
  {
   "cell_type": "markdown",
   "metadata": {
    "colab_type": "text",
    "id": "6WZaYhwJCymp"
   },
   "source": [
    "## 1.2 preprocessing of `project_subject_categories`"
   ]
  },
  {
   "cell_type": "code",
   "execution_count": 12,
   "metadata": {
    "colab": {},
    "colab_type": "code",
    "id": "Mdkhq7PRCymr"
   },
   "outputs": [],
   "source": [
    "catogories = list(project_data['project_subject_categories'].values)\n",
    "# remove special characters from list of strings python: https://stackoverflow.com/a/47301924/4084039\n",
    "\n",
    "# https://www.geeksforgeeks.org/removing-stop-words-nltk-python/\n",
    "# https://stackoverflow.com/questions/23669024/how-to-strip-a-specific-word-from-a-string\n",
    "# https://stackoverflow.com/questions/8270092/remove-all-whitespace-in-a-string-in-python\n",
    "cat_list = []\n",
    "for i in catogories:\n",
    "    temp = \"\"\n",
    "    # consider we have text like this \"Math & Science, Warmth, Care & Hunger\"\n",
    "    for j in i.split(','): # it will split it in three parts [\"Math & Science\", \"Warmth\", \"Care & Hunger\"]\n",
    "        if 'The' in j.split(): # this will split each of the catogory based on space \"Math & Science\"=> \"Math\",\"&\", \"Science\"\n",
    "            j=j.replace('The','') # if we have the words \"The\" we are going to replace it with ''(i.e removing 'The')\n",
    "        j = j.replace(' ','') # we are placeing all the ' '(space) with ''(empty) ex:\"Math & Science\"=>\"Math&Science\"\n",
    "        temp+=j.strip()+\" \" #\" abc \".strip() will return \"abc\", remove the trailing spaces\n",
    "        temp = temp.replace('&','_') # we are replacing the & value into \n",
    "    cat_list.append(temp.strip())\n",
    "    \n",
    "project_data['clean_categories'] = cat_list\n",
    "project_data.drop(['project_subject_categories'], axis=1, inplace=True)\n",
    "\n",
    "from collections import Counter\n",
    "my_counter = Counter()\n",
    "for word in project_data['clean_categories'].values:\n",
    "    my_counter.update(word.split())\n",
    "\n",
    "cat_dict = dict(my_counter)\n",
    "sorted_cat_dict = dict(sorted(cat_dict.items(), key=lambda kv: kv[1]))\n"
   ]
  },
  {
   "cell_type": "markdown",
   "metadata": {
    "colab_type": "text",
    "id": "386yx3T2Cymv"
   },
   "source": [
    "## 1.3 preprocessing of `project_subject_subcategories`"
   ]
  },
  {
   "cell_type": "code",
   "execution_count": 13,
   "metadata": {
    "colab": {},
    "colab_type": "code",
    "id": "4QSP0r8XCymw"
   },
   "outputs": [],
   "source": [
    "sub_catogories = list(project_data['project_subject_subcategories'].values)\n",
    "# remove special characters from list of strings python: https://stackoverflow.com/a/47301924/4084039\n",
    "\n",
    "# https://www.geeksforgeeks.org/removing-stop-words-nltk-python/\n",
    "# https://stackoverflow.com/questions/23669024/how-to-strip-a-specific-word-from-a-string\n",
    "# https://stackoverflow.com/questions/8270092/remove-all-whitespace-in-a-string-in-python\n",
    "\n",
    "sub_cat_list = []\n",
    "for i in sub_catogories:\n",
    "    temp = \"\"\n",
    "    # consider we have text like this \"Math & Science, Warmth, Care & Hunger\"\n",
    "    for j in i.split(','): # it will split it in three parts [\"Math & Science\", \"Warmth\", \"Care & Hunger\"]\n",
    "        if 'The' in j.split(): # this will split each of the catogory based on space \"Math & Science\"=> \"Math\",\"&\", \"Science\"\n",
    "            j=j.replace('The','') # if we have the words \"The\" we are going to replace it with ''(i.e removing 'The')\n",
    "        j = j.replace(' ','') # we are placeing all the ' '(space) with ''(empty) ex:\"Math & Science\"=>\"Math&Science\"\n",
    "        temp +=j.strip()+\" \"#\" abc \".strip() will return \"abc\", remove the trailing spaces\n",
    "        temp = temp.replace('&','_')\n",
    "    sub_cat_list.append(temp.strip())\n",
    "\n",
    "project_data['clean_subcategories'] = sub_cat_list\n",
    "project_data.drop(['project_subject_subcategories'], axis=1, inplace=True)\n",
    "\n",
    "# count of all the words in corpus python: https://stackoverflow.com/a/22898595/4084039\n",
    "my_counter = Counter()\n",
    "for word in project_data['clean_subcategories'].values:\n",
    "    my_counter.update(word.split())\n",
    "    \n",
    "sub_cat_dict = dict(my_counter)\n",
    "sorted_sub_cat_dict = dict(sorted(sub_cat_dict.items(), key=lambda kv: kv[1]))"
   ]
  },
  {
   "cell_type": "markdown",
   "metadata": {
    "colab_type": "text",
    "id": "NANzhWlLCynN"
   },
   "source": [
    "## 1.3 Text preprocessing"
   ]
  },
  {
   "cell_type": "code",
   "execution_count": 14,
   "metadata": {
    "colab": {},
    "colab_type": "code",
    "id": "yqsmu-BTCynQ"
   },
   "outputs": [],
   "source": [
    "# merge two column text dataframe: \n",
    "project_data[\"essay\"] = project_data[\"project_essay_1\"].map(str) +\\\n",
    "                        project_data[\"project_essay_2\"].map(str) + \\\n",
    "                        project_data[\"project_essay_3\"].map(str) + \\\n",
    "                        project_data[\"project_essay_4\"].map(str)"
   ]
  },
  {
   "cell_type": "code",
   "execution_count": 15,
   "metadata": {
    "colab": {},
    "colab_type": "code",
    "id": "xxtnd3maCynV",
    "outputId": "2002cbb7-9006-4764-ee13-c990d1a3a99e"
   },
   "outputs": [
    {
     "data": {
      "text/html": [
       "<div>\n",
       "<style scoped>\n",
       "    .dataframe tbody tr th:only-of-type {\n",
       "        vertical-align: middle;\n",
       "    }\n",
       "\n",
       "    .dataframe tbody tr th {\n",
       "        vertical-align: top;\n",
       "    }\n",
       "\n",
       "    .dataframe thead th {\n",
       "        text-align: right;\n",
       "    }\n",
       "</style>\n",
       "<table border=\"1\" class=\"dataframe\">\n",
       "  <thead>\n",
       "    <tr style=\"text-align: right;\">\n",
       "      <th></th>\n",
       "      <th>Unnamed: 0</th>\n",
       "      <th>id</th>\n",
       "      <th>teacher_id</th>\n",
       "      <th>teacher_prefix</th>\n",
       "      <th>school_state</th>\n",
       "      <th>Date</th>\n",
       "      <th>project_grade_category</th>\n",
       "      <th>project_title</th>\n",
       "      <th>project_essay_1</th>\n",
       "      <th>project_essay_2</th>\n",
       "      <th>project_essay_3</th>\n",
       "      <th>project_essay_4</th>\n",
       "      <th>project_resource_summary</th>\n",
       "      <th>teacher_number_of_previously_posted_projects</th>\n",
       "      <th>clean_categories</th>\n",
       "      <th>clean_subcategories</th>\n",
       "      <th>essay</th>\n",
       "    </tr>\n",
       "  </thead>\n",
       "  <tbody>\n",
       "    <tr>\n",
       "      <th>55660</th>\n",
       "      <td>8393</td>\n",
       "      <td>p205479</td>\n",
       "      <td>2bf07ba08945e5d8b2a3f269b2b3cfe5</td>\n",
       "      <td>Mrs.</td>\n",
       "      <td>CA</td>\n",
       "      <td>2016-04-27 00:27:36</td>\n",
       "      <td>Grades PreK-2</td>\n",
       "      <td>Engineering STEAM into the Primary Classroom</td>\n",
       "      <td>I have been fortunate enough to use the Fairy ...</td>\n",
       "      <td>My students come from a variety of backgrounds...</td>\n",
       "      <td>Each month I try to do several science or STEM...</td>\n",
       "      <td>It is challenging to develop high quality scie...</td>\n",
       "      <td>My students need STEM kits to learn critical s...</td>\n",
       "      <td>53</td>\n",
       "      <td>Math_Science</td>\n",
       "      <td>AppliedSciences Health_LifeScience</td>\n",
       "      <td>I have been fortunate enough to use the Fairy ...</td>\n",
       "    </tr>\n",
       "    <tr>\n",
       "      <th>76127</th>\n",
       "      <td>37728</td>\n",
       "      <td>p043609</td>\n",
       "      <td>3f60494c61921b3b43ab61bdde2904df</td>\n",
       "      <td>Ms.</td>\n",
       "      <td>UT</td>\n",
       "      <td>2016-04-27 00:31:25</td>\n",
       "      <td>Grades 3-5</td>\n",
       "      <td>Sensory Tools for Focus</td>\n",
       "      <td>Imagine being 8-9 years old. You're in your th...</td>\n",
       "      <td>Most of my students have autism, anxiety, anot...</td>\n",
       "      <td>It is tough to do more than one thing at a tim...</td>\n",
       "      <td>When my students are able to calm themselves d...</td>\n",
       "      <td>My students need Boogie Boards for quiet senso...</td>\n",
       "      <td>4</td>\n",
       "      <td>SpecialNeeds</td>\n",
       "      <td>SpecialNeeds</td>\n",
       "      <td>Imagine being 8-9 years old. You're in your th...</td>\n",
       "    </tr>\n",
       "  </tbody>\n",
       "</table>\n",
       "</div>"
      ],
      "text/plain": [
       "       Unnamed: 0       id                        teacher_id teacher_prefix  \\\n",
       "55660        8393  p205479  2bf07ba08945e5d8b2a3f269b2b3cfe5           Mrs.   \n",
       "76127       37728  p043609  3f60494c61921b3b43ab61bdde2904df            Ms.   \n",
       "\n",
       "      school_state                Date project_grade_category  \\\n",
       "55660           CA 2016-04-27 00:27:36          Grades PreK-2   \n",
       "76127           UT 2016-04-27 00:31:25             Grades 3-5   \n",
       "\n",
       "                                      project_title  \\\n",
       "55660  Engineering STEAM into the Primary Classroom   \n",
       "76127                       Sensory Tools for Focus   \n",
       "\n",
       "                                         project_essay_1  \\\n",
       "55660  I have been fortunate enough to use the Fairy ...   \n",
       "76127  Imagine being 8-9 years old. You're in your th...   \n",
       "\n",
       "                                         project_essay_2  \\\n",
       "55660  My students come from a variety of backgrounds...   \n",
       "76127  Most of my students have autism, anxiety, anot...   \n",
       "\n",
       "                                         project_essay_3  \\\n",
       "55660  Each month I try to do several science or STEM...   \n",
       "76127  It is tough to do more than one thing at a tim...   \n",
       "\n",
       "                                         project_essay_4  \\\n",
       "55660  It is challenging to develop high quality scie...   \n",
       "76127  When my students are able to calm themselves d...   \n",
       "\n",
       "                                project_resource_summary  \\\n",
       "55660  My students need STEM kits to learn critical s...   \n",
       "76127  My students need Boogie Boards for quiet senso...   \n",
       "\n",
       "       teacher_number_of_previously_posted_projects clean_categories  \\\n",
       "55660                                            53     Math_Science   \n",
       "76127                                             4     SpecialNeeds   \n",
       "\n",
       "                      clean_subcategories  \\\n",
       "55660  AppliedSciences Health_LifeScience   \n",
       "76127                        SpecialNeeds   \n",
       "\n",
       "                                                   essay  \n",
       "55660  I have been fortunate enough to use the Fairy ...  \n",
       "76127  Imagine being 8-9 years old. You're in your th...  "
      ]
     },
     "execution_count": 15,
     "metadata": {},
     "output_type": "execute_result"
    }
   ],
   "source": [
    "project_data.head(2)"
   ]
  },
  {
   "cell_type": "code",
   "execution_count": 16,
   "metadata": {
    "colab": {},
    "colab_type": "code",
    "id": "2ou8qSzkCyna"
   },
   "outputs": [],
   "source": [
    "#### 1.4.2.3 Using Pretrained Models: TFIDF weighted W2V"
   ]
  },
  {
   "cell_type": "code",
   "execution_count": 17,
   "metadata": {
    "colab": {},
    "colab_type": "code",
    "id": "TCl7L1DhCyne",
    "outputId": "c1e9c200-8868-4b26-adbd-7836d815abef"
   },
   "outputs": [
    {
     "name": "stdout",
     "output_type": "stream",
     "text": [
      "I have been fortunate enough to use the Fairy Tale STEM kits in my classroom as well as the STEM journals, which my students really enjoyed.  I would love to implement more of the Lakeshore STEM kits in my classroom for the next school year as they provide excellent and engaging STEM lessons.My students come from a variety of backgrounds, including language and socioeconomic status.  Many of them don't have a lot of experience in science and engineering and these kits give me the materials to provide these exciting opportunities for my students.Each month I try to do several science or STEM/STEAM projects.  I would use the kits and robot to help guide my science instruction in engaging and meaningful ways.  I can adapt the kits to my current language arts pacing guide where we already teach some of the material in the kits like tall tales (Paul Bunyan) or Johnny Appleseed.  The following units will be taught in the next school year where I will implement these kits: magnets, motion, sink vs. float, robots.  I often get to these units and don't know If I am teaching the right way or using the right materials.    The kits will give me additional ideas, strategies, and lessons to prepare my students in science.It is challenging to develop high quality science activities.  These kits give me the materials I need to provide my students with science activities that will go along with the curriculum in my classroom.  Although I have some things (like magnets) in my classroom, I don't know how to use them effectively.  The kits will provide me with the right amount of materials and show me how to use them in an appropriate way.\n",
      "==================================================\n",
      "I teach high school English to students with learning and behavioral disabilities. My students all vary in their ability level. However, the ultimate goal is to increase all students literacy levels. This includes their reading, writing, and communication levels.I teach a really dynamic group of students. However, my students face a lot of challenges. My students all live in poverty and in a dangerous neighborhood. Despite these challenges, I have students who have the the desire to defeat these challenges. My students all have learning disabilities and currently all are performing below grade level. My students are visual learners and will benefit from a classroom that fulfills their preferred learning style.The materials I am requesting will allow my students to be prepared for the classroom with the necessary supplies.  Too often I am challenged with students who come to school unprepared for class due to economic challenges.  I want my students to be able to focus on learning and not how they will be able to get school supplies.  The supplies will last all year.  Students will be able to complete written assignments and maintain a classroom journal.  The chart paper will be used to make learning more visual in class and to create posters to aid students in their learning.  The students have access to a classroom printer.  The toner will be used to print student work that is completed on the classroom Chromebooks.I want to try and remove all barriers for the students learning and create opportunities for learning. One of the biggest barriers is the students not having the resources to get pens, paper, and folders. My students will be able to increase their literacy skills because of this project.\n",
      "==================================================\n",
      "\\\"Life moves pretty fast. If you don't stop and look around once in awhile, you could miss it.\\\"  from the movie, Ferris Bueller's Day Off.  Think back...what do you remember about your grandparents?  How amazing would it be to be able to flip through a book to see a day in their lives?My second graders are voracious readers! They love to read both fiction and nonfiction books.  Their favorite characters include Pete the Cat, Fly Guy, Piggie and Elephant, and Mercy Watson. They also love to read about insects, space and plants. My students are hungry bookworms! My students are eager to learn and read about the world around them. My kids love to be at school and are like little sponges absorbing everything around them. Their parents work long hours and usually do not see their children. My students are usually cared for by their grandparents or a family friend. Most of my students do not have someone who speaks English at home. Thus it is difficult for my students to acquire language.Now think forward... wouldn't it mean a lot to your kids, nieces or nephews or grandchildren, to be able to see a day in your life today 30 years from now? Memories are so precious to us and being able to share these memories with future generations will be a rewarding experience.  As part of our social studies curriculum, students will be learning about changes over time.  Students will be studying photos to learn about how their community has changed over time.  In particular, we will look at photos to study how the land, buildings, clothing, and schools have changed over time.  As a culminating activity, my students will capture a slice of their history and preserve it through scrap booking. Key important events in their young lives will be documented with the date, location, and names.   Students will be using photos from home and from school to create their second grade memories.   Their scrap books will preserve their unique stories for future generations to enjoy.Your donation to this project will provide my second graders with an opportunity to learn about social studies in a fun and creative manner.  Through their scrapbooks, children will share their story with others and have a historical document for the rest of their lives.\n",
      "==================================================\n",
      "Some of my students come from difficult family lives, but they don't let that stop them. We have built a community in our classroom that allows each student to be comfortable with who they are. Even though we are a diverse school, everyone feels included. We have a high Hispanic population, and about 90% of the students are on free or reduced-price lunch. Most students are living with a single parent or both parents work full time, although many parents are eager to help in any way they can.\\r\\nWe all know how important it is to get kids up and moving. I want my classroom to be a place where students can be active phyically and mentally. The requested items will allow my students to move all day. When they are sitting in a chair, their movement is limited.\\r\\n       Kindergarten students have a hard time sitting still for long periods of time. They would much rather bounce on a stability ball or wiggle on a cushion than sit in a hard chair. Having these choices in my classroom will allow students to be active and learn at the same time. \\r\\n        Having these choices in my classroom will also build a greater bond between the students.  They will learn to choose which seat best fits their learning style, and hopefully they will be able to help their classmates find a seat that works for them. As the students move around the room, they will be able to work with everyone instead of being with one group each day.nannan\n",
      "==================================================\n",
      "\\\"This is how mathematicians do it! Remember we are all mathematicians in this classroom!\\\" A few simple words repeated regularly-words that instill a sense of pride in each of my students!\\r\\n\\r\\nI am proud to teach math in rural Alabama where our Title I school has both administrator and parental support.\\r\\nThis sense of community pride has been instilled in the students. It is visible in the respect they give both faculty and visitors to our campus. It is apparent in their love of learning. Our parents want the best for their children, but many of them, due to their own economic concerns, can offer very little in the way of anything more than just the basics. Many of our students live in homes without computers or Internet access. I feel that due to the socioeconomic status of many of my students it is my job to level the playing field as much as possible so that my students will have the same learning opportunities as other students and will be able to compete in the global market.Many of my students come from low socioeconomic homes. These homes have little in the way of hands on toys. In addition, even those from affluent backgrounds, are more interested in electronics  than \\\"old fashion\\\" toys. As a result, more and more students, find measurement- especially area, a very abstract concept!\\r\\n  Building bricks would provide students a hands on opportunity to explore measurement and area in an engaging way! Not only would students be able to explore measurement, but also to learn more about the real world skills of designing and building structures. It would also encourage teamwork and problem solving as students developed an idea and then worked to implement their idea.\\r\\n   How exciting would it be for students to have the opportunity to not only learn so much, but to also have fun through such a simple items as building bricks!\\r\\nnannan\n",
      "==================================================\n"
     ]
    }
   ],
   "source": [
    "# printing some random reviews\n",
    "print(project_data['essay'].values[0])\n",
    "print(\"=\"*50)\n",
    "print(project_data['essay'].values[150])\n",
    "print(\"=\"*50)\n",
    "print(project_data['essay'].values[1000])\n",
    "print(\"=\"*50)\n",
    "print(project_data['essay'].values[20000])\n",
    "print(\"=\"*50)\n",
    "print(project_data['essay'].values[99999])\n",
    "print(\"=\"*50)"
   ]
  },
  {
   "cell_type": "code",
   "execution_count": 18,
   "metadata": {
    "colab": {},
    "colab_type": "code",
    "id": "Yqj4vGVoCynh"
   },
   "outputs": [],
   "source": [
    "# https://stackoverflow.com/a/47091490/4084039\n",
    "import re\n",
    "\n",
    "def decontracted(phrase):\n",
    "    # specific\n",
    "    phrase = re.sub(r\"won't\", \"will not\", phrase)\n",
    "    phrase = re.sub(r\"can\\'t\", \"can not\", phrase)\n",
    "\n",
    "    # general\n",
    "    phrase = re.sub(r\"n\\'t\", \" not\", phrase)\n",
    "    phrase = re.sub(r\"\\'re\", \" are\", phrase)\n",
    "    phrase = re.sub(r\"\\'s\", \" is\", phrase)\n",
    "    phrase = re.sub(r\"\\'d\", \" would\", phrase)\n",
    "    phrase = re.sub(r\"\\'ll\", \" will\", phrase)\n",
    "    phrase = re.sub(r\"\\'t\", \" not\", phrase)\n",
    "    phrase = re.sub(r\"\\'ve\", \" have\", phrase)\n",
    "    phrase = re.sub(r\"\\'m\", \" am\", phrase)\n",
    "    return phrase"
   ]
  },
  {
   "cell_type": "code",
   "execution_count": 19,
   "metadata": {
    "colab": {},
    "colab_type": "code",
    "id": "aDUbe9piCynj",
    "outputId": "cd082bbf-9ba2-4373-ea65-73c45627bb7d"
   },
   "outputs": [
    {
     "name": "stdout",
     "output_type": "stream",
     "text": [
      "Some of my students come from difficult family lives, but they do not let that stop them. We have built a community in our classroom that allows each student to be comfortable with who they are. Even though we are a diverse school, everyone feels included. We have a high Hispanic population, and about 90% of the students are on free or reduced-price lunch. Most students are living with a single parent or both parents work full time, although many parents are eager to help in any way they can.\\r\\nWe all know how important it is to get kids up and moving. I want my classroom to be a place where students can be active phyically and mentally. The requested items will allow my students to move all day. When they are sitting in a chair, their movement is limited.\\r\\n       Kindergarten students have a hard time sitting still for long periods of time. They would much rather bounce on a stability ball or wiggle on a cushion than sit in a hard chair. Having these choices in my classroom will allow students to be active and learn at the same time. \\r\\n        Having these choices in my classroom will also build a greater bond between the students.  They will learn to choose which seat best fits their learning style, and hopefully they will be able to help their classmates find a seat that works for them. As the students move around the room, they will be able to work with everyone instead of being with one group each day.nannan\n",
      "==================================================\n"
     ]
    }
   ],
   "source": [
    "sent = decontracted(project_data['essay'].values[20000])\n",
    "print(sent)\n",
    "print(\"=\"*50)"
   ]
  },
  {
   "cell_type": "code",
   "execution_count": 20,
   "metadata": {
    "colab": {},
    "colab_type": "code",
    "id": "vXSbHYJ4Cynp",
    "outputId": "1becc1e1-bb25-48aa-f44f-32c99df9e13a"
   },
   "outputs": [
    {
     "name": "stdout",
     "output_type": "stream",
     "text": [
      "Some of my students come from difficult family lives, but they do not let that stop them. We have built a community in our classroom that allows each student to be comfortable with who they are. Even though we are a diverse school, everyone feels included. We have a high Hispanic population, and about 90% of the students are on free or reduced-price lunch. Most students are living with a single parent or both parents work full time, although many parents are eager to help in any way they can.  We all know how important it is to get kids up and moving. I want my classroom to be a place where students can be active phyically and mentally. The requested items will allow my students to move all day. When they are sitting in a chair, their movement is limited.         Kindergarten students have a hard time sitting still for long periods of time. They would much rather bounce on a stability ball or wiggle on a cushion than sit in a hard chair. Having these choices in my classroom will allow students to be active and learn at the same time.           Having these choices in my classroom will also build a greater bond between the students.  They will learn to choose which seat best fits their learning style, and hopefully they will be able to help their classmates find a seat that works for them. As the students move around the room, they will be able to work with everyone instead of being with one group each day.nannan\n"
     ]
    }
   ],
   "source": [
    "# \\r \\n \\t remove from string python: http://texthandler.com/info/remove-line-breaks-python/\n",
    "sent = sent.replace('\\\\r', ' ')\n",
    "sent = sent.replace('\\\\\"', ' ')\n",
    "sent = sent.replace('\\\\n', ' ')\n",
    "print(sent)"
   ]
  },
  {
   "cell_type": "code",
   "execution_count": 21,
   "metadata": {
    "colab": {},
    "colab_type": "code",
    "id": "67Agrz_YCynt",
    "outputId": "ec6bf4e3-c419-4740-9989-fa53128abe20"
   },
   "outputs": [
    {
     "name": "stdout",
     "output_type": "stream",
     "text": [
      "Some of my students come from difficult family lives but they do not let that stop them We have built a community in our classroom that allows each student to be comfortable with who they are Even though we are a diverse school everyone feels included We have a high Hispanic population and about 90 of the students are on free or reduced price lunch Most students are living with a single parent or both parents work full time although many parents are eager to help in any way they can We all know how important it is to get kids up and moving I want my classroom to be a place where students can be active phyically and mentally The requested items will allow my students to move all day When they are sitting in a chair their movement is limited Kindergarten students have a hard time sitting still for long periods of time They would much rather bounce on a stability ball or wiggle on a cushion than sit in a hard chair Having these choices in my classroom will allow students to be active and learn at the same time Having these choices in my classroom will also build a greater bond between the students They will learn to choose which seat best fits their learning style and hopefully they will be able to help their classmates find a seat that works for them As the students move around the room they will be able to work with everyone instead of being with one group each day nannan\n"
     ]
    }
   ],
   "source": [
    "#remove spacial character: https://stackoverflow.com/a/5843547/4084039\n",
    "sent = re.sub('[^A-Za-z0-9]+', ' ', sent)\n",
    "print(sent)"
   ]
  },
  {
   "cell_type": "code",
   "execution_count": 22,
   "metadata": {
    "colab": {},
    "colab_type": "code",
    "id": "hhyPw-8wCyny"
   },
   "outputs": [],
   "source": [
    "# https://gist.github.com/sebleier/554280\n",
    "# we are removing the words from the stop words list: 'no', 'nor', 'not'\n",
    "stopwords= ['i', 'me', 'my', 'myself', 'we', 'our', 'ours', 'ourselves', 'you', \"you're\", \"you've\",\\\n",
    "            \"you'll\", \"you'd\", 'your', 'yours', 'yourself', 'yourselves', 'he', 'him', 'his', 'himself', \\\n",
    "            'she', \"she's\", 'her', 'hers', 'herself', 'it', \"it's\", 'its', 'itself', 'they', 'them', 'their',\\\n",
    "            'theirs', 'themselves', 'what', 'which', 'who', 'whom', 'this', 'that', \"that'll\", 'these', 'those', \\\n",
    "            'am', 'is', 'are', 'was', 'were', 'be', 'been', 'being', 'have', 'has', 'had', 'having', 'do', 'does', \\\n",
    "            'did', 'doing', 'a', 'an', 'the', 'and', 'but', 'if', 'or', 'because', 'as', 'until', 'while', 'of', \\\n",
    "            'at', 'by', 'for', 'with', 'about', 'against', 'between', 'into', 'through', 'during', 'before', 'after',\\\n",
    "            'above', 'below', 'to', 'from', 'up', 'down', 'in', 'out', 'on', 'off', 'over', 'under', 'again', 'further',\\\n",
    "            'then', 'once', 'here', 'there', 'when', 'where', 'why', 'how', 'all', 'any', 'both', 'each', 'few', 'more',\\\n",
    "            'most', 'other', 'some', 'such', 'only', 'own', 'same', 'so', 'than', 'too', 'very', \\\n",
    "            's', 't', 'can', 'will', 'just', 'don', \"don't\", 'should', \"should've\", 'now', 'd', 'll', 'm', 'o', 're', \\\n",
    "            've', 'y', 'ain', 'aren', \"aren't\", 'couldn', \"couldn't\", 'didn', \"didn't\", 'doesn', \"doesn't\", 'hadn',\\\n",
    "            \"hadn't\", 'hasn', \"hasn't\", 'haven', \"haven't\", 'isn', \"isn't\", 'ma', 'mightn', \"mightn't\", 'mustn',\\\n",
    "            \"mustn't\", 'needn', \"needn't\", 'shan', \"shan't\", 'shouldn', \"shouldn't\", 'wasn', \"wasn't\", 'weren', \"weren't\", \\\n",
    "            'won', \"won't\", 'wouldn', \"wouldn't\"]"
   ]
  },
  {
   "cell_type": "code",
   "execution_count": 23,
   "metadata": {
    "colab": {},
    "colab_type": "code",
    "id": "d6RCdphRCyn0",
    "outputId": "a59d693e-fa5b-4821-e173-e308905b96d5"
   },
   "outputs": [
    {
     "name": "stderr",
     "output_type": "stream",
     "text": [
      "100%|████████████████████████████████████████████████████████████████████████| 109245/109245 [01:01<00:00, 1772.49it/s]\n"
     ]
    }
   ],
   "source": [
    "# Combining all the above stundents \n",
    "from tqdm import tqdm\n",
    "preprocessed_essays = []\n",
    "# tqdm is for printing the status bar\n",
    "for sentance in tqdm(project_data['essay'].values):\n",
    "    sent = decontracted(sentance)\n",
    "    sent = sent.replace('\\\\r', ' ')\n",
    "    sent = sent.replace('\\\\\"', ' ')\n",
    "    sent = sent.replace('\\\\n', ' ')\n",
    "    sent = re.sub('[^A-Za-z0-9]+', ' ', sent)\n",
    "    # https://gist.github.com/sebleier/554280\n",
    "    sent = ' '.join(e for e in sent.split() if e.lower() not in stopwords)\n",
    "    preprocessed_essays.append(sent.lower().strip())"
   ]
  },
  {
   "cell_type": "code",
   "execution_count": 24,
   "metadata": {},
   "outputs": [
    {
     "data": {
      "text/plain": [
       "109245"
      ]
     },
     "execution_count": 24,
     "metadata": {},
     "output_type": "execute_result"
    }
   ],
   "source": [
    "len(preprocessed_essays)                                                                    "
   ]
  },
  {
   "cell_type": "code",
   "execution_count": 25,
   "metadata": {
    "colab": {},
    "colab_type": "code",
    "id": "rPo9cLvNCyn3",
    "outputId": "f4069bd0-65e3-46af-e799-f7e9132301bb"
   },
   "outputs": [
    {
     "data": {
      "text/plain": [
       "'students come difficult family lives not let stop built community classroom allows student comfortable even though diverse school everyone feels included high hispanic population 90 students free reduced price lunch students living single parent parents work full time although many parents eager help way know important get kids moving want classroom place students active phyically mentally requested items allow students move day sitting chair movement limited kindergarten students hard time sitting still long periods time would much rather bounce stability ball wiggle cushion sit hard chair choices classroom allow students active learn time choices classroom also build greater bond students learn choose seat best fits learning style hopefully able help classmates find seat works students move around room able work everyone instead one group day nannan'"
      ]
     },
     "execution_count": 25,
     "metadata": {},
     "output_type": "execute_result"
    }
   ],
   "source": [
    "# after preprocesing\n",
    "preprocessed_essays[20000]"
   ]
  },
  {
   "cell_type": "code",
   "execution_count": null,
   "metadata": {},
   "outputs": [],
   "source": []
  },
  {
   "cell_type": "code",
   "execution_count": 26,
   "metadata": {},
   "outputs": [
    {
     "name": "stderr",
     "output_type": "stream",
     "text": [
      "100%|███████████████████████████████████████████████████████████████████████| 109245/109245 [00:06<00:00, 16110.25it/s]\n"
     ]
    }
   ],
   "source": [
    "project_resource_summary = []\n",
    "# tqdm is for printing the status bar\n",
    "for sentance in tqdm(project_data['project_resource_summary'].values):\n",
    "    sent = decontracted(sentance)\n",
    "    sent = sent.replace('\\\\r', ' ')\n",
    "    sent = sent.replace('\\\\\"', ' ')\n",
    "    sent = sent.replace('\\\\n', ' ')\n",
    "    sent = re.sub('[^A-Za-z0-9]+', ' ', sent)\n",
    "    # https://gist.github.com/sebleier/554280\n",
    "    sent = ' '.join(e for e in sent.split() if e.lower() not in stopwords)\n",
    "    project_resource_summary.append(sent.lower().strip())"
   ]
  },
  {
   "cell_type": "code",
   "execution_count": 27,
   "metadata": {},
   "outputs": [
    {
     "data": {
      "text/plain": [
       "109245"
      ]
     },
     "execution_count": 27,
     "metadata": {},
     "output_type": "execute_result"
    }
   ],
   "source": [
    "len(project_resource_summary)"
   ]
  },
  {
   "cell_type": "code",
   "execution_count": 28,
   "metadata": {},
   "outputs": [
    {
     "data": {
      "text/plain": [
       "['students need stem kits learn critical science engineering skills kits focus important science concepts robot works engineering skills',\n",
       " 'students need boogie boards quiet sensory breaks putty sensory input focus',\n",
       " 'students need mobile listening center able enhance learning',\n",
       " 'students need flexible seating classroom choose comfortable learn best',\n",
       " 'students need copies new york times best seller wonder book okay think deeply compare contrast structures',\n",
       " 'students need items breakout box including different types locks pens invisible ink keep activities instruction fun engaging',\n",
       " 'students need flexible seating options allow work personal best ability need standing desks wiggle chairs tables collaboration',\n",
       " 'students need ipad mini accessories produce movies support collaborative creative projects share understanding science social studies content',\n",
       " 'students need 1 ipad mini',\n",
       " 'students need dash dot pack wonder pack explore possibilities coding beginners',\n",
       " 'students need 5 hokki stools easel wheels help make classroom mobile',\n",
       " 'students need film capable drone gopro action camera film unique footage make videos promote great school two outdated cameras right',\n",
       " 'students need robot mouse stem activity set explore wonders robotics programming',\n",
       " 'students need real world cross curricular content magazine integrate engaging informational text classroom',\n",
       " 'students need various books kits games enhance supplement stem curriculum',\n",
       " 'students need headphones microphones use ipads every student class ipad use every day enhance learning',\n",
       " 'students need virtual reality viewers hold personal devices 360 cameras create virtual field trips',\n",
       " 'students need ipad osmo learning system allow become better readers foster love reading',\n",
       " 'students need books help support historical fiction book clubs fiction book clubs book clubs essential helping young readers develop skills',\n",
       " 'students need ya novels improve love reading participate class lessons lessons driven based choice novels',\n",
       " 'students need shopping carts parachute kidfetti beads',\n",
       " 'students need many rolls duct tape',\n",
       " 'students need 30 copies rudolfo anaya bless ultima 80 copies walter dean myers monster',\n",
       " 'students need ipad mini protective case explore world',\n",
       " 'students need ipad mini headphones ipads document camera osmo gaming center butterfly growing kit alphabet stamps new writing center',\n",
       " 'students need highlighters magnetic letters dry erase markers materials help students literacy groups',\n",
       " 'students need rhyme building words letter recognition sight word puzzles name centers help develop literacy knowledge',\n",
       " 'students need bilingual spanish books available school library',\n",
       " 'students need 3 cameras accessories school photography club',\n",
       " 'students need phonics reading comprehension games materials support small group response intervention sessions',\n",
       " 'students need draw write journals crayons table caddies build writing skills learn organize writing materials tables',\n",
       " 'students need musical instruments develop social skills necessary kids autism',\n",
       " 'students need better discus throwing equipment order enhance discus throwing event skills',\n",
       " 'students need horseshoe table lesson',\n",
       " 'students need ipad mini cases protect new ipad minis received year students not use protective covers',\n",
       " 'students need fitness supplies support healthy activity motivation',\n",
       " 'students need instruments band program apollo ridge school district grown significantly thank consideration',\n",
       " 'students need color coded book bins store organize books make choosing book reading level much easier',\n",
       " 'students need document camera help every student see modeling lessons',\n",
       " 'students need dinosaurs career costumes dramatic play opportunities project based learning classroom',\n",
       " 'students need variety duct tape enhance aesthetics recycled stem projects',\n",
       " 'students need literacy center work creating words using knowledge letter sounds need read aloud books',\n",
       " 'students need 3d printer',\n",
       " 'students need general accessories assist quality practices need ability give instant feedback',\n",
       " 'students need digital camera',\n",
       " 'students need work binder organizes work stays room need 10 binders plastic organizers pencils student',\n",
       " 'students need 48 led smart tv high speed hdmi cord invision tv wall mount aid student observation visualization',\n",
       " 'students need color printer replacement toner cartridges mobile scanner',\n",
       " 'students need comfortable working stations classroom not sitting uncomfortable desk chairs beanbag chairs would help',\n",
       " 'students need inquiry notebooks help dive deeper content taught students need folders hold papers given stay organized',\n",
       " 'students need 3d printer use technology apply learned science math engineering arts',\n",
       " 'students need math manipulatives use whole group small group need able visualize different math concepts strategies',\n",
       " 'students need laptops research learning keyboarding skills',\n",
       " 'students need tablet track dojo points classroom help increase attendance school',\n",
       " 'reading pleasure strongly correlated academic achievement increased employment opportunities civic engagement students need books level',\n",
       " 'students need digital camera document evidence various cultural groups new york city cultural diversity project',\n",
       " 'students need contemporary nonfiction book like malala not educate also inspire',\n",
       " 'students need classroom organized',\n",
       " 'students need protect charge newly donated kindle fire tablets tripp lite charging sync station screen protectors',\n",
       " 'students need large low table clipboards storage organizers successfully implement alternative seating',\n",
       " 'students need art supplies replenish ones used year',\n",
       " 'students need comfortable seating working space allow us maximize space classroom',\n",
       " 'students need ipad minis help small group interventions extension activities',\n",
       " 'students need rug bean bag chairs lap desks several options sit complete work',\n",
       " 'students need computers classroom prepare third grade test take next year',\n",
       " 'students need classroom rocking chair share work listen read alouds read classmates',\n",
       " 'students need storytelling puppets books felt board help learn parts story',\n",
       " 'students need rain barrels compost bins farm school gardening project',\n",
       " 'students need markers create index cards retell stories read book containers',\n",
       " 'students need storytelling puppets books felt board help learn parts story',\n",
       " 'students need know powerful writing would love four new bean bag chairs comfortable place learn',\n",
       " 'students need different approach literacy math teamwork art need ipads osmos classroom excel progress help engage students',\n",
       " 'students need 25 books improve passion reading including many stuart gibbs books books favorite authors',\n",
       " 'students need white board paddles whole group activities math paddles make easier teacher check students work kids love',\n",
       " 'students need pots pans baking sheets frying pans fully able understand cook meal',\n",
       " 'students need trx suspension trainers athletic rubber bands foam rollers move conducted practice swim team',\n",
       " 'students need stability ball seats allow small movements seats provide increased attention focus',\n",
       " 'students need 3 compex muscle stimulators order prevent rehabilitate bodies reach optimal level sports performance',\n",
       " 'students need planner organize assignments year not not budget rural district',\n",
       " 'students need books related science social studies students also need activity books help math concepts',\n",
       " 'students need writing utensils supplies help throughout day',\n",
       " 'students need variety magnets iron filings better understand magnet forces',\n",
       " 'students need two ipad mini apple care protection cases foster independent individually differentiated learning across content areas',\n",
       " 'students need earbuds assist listening comprehension develop language skills ell students',\n",
       " 'students need class set novel tales despereaux kate dicamillo use class read aloud',\n",
       " 'students need leveled books classroom easily accessible labeled appropriately reading abilities interests',\n",
       " 'students need learn use technology applications business students receive thorough understanding applied technology business',\n",
       " 'students need books instill love reading also help us books durable multiple uses',\n",
       " 'students need fiction non fiction leveled reading books',\n",
       " 'students need know use dictionary thesaurus',\n",
       " 'students need graphic novels maus persoplis improve reading writing english',\n",
       " 'students need ipad would allow coaching staff ability video events competitions would give better feedback events',\n",
       " 'students need tables allow cooperative groups increase student learning',\n",
       " 'students need giant wall map world dry erasable incorporate art stem classroom social studies 6 improve geographic literacy skills',\n",
       " 'students need technology help robotics dash dot robot accessory packs brick extensions makey makey ipad mini shockproof case',\n",
       " 'students need opportunities hear fluent readers read books like fairy tales doorbell rang chrysanthemum good models make great teachers',\n",
       " 'students need basic essentials writing',\n",
       " 'students need could not use new pencil sharpener point year things directly impact military students learning',\n",
       " 'students need 2 chromebooks practice evidence based writing access internet research online',\n",
       " 'students need collection carefully selected literature support units study reading writing workshop',\n",
       " 'students need three refurbished ipad mini headphones keyboards',\n",
       " 'students need good quality chair pocket help maintain organized work spaces denim chair pockets highest quality beautiful',\n",
       " 'students need class set binders hold shared reading order improve fluency partner time well materials highlight',\n",
       " 'students need nonfiction books improve comprehension students need nonfiction books help build real world vocabulary',\n",
       " 'students need megaphone track unit teachers use rotate students far blow horn start races',\n",
       " 'students need footballs soccer balls baseballs bats use adaptive pe',\n",
       " 'students need following organizational tools binders student data shelves store binders pocket charts student mailbox',\n",
       " 'students need opportunities engage emergent technology create listening center accessible students regardless language physical ability',\n",
       " 'students need outdoor art easel paint paper sand table modeling sand extend play outdoor time',\n",
       " 'students need actively involved current events',\n",
       " 'students need 2 ipod nanos update listening center',\n",
       " 'students need books use learning compare contrast learning different verb tenses',\n",
       " 'students need warm clothes play away games winter students need basketballs',\n",
       " 'students need flexible seating options wiggle stools yoga mats exercise balls supplies like clipboards whiteboards',\n",
       " 'students need 4 dividers create small group learning spaces concentrate learn',\n",
       " 'students need ipads research learn world art history',\n",
       " 'students need adidas micoach smart ball record data kicks use data used add real world relevance classroom',\n",
       " 'students need 1 ipad pro 1 protective case research complete classroom assignments also assist esl students',\n",
       " 'students need record player storage system incorporate music culture history lessons',\n",
       " 'students need experience using laptops want students technologically savvy today fast paced society need hands practice classroom',\n",
       " 'students need sensory resources extend learning',\n",
       " 'students need class sets 20 four novels help improve fluency comprehension reading literature',\n",
       " 'students need participate fun event last week physical education class',\n",
       " 'students need opportunity move get exercise learning using desks pedals great way students move focus learning',\n",
       " 'students need place sit look get excited art',\n",
       " 'students need 40 binders 1 student keep work',\n",
       " 'students need materials support becoming better independent readers would like able give materials use home school fourth grade bundle includes close reading comprehension teaching center gr 4 aa361 read respond using evidence card bank gr 4 pp494 close reading discussion clips fiction pp868 close reading discussion clips nonfiction pp869 fiction nonfiction paired passages gr 4 hh153 exploring folk tales poetry legends gr 4 5 hh963 amazing inventions high interest nonfiction text set ll853 animal adaptations high interest nonfiction text set gr 4 5 aa583 crack case inferencing center grade 4 pp554 reading comprehension practice cards gr 4 5 pp468 nonfiction reading comprehension cards gr 4 5 pp668 small group nonfiction comprehension folders gr 3 4 ff212',\n",
       " 'students need drums materials music class',\n",
       " 'students need costumes dolls doll clothes career figures learn correct social emotional habits guided dramatic play',\n",
       " 'students need 12 acer chromebooks writing research projects classroom used daily centers',\n",
       " 'students need pencils pens markers paper help get work completed need test prep books help prepare state test',\n",
       " 'students need basketballs playground balls help develop fundamentals needed sports',\n",
       " 'students need timers stay task',\n",
       " 'students need items listed order improve learning environment',\n",
       " 'students need hands math materials practice number sense counting',\n",
       " 'students need classroom set number stars lois lowry complete book study',\n",
       " 'students need english language resources develop language proficiency',\n",
       " 'students need proper choir folders music storage rehearsals class listed music folders storage slots practice materials choirs',\n",
       " 'students need new scripts perform speech competitions',\n",
       " 'students need bags keep books chosen read classroom library help keep books desks ready read',\n",
       " 'students need large screen monitors able see textbooks tests materials computer enlarged font',\n",
       " 'students need empowered art writing students need writing center lined paper markers glue write artists statements reflect',\n",
       " 'students need elmo document camera',\n",
       " 'students need projector document scanner',\n",
       " 'students need variety seating options stools specialty wobble stools',\n",
       " 'students need wobble stools keep bodies active wiggle learn',\n",
       " 'students need dvd player headphones supplement new classroom technology',\n",
       " 'students need 30 copies song solomon',\n",
       " 'students need leveled books read class home increase comprehension fiction non fiction text',\n",
       " 'students need small guided reading table classroom 6 students sit comfortably teacher provides phonics instruction',\n",
       " 'students need school supplies pens paper notebooks need toner classroom printer chart paper class discussions',\n",
       " 'students need activities use listening center need able work phonics phonemic skills',\n",
       " 'students need math manipulatives materials writing station like books whisper phones letter stamps help learn level pace',\n",
       " 'students need personal whiteboards markers erasers',\n",
       " 'students need wallballs fitness center wallballs provide students opportunity advance fitness skills',\n",
       " 'students need tables collaborate learn together',\n",
       " 'students need school supplies order complete projects successful classroom also need small graphing white boards since linear equations',\n",
       " 'students need class set headphones enhance improve music technology listening experiences classroom',\n",
       " 'students need stem kit lakeshore learning',\n",
       " 'students need stools balls incorporate flexible seating classroom stools balls used replace typical school chair',\n",
       " 'students need leveled readers instruct small reading intervention groups books range kindergarten level 3rd grade',\n",
       " 'students need read book engage inspire help pass ap test next year',\n",
       " 'students need bouncy bands help attention focus working classroom without disturbing others',\n",
       " 'students need stem kits challenge engage stem process students need stem journals record findings',\n",
       " 'students need 4 chrome books adding wonderful additions classroom enhance student knowledge love learning',\n",
       " 'students need 4 ipod shuffles listening center',\n",
       " 'students need two air dyne cardiovascular stationary bikes promote cardiovascular fitness address injured students need rehab accommodations',\n",
       " 'students need hoki stools seating',\n",
       " 'students need ceramics glaze ceramic tools sculpting students need canvas paints students need watercolors',\n",
       " 'students need 30 chrome books technology integrated everyday learning help fluency aid higher learning',\n",
       " 'students need classroom set nonfiction novels promote literacy longer complex nonfiction texts',\n",
       " 'students need feel welcomed upon entering school theme upcoming year dr seuss hoping buy dr seuss ribbon charts name tags etc',\n",
       " 'students need leveled non fiction informational books guided reading groups practice home tote bags carry books home additional practice',\n",
       " 'students need wide lined raised paper difficulty staying lines students need listen read rhyme practice reading skills',\n",
       " 'students need 30 copies unwind neal schusterman',\n",
       " 'students need ipad tripod mount green screen presentations',\n",
       " 'students need technology besides computer really neat students technology practice spelling math facts reading comfy setting',\n",
       " 'students need high resolution monitors keep higher resolutions required video production 12 year old crt monitors outdated',\n",
       " 'students need board magnetic place storage word work materials also small group reading place students write',\n",
       " 'students need books grade level reading many books right grade many students reading grade level',\n",
       " 'students need robots ipad accessories code first grade style',\n",
       " 'students need math games activities fractions decimals percent help explore mathematical minds creative fun way',\n",
       " 'students need fun games practice geometry skills',\n",
       " 'students need pencils erasers paper us take materials granted majority students not come school things',\n",
       " 'students need storage cart keep brag tags neat organized easily accessible',\n",
       " 'students need wobble stools bouncy bands allow move working',\n",
       " 'students need whiteboards effectively engage math lesson pencil sharper pencils sharp notebooks share ideas',\n",
       " 'students need weighted lap pads hearing protectors bouncy bands fidgets pencil grips support motor skills sensory needs',\n",
       " 'students need 19 books 1 oversized bean bag chair 36 square feet foam flooring complete reading nook classroom',\n",
       " 'students need 6 kites 7 games including horseshoes cornhole ladder toss football skill challenge ring toss increase outdoor fun play',\n",
       " 'students need materials art supplies number lines whiteboard markers successful whole student',\n",
       " 'students need arts crafts supplies school art club science club use rocks new girl scouts need white shirts uniforms',\n",
       " 'students need classroom supplies pencils crayons colored pencils well supplies order access curriculum',\n",
       " 'students need math manipulatives fill individual tool boxes student tools need succeed tool boxes used math daily 3',\n",
       " 'students need practice addition subtraction problems students need activities focus place value students need hands fraction activities',\n",
       " 'students need guided reading table',\n",
       " 'students need pre k stem bundles engineering kits',\n",
       " 'students need air conditioner keep us cool help us learn',\n",
       " 'students need art materials bulk includes markers crayons paint paper organizing bins hold supplies',\n",
       " 'students need multiple copies leveled readers level practice fluency well innovative snapwords cards increase reading skills',\n",
       " 'students need leveled reading library class support individual reading needs',\n",
       " 'students need two large parachutes enhance cooperative learning parachutes engage students including sensory issues special needs',\n",
       " 'students need 30 subscriptions scholastic news science spin 2016 2017 school year learn current events environment around',\n",
       " 'students need xylophone mallets',\n",
       " 'students need variety different seating options',\n",
       " 'students need subscription scholastic science news magazines enhance science curriculum',\n",
       " 'students need 3 ipad minis 3 ipad mini cases',\n",
       " 'students need littlebits coding books students need littlebits coding robotics kindergarten students need osmo ipad compatible learning tools',\n",
       " 'students need different places work sitting tables day rug mats stools options move success',\n",
       " 'students need books improve literacy materials make books watercolors markers paper printer publish books',\n",
       " 'students need context clue activities write wipe pockets word work resources',\n",
       " 'students need 5 ipads class able create projects would enrich creativity enhance 21 century learning skills engaging',\n",
       " 'students need library seating get comfortable dig good book also need listening station keep materials good condition',\n",
       " 'students need books address math topics display keep organized available',\n",
       " 'students need ipad durable case increase independent access curriculum',\n",
       " 'students need fire tablets ipad run software scratchjr model magic wacom help create lego sceneries galaxy tabs control droid',\n",
       " 'students need 5 ipad mini 4s protective cases headphones use small groups',\n",
       " 'students need 1 lego table 6 lego baseplates 2 sets creative legos 2 minecraft lego sets',\n",
       " 'students need fictional stories informational texts teacher read aloud class whole group reading',\n",
       " 'students need mobile double sided magnetic whiteboard aluminum frame stand',\n",
       " 'students need flexible seating options classroom include set stools 4 exercise stay play balls 6 wobble chairs',\n",
       " 'students need ipads motivate improve reading math skills need covers protect ipads make last longer',\n",
       " 'students need high interest books relate reading level grow readers',\n",
       " 'students need stability balls bean bags stools balance disc choose flexible seating help stayed focused seats learning',\n",
       " 'students need fraction cubes base ten blocks pattern blocks 3d geometric shapes improve conceptual understanding mathematics',\n",
       " 'students need judy clock learn tell time english notebooks taking notes english learn',\n",
       " 'students need reading trackers jumbo timer know much time left stamps making words math manipulatives teaching charts model work',\n",
       " 'students need tables maximize space classroom provide cooperative learning environment',\n",
       " 'students need year long subscription time kids magazine aligned common core standards fun way',\n",
       " 'students need 27 wide laminator three year protection plan preserve protect works art',\n",
       " 'students need hands stem materials',\n",
       " 'students need kidney shaped table able work small groups math workshop',\n",
       " 'students need variety flexible seating stability balls hokki stools core discs yogi mats soft cushions',\n",
       " 'students need flute band program',\n",
       " 'students need wireless mice use chrome notebooks manipulating math formulas graphs',\n",
       " 'students need books reading level school many students new country need exposed many books reading level',\n",
       " 'students need acrylic paints red yellow blue liquitex varnish create rock river bed fish showing need protect environment',\n",
       " 'students need large carpet comfy floor cushions writing clipboards classroom reading writing activities',\n",
       " 'students need supplies create passion project present others',\n",
       " 'students need flexible seating classroom including five wobble stools five fitness balls',\n",
       " 'students need classroom supplies stem topic simple machines items books kits levers ramps gears pulleys',\n",
       " 'students need wonder workshop dash dot robotics kit help grow coding skills interest robotics',\n",
       " 'students need acrylic paints blue green gold paint along book create rock river bed fish showing need protect environment',\n",
       " 'students need exercise balls help stay engaged throughout day',\n",
       " 'students need dsm5 diagnostic statistical manual order research educate others mental health disorders',\n",
       " 'students need book bins organize take ownership books library also need stronger books bins library organization',\n",
       " 'students need access latest news literature around world subscriptions provide opportunity interact variety texts',\n",
       " 'students need 4 laptops 3 electronic dictionary increase reading integrating technology',\n",
       " 'students need two ipad minis use literacy math science social studies stations',\n",
       " 'students need books classroom library appeal unique interests',\n",
       " 'students need engaging high interest novels broaden perspectives promote social action',\n",
       " 'students need notebooks dividers run organizational boot camp freshmen come no means get supplies need',\n",
       " 'students need tables instead desks',\n",
       " 'students need nonfiction books microscope prepared slides plants insects order explore deeper subject living things',\n",
       " 'students need frog specimens owl pellets dissection pins gain hands experiences biology studied past months',\n",
       " 'students need picture books not enhance learning various writing reading skills also increase enjoyment learning',\n",
       " 'students need new books fun math manipulatives help enrich lessons',\n",
       " 'students need digital cameras student friendly allow document science experiences',\n",
       " 'students need word problem journals practice solving multi step word problems involving four operations math',\n",
       " 'students need binders organize individual portfolios',\n",
       " 'students need writing supplies',\n",
       " 'students need mechanics tool set transport school internship location',\n",
       " 'students need supplies writing everyday classroom',\n",
       " 'students need everyday materials',\n",
       " 'students need sketching materials observe record natural world around',\n",
       " 'students need 10 arduino kits learn basic programming robotics would allow students work small groups explore create design innovate',\n",
       " 'students need rich mentor texts center materials reading block',\n",
       " 'students need ipad',\n",
       " 'students need variety seating options core balance cushions balance balls bean bag chairs balance stools',\n",
       " 'students need solar battery chargers water filters led fluorescent lights rechargeable batteries',\n",
       " 'students need chrome books protected locked weekend classroom used outside visitors need protect equipment',\n",
       " 'students need 8 flip cam recorders video camera would allow record share understanding students',\n",
       " 'students need classroom sets chapter books audio recordings books explore numerous fictional text together',\n",
       " 'students need immediate feedback awards incentives would love congratulatory certificates stamp kits feedback messages ink print',\n",
       " 'students need electronic parts human system prosthetic project',\n",
       " 'students need pokemon cards rewards completing ar quizzes reaching word count goals',\n",
       " 'students need several incentives motivate complete work pokemon cards puzzles jenga quake shopkins',\n",
       " 'students need air dry clay instant papier mache plaster paris',\n",
       " 'students need engaging accessible novels read holocaust literature class books berlin boxing club anna swallow man maus ii',\n",
       " 'students need fairy tale stem kits lakeshore learning',\n",
       " 'students need access technology internet order learn skills crucial adult success ipads help',\n",
       " 'students need access technology students supposed wouldigital natives lack experience use technology productive way',\n",
       " 'students need kindles learning kindergarten class needs kindles visual auditory learners technology limit school need help',\n",
       " 'students need white boards dry erase markers clipboards',\n",
       " 'students need good quality brushes work hard enjoy painting process high quality brushes enhance experience joy',\n",
       " 'students need variety nonfiction books manila paper markers colored pencils reader workshop art centers',\n",
       " 'students need 5 computers 5 google licenses better explore virtual world learn technology today fast paced world',\n",
       " 'students need reading bags last year bags able hold many books read readers workshop',\n",
       " 'students need 3 ipad minis use math stations math games allows students hands engaged',\n",
       " 'students need piano classroom accompaniments may recorded also used concerts needed thank helping us',\n",
       " 'students need keyboards free writing sessions writer workshop',\n",
       " 'students need storage principal graciously purchased legos classroom need place store',\n",
       " 'students need water pollution kit measure water quality urban environment',\n",
       " 'students need mini ipads',\n",
       " 'students need laptops google licenses complete 1 1 initiative',\n",
       " 'students need access hands portable technology allow students ability not master ela common core also required technology',\n",
       " 'students need items use classroom dry erase white board',\n",
       " 'students need google licenses laptops complete 1 1 initiative',\n",
       " 'students need learn mindful aware feelings also included professional development books help organize lead students',\n",
       " 'students need tennis balls score cards tennis matches compete fall season',\n",
       " 'students need scissors colored pencils glue paper necessary supplies order begin using interactive student notebooks next year',\n",
       " 'students need phonics games puzzlese engage independent word work',\n",
       " 'students need permission enjoy learning process supplies allow students spend time learning ela ccs transforming classrooms new worlds',\n",
       " 'students need headphones classroom technology',\n",
       " 'students need play doh alphabet stamps wikki stix foam letters construction paper',\n",
       " 'students need 3 ipads 3 cases film environmental issue',\n",
       " 'students need tablet cases headphones',\n",
       " 'students need hooki stools help focus learning completing assignments desks',\n",
       " 'students need laptop proper software bring technology life classroom',\n",
       " 'students need variety art history supplies',\n",
       " 'students need ipads provide opportunity small group instruction use learning centers improve literacy',\n",
       " 'students need listening center table specifically space saver table built storage',\n",
       " 'students need dramatic play area work life skills social skills fridge stove sink critical components successful dramatic play area',\n",
       " 'students need math games galore transitioned math stations need math games used year year',\n",
       " 'students need 4 new ipad covers charging station classroom also needs new heavy duty pencil sharpener new mouse pads computers',\n",
       " 'students need paper create poster size images original artwork students part advanced placement studio art year long class',\n",
       " 'students need headphones use many online resources dollar store ones not cutting anymore',\n",
       " 'students need classroom computers move digital learning environments school many resources available accessible internet',\n",
       " 'students need running attire make easy find races',\n",
       " 'students need new book bins bookshelves organize classroom library',\n",
       " 'students need 4 chromebooks improve lack technology classroom',\n",
       " 'students need play food sets dishes improve life skills',\n",
       " 'students need 30 scientific calculators',\n",
       " 'students need programmable mice coding card game puzzlets starter pack build critical thinking analysis skills',\n",
       " 'students need new crayons paint cakes create colorful vibrant pieces art',\n",
       " 'students need 2 standing desks bars allow flexible seating options 6th grade math classroom',\n",
       " 'students need variety sensory equipment trampoline therapy ball body sox sensory table light box ball pit pea pod sensory room',\n",
       " 'students need books foster appreciation reading learning society topics interest',\n",
       " 'students need two livescribe pens books could talk project',\n",
       " 'students need shelves creative corner',\n",
       " 'students need four laptops accompanying licenses research plan design steam projects',\n",
       " 'students need volleyballs 2016 2017 season',\n",
       " 'students need flexible seating inspire classroom environment conducive open collaboration communication creativity critical thinking',\n",
       " 'students need subscription time kids',\n",
       " 'students need crazy traits modules gain better understanding genetics heredity',\n",
       " 'students need pencil pouches plastic envelopes taking home books card stock use variety projects',\n",
       " 'students need multiple copies nine different picture books use study ela standards',\n",
       " 'students need time kids bundles access digital print magazines tfk help acclimate students digital platform assessed',\n",
       " 'students need sturdy mailboxes room',\n",
       " 'students need two chromebooks two mice help navigate chromebooks clorox disinfecting wipes keep everything clean',\n",
       " 'students need wooden mailbox keep organized classroom',\n",
       " 'students need class set 35 copies novel american boys',\n",
       " 'students need 6 wobble chairs order help focus engage bodies class students need move others learning',\n",
       " 'students need two ipad academic centers within classroom',\n",
       " 'students need materials create high demand tie dye shirts raise money classroom materials field trips shirts sold annual craft day',\n",
       " 'students need picture books support children spatial skills development ability understand mentally manipulate shapes figures',\n",
       " 'students need choir folders help store organize music rest year years come',\n",
       " 'students need activity tubs high interest nonfiction texts biomes ecosystems book set engineering activities supplement outdated curriculum',\n",
       " 'students need interactive whiteboard projector screen use integrate math arts',\n",
       " 'students need time magazines reading passages along art materials bring learned life',\n",
       " 'students need engaging read alouds teach emotions friendship skills vocabulary',\n",
       " 'students need vex iq robotics construction sets hexbug vex robotic arm hexbug racers hexbug catapult hexbug crossbow hexbug standoff hexbug robotic ant etc',\n",
       " 'students need lego pieces new lego wall',\n",
       " 'students need measurement centers hands activities students need math flash discovery cans students need build learn perimeter kit',\n",
       " 'students need items help enrich science knowledge',\n",
       " 'students need wobble chairs ball chairs yoga pillows cushions bean bag chairs stools',\n",
       " 'students need math manipulatives strengthen number sense incorporating rich math centers',\n",
       " 'students need kindle readers read books online free help comprehension expose many books',\n",
       " 'students need supplies make children books ancient greece make books walk local elementary school share',\n",
       " 'students need ipad minis order transition classroom paperless classroom',\n",
       " 'students need track equipment school lacks track equipment support donations would greatly impact runners',\n",
       " 'students need 3 mini ipads small group learning center students use interactive apps practice mathematical skills aligned south carolina college career standards help become mathematically literate meet profile south carolina graduate include collaboration teamwork creativity innovation critical thinking problem solving communication information media technology',\n",
       " 'students need specially designed materials activities ring binder help making personalize books stapler punch help organize productive etc',\n",
       " 'students need acer chromebooks research access authentic audio video literature spanish',\n",
       " 'students need 3 learning tablets new computer science curriculum cs4ms integrating 4th grade use every day math science',\n",
       " 'students need elmo document camera enable see board clearly instruction',\n",
       " 'students need alphabet games activities classroom kiddos come wide variety skills games make fun learn',\n",
       " 'students need new fun interactive seating integrate us new non traditional seating method many teachers integrating classroom',\n",
       " 'students need touch screen monitor improving independence academics stroke limited hand dexterity',\n",
       " 'students need chalk pastels foam brushes',\n",
       " 'students need octagonal table 10 books place library reading collaborative work',\n",
       " 'students need copies daniel story improve literacy skills',\n",
       " 'students need sensory objects aid focus attention classroom',\n",
       " 'students need 4 ipod touches classroom listening center experience read improve vocabulary increase background knowledge',\n",
       " 'students need interactive easel ela',\n",
       " 'students need obtain necessary items range ligature screws hold reeds place mouthpieces sound',\n",
       " 'students need listening center including cd cassette player recording voices read along books corresponding cd thanks advance',\n",
       " 'students need elmo document camera avoid frustration distraction elmo see write write keeping engaged learning',\n",
       " 'students need chromebooks enhance reading skills get head start using technology middle high school students use daily schoolwork',\n",
       " 'students need new tables define personal working space',\n",
       " 'students need document organizers clearly identify books different levels reading groups need pencil sharpeners order write different topics',\n",
       " 'students need new books inspire learning',\n",
       " 'students need 8 chrome books google licenses',\n",
       " 'students need need six chrome books empower science learning art',\n",
       " 'students need new practice gear cuts school budgets team must wait turn purchased',\n",
       " 'students need birdbath birdhouses butterfly bush complete bird friendly habitat',\n",
       " 'students need comfortable reading area flourish love reading encourage independent fluent readers',\n",
       " 'students need chromebooks enhance literacy math skills',\n",
       " 'students need stability balls alternative traditional chairs',\n",
       " 'students need supply caddies seat organization sacks store school supplies easy access',\n",
       " 'students need ipads technology engage 21st century learning experience',\n",
       " 'students need three hokki stools help active learners increase focus learning classroom',\n",
       " 'students need pencils speakers headphones folders complete art history graphic art project end unit focusing art throughout centuries',\n",
       " 'students need chrome books reading class uses google classroom everyday hoping get class set',\n",
       " 'students need eight runtz ball chairs sensory needs classroom',\n",
       " 'students need 7 wobble chairs',\n",
       " 'students need laptop begin integrating technology centers stations',\n",
       " 'students need 5 ozobots sharpie markers use robots',\n",
       " 'students need new carpet classroom allow optimal learning space student place sit',\n",
       " 'students need materials help become independent learners station rotations',\n",
       " 'students need new desks chairs',\n",
       " 'students need chromebooks submit assignments paperless english classroom prepares college experience',\n",
       " 'students need ipads use language arts science math social studies centers',\n",
       " 'students need popcorn machine machine used junior class charge concession stand entire school 1000',\n",
       " 'students need dry erase boards markers mobile media center desk',\n",
       " 'students need paper materials next school year going full day kindergarten class need lots materials make year',\n",
       " 'students need certificates bracelets annual honors ceremony',\n",
       " 'students need variety technology equipment get ready 21st century learning students need interesting center activities keep motivated',\n",
       " 'students need bouncy bands legs chairs allow bounce focus learning',\n",
       " 'students need books reading night children',\n",
       " 'students need 12 amazon fire tablets math centers students need 10 simple scales measurement exploration students need rods learn fractions',\n",
       " 'students need data logging equipment collect experimental data',\n",
       " 'students need computers view video math lessons prior small group practice teacher',\n",
       " 'students need beginning year school supplies start new year right',\n",
       " 'students need flexible seating options help take responsibility learning allowing movement',\n",
       " 'students need art supplies markers drawing paper origami paper clay paint create projects culminate literature math lessons',\n",
       " 'students need elevated garden bed soil',\n",
       " 'students need tablets enhance learning experience',\n",
       " 'students need meaningful learning center materials word building games letter recognition activities number materials help learn play',\n",
       " 'students need 2 ipads help differentiate needs english language learners special needs students',\n",
       " 'students need optional seating areas clipboards organizers rugs visually map areas various hands materials readers writers workshop',\n",
       " 'students need bean bag chairs headphones',\n",
       " 'students need invention toolbox capture minds',\n",
       " 'students need 25 pairs headphones computer based learning',\n",
       " 'students need 3 spheros use code',\n",
       " 'students need electronic pencil sharpener quality ones able afford break quite easily not last long us',\n",
       " 'students need nice cozy area complete reading writing assigments',\n",
       " 'students need able listen music work artwork',\n",
       " 'students need books classroom book clubs titles include sun one ivan hoot',\n",
       " 'students need nonfiction books enhance understanding expansion thought writing including mla handbook literary theory blink',\n",
       " 'students need 2 ipad minis cases headphone splitters learn coding program robot',\n",
       " 'students need digital camera create school yearbook website',\n",
       " 'students need copies life changing books energy bus last lecture malala tuesdays morrie curious incident dog nighttime',\n",
       " 'students need easel magnetic deluxe chart stand',\n",
       " 'students need scholastic science spin magazine scholastic news practice reading non fiction texts engage current events stem steam subjects',\n",
       " 'students need ipad classroom',\n",
       " 'students need camera mic used not yearbook pictures putting together exciting video yearbook camera mic fit bill',\n",
       " 'students need advance learning use 10 chromebooks cart protection create technology station differentiated learning',\n",
       " 'students need stem problem solving kits summer library makerspace',\n",
       " 'students need school supplies school need pencils scissors glue dry erase markers erasers many unable provide supplies',\n",
       " 'students need 2 tablets two test also work right sharing one ipad 3 students',\n",
       " 'students need gosports playground ball participate peers playground students need jumbo 4 score oversize game practice social skills',\n",
       " 'students need makerbot ninja blender cleanser recycle school plastic 3d printed self watering planters art supplies allow us package',\n",
       " 'students need learning wrap ups games brain builders help promote learning basic math skills not boring stuck summer school way',\n",
       " 'students need new parachute current one several holes unusable also need playground balls used students recess time',\n",
       " 'students need 2 ozobot starter pack programmable robot toys blue pack sharpie permanent markers class robotic station',\n",
       " 'students need robotics starter kits hands practice programming',\n",
       " 'students need chapter books book studies literature circles',\n",
       " 'students need science materials fifth grade study ecosystems space simple machines need student microscopes life sciences space models',\n",
       " 'students need document camera english language arts classrooms',\n",
       " 'students need materials help promote love reading need introduced different genres practice skills reading enjoyable',\n",
       " 'students need goldfish fruit snacks popcorn animal crackers cereal trail mix pringles snacking needs learning',\n",
       " 'students need sphero ipad order use accompanying app maximize learning becoming coding engineers',\n",
       " 'students need printer ink plastic sheet protectors',\n",
       " 'students need series right books fuel love reading',\n",
       " 'students need books including nonfiction set part magic tree house set grade level collection help foster love reading learning',\n",
       " 'students need wireless speaker wireless presenter case store camera memory cards',\n",
       " 'students need geronimo stilton books add collection well dry erase markers glue sticks',\n",
       " 'students need individual chalkboards paper pencils pencil grips help learn practice handwriting skills',\n",
       " 'students need water colors different size paintbrushes 30 students next year could get 35 trying prepare class future',\n",
       " 'students need materials supplies help learn also need storage unit house materials',\n",
       " 'students need new classroom rug start new year',\n",
       " 'students need rhyme sorting house road reading activity center learning sight words activity chest strengthen independent reading skills',\n",
       " 'students need picnic tables outdoor classroom need bring awareness environmental literacy middle schoolers',\n",
       " 'students need storyworks provides fun ways learn reading not provide magazine class get digital content home',\n",
       " 'students need improve reading writing skills everyday life need 3 levels books commonly used words scholastic choices magazine write',\n",
       " 'students need osmo learning games sphero',\n",
       " 'students need motors styrofoam pads screwdriver science supplies science fair',\n",
       " 'students need incubator light egg tester order hatch chick eggs classroom',\n",
       " 'students need paper write copy paper homework copies',\n",
       " 'students need access tablets learn standards essential skills',\n",
       " 'students need comforting classroom fluorescent lighting lack natural light proven negative impact classroom environment',\n",
       " 'students need frog eggs butterfly eggs duck quail eggs incubator explore life cycles',\n",
       " 'students need stem bundle kindergarten first grade set magna tiles build',\n",
       " 'students need class set chrome books charging station use classroom give students ability practice skills educational sites',\n",
       " 'students need massive amount tennis balls',\n",
       " 'students need two ipad minis case protectors',\n",
       " 'students need supplemental reading math materials increase reading math levels',\n",
       " 'students need cricut machine create manipulatives students use interactive notebooks file folder games cross curricular activities',\n",
       " 'students need two ipads document learning blending learning classroom',\n",
       " 'students need storyworks reading come alive',\n",
       " 'students need book boxes keep right books need hokki stools give different seating options help promote learning',\n",
       " 'students need 25 wobble chairs 24 jump ropes improve fitness learning power',\n",
       " 'students need hokki stools spaces foster creativity art',\n",
       " 'students need supplies make drab closest exciting writing nook',\n",
       " 'students need two chromebooks speech text options',\n",
       " 'students need high quality computer speakers',\n",
       " 'students need two alto diatonic xylophones stand',\n",
       " 'students need 3 flutes help start school band',\n",
       " 'students need monthly subscription scholastic news scholastic science spin',\n",
       " 'students need recess equipment encourage positive playtime need soccer ball playground ball ball bag need sorry hangman puzzles',\n",
       " 'students need bouncy bands make chairs part physical activity help increase focus',\n",
       " 'students need ipads speaker apple tv converter',\n",
       " 'students need clarinets start school band',\n",
       " 'students need four chromebooks classroom support learning',\n",
       " 'students need chance learn safely learn electronics leapster products amazing tools help students learn fun time',\n",
       " 'students need trumpets order start school band',\n",
       " 'students need 40 copies immortal life henrietta lacks culminating ap biology project ap biology 2 biozone workbook continue studies',\n",
       " 'students need mobile bookshelves tables wheels classroom help reconfigure room point support collaborative work',\n",
       " 'students need supplies help put thoughts paper includes pencils paper crayons sound phones help reading',\n",
       " 'students need 3 mini ipads 3 headphones 3 protective cases mini ipads',\n",
       " 'students need wide variety folk fairy tales read aloud time',\n",
       " 'students need seating incorporate flexible seating',\n",
       " 'students need math supplies including student manipulatives large scale manipulatives modeling',\n",
       " 'students need new literacy rug',\n",
       " 'students need kid greenhouses plants plant food trowels planters materials weather coverings plant beds solar rock fountains garden oasis',\n",
       " 'students need subscription scholastic dynamath magazines must know math skills book problem solving enhance math',\n",
       " 'students need alternative seating kindergarten students access pillows large enough sit low table class',\n",
       " 'students need echo tripod books trinkets toys classroom store financial literacy unit',\n",
       " 'students need dry erase boards library books interactive math practice sets',\n",
       " 'students need flag football accessories cones soccer nets training vests storage bins learn team sports',\n",
       " 'students need headphones access technology',\n",
       " 'students need ways learn science hands exploration items include building materials magnetics engineering tasks',\n",
       " 'students need projector',\n",
       " 'students need composter solar powered robots radios calculators renewable energy set global warming book set reusable grocery bags graph paper',\n",
       " 'students need glue guns glue sticks cardboard fasteners rivets makedo tools chenille stems bridge building materials snap circuit sets',\n",
       " 'students need graphite smencils r 2 lead pencils bdc super cool toy assortment emoji stickers large pack',\n",
       " 'students need fair equal access explore gain love knowledge help become life long learners',\n",
       " 'students need new set wind chimes concerts current ones break week almost beyond repair',\n",
       " 'students need ipad wonder workshop robotics kits learn technology following directions design strategies',\n",
       " 'students need steam kits additional materials continue support steam team independently teacher created school year introduce steam kdg',\n",
       " 'students need chromebook use classroom',\n",
       " 'students need ipad ipad otterbox cover case',\n",
       " 'students need cloudy chance meatballs books markers learn eating healthy fun creative way',\n",
       " 'students need books classroom library improve reading skills',\n",
       " 'students need materials dissection examples medical items',\n",
       " 'students need two osmo systems meet needs learners young students need live technology open world learning',\n",
       " 'students need 1 3 ipads use small group instruction individualized learning journals',\n",
       " 'students need 5 laptops classroom',\n",
       " 'students need positive environment flexible seating moving blended learning environment flexible seating allow comfortable option',\n",
       " 'students need document camera squares colored pencils drafting design',\n",
       " 'students need kore wiggle chairs poufs stability balls bean bag chairs promote natural learning environment',\n",
       " 'students need different seating classroom',\n",
       " 'students need mentor texts showcase great writing allow use comprehension strategies learn throughout year',\n",
       " 'students need littlebit kits lego kits knex kits magna tiles dash dot ollie robots programmable mice introduce students robotics coding',\n",
       " 'students need new desks chairs',\n",
       " 'students need hands learning materials',\n",
       " 'students need chromebooks virtual labs online experiments 100 digital classroom',\n",
       " 'students need two apple mini 2 ipads classroom used reading math stations',\n",
       " 'students need 10 chromebooks daily access technology order improve technological literacy computer skills',\n",
       " 'students need materials inventing circuits devices materials include scissors x acto knives foam velcro',\n",
       " 'students need place store new pe equipment able get ease',\n",
       " 'students need new tables ones right uneven shaky bright new chairs replace old dull ones shelves storage',\n",
       " 'students need printer',\n",
       " 'students need 12 chromebooks fully integrate 4 c critical thinking creativity communication collaboration technology science classroom',\n",
       " 'students need nutritional snacks keep energized throughout school day class needs printer cartridges print ieps secure documents',\n",
       " 'students need age appropriate moving chair aid focus attention school day hoping one stability ball chair per student',\n",
       " 'students need new nonfiction books pencil sharpener learn nonfiction text',\n",
       " 'students need ipads osmo tiddly letters math sets hands technology center',\n",
       " 'students need amazon kindle tablets protective covers assist completing interest inventories researching college career options',\n",
       " 'students need ipad help research classroom not students access internet phones allows contribute group',\n",
       " 'students need 4 breakout kits promote problem solving teamwork classroom',\n",
       " 'students need books compete county annual battle books competition',\n",
       " 'students need experiences engineering would like purchase learning lab set small group engineering design challenges',\n",
       " 'students need class set novels improve reading build comprehension skills promote love reading',\n",
       " 'students need art supplies laptop science activities',\n",
       " 'students need 1 camera record process making music',\n",
       " 'students need proper seating area library section room room not child friendly seating either furniture rug',\n",
       " 'students need 21 laws 7 habits failing forward curriculum leadership class currently no curriculum books great tool leaders',\n",
       " 'students need chromebook access 21st century learning resources',\n",
       " 'students need bases learning play baseball broken equipment makes difficult properly teach sport',\n",
       " 'students need various novels study class novels open new world students increasing comprehension',\n",
       " 'students need able see realtime edits writing essays needing apple tv hdmi cable projector use airplay live edits',\n",
       " 'students need lock box used hasp put locks problem solve figure clues open box',\n",
       " 'students need lot copies special needs dry erase boards needed help reading writing math close students sit',\n",
       " 'students need access latest innovative devices technology offer including chromebook camcorder digital camera e reader tablet',\n",
       " 'students need 2 bean bag chairs 4 stability balls 4 wobble stools 6 wobble cushions believe help stay focused successful',\n",
       " 'students need chromebook currently not access technology devices classroom',\n",
       " 'students need comfortable chairs sit read',\n",
       " 'students need 2 ollie robots one set traction tires',\n",
       " 'students need drafting tables order draw properly level 1 2 3 art courses classes preparation high school art',\n",
       " 'students need classroom library filled fiction nonfiction books increase reading interest fluency accuracy comprehension',\n",
       " 'students need books continue build classroom library reading centers multiple different levels',\n",
       " 'students need newly refurbished computer replace dying computer stem steam lab',\n",
       " 'students need carts store brand new volleyballs volleyball teams',\n",
       " 'students need bean bag chairs table able choose would like sit freedom choose seating create independence students',\n",
       " 'students need yoga bolsters yoga blocks blankets restorative recess',\n",
       " 'students need notebooks write daily respond reading',\n",
       " 'students need 2 mini ipads covers daily work',\n",
       " 'students need listening centers headphones engage plugged reading curriculum increase reading fluency comprehension skills',\n",
       " 'students need instruments stands',\n",
       " 'technology important tool use classroom students need ipad classroom many reasons',\n",
       " 'students need scholastic news learn current events',\n",
       " 'students need another way learn love literature listening center headphones books cds listen stories following along',\n",
       " 'students need choices seating help engage learning flexibly collaborate time metal chairs go',\n",
       " 'students need lego mindstorms kit help build program based real life robotics technology',\n",
       " 'students need basic art organizational supplies complete many hands projects create learn history',\n",
       " 'students need medicine balls weights plyometric boxes equipment start non profit crossfit school affiliate principles fitness class',\n",
       " 'students need copies lgbtqa books gender unit',\n",
       " 'students need ib books prepare ib exams need dictionaries class need pens binders index cards supplies class',\n",
       " 'students need hokki stools focus learning getting wiggles increases student achievement',\n",
       " 'students need access different materials times help cope sensory emotional social issues succeed academically',\n",
       " 'students need space explore science materials utilizing integrating science math literacy sensory exploration development',\n",
       " 'students need ipad cover use daily life classroom order become 21st century students',\n",
       " 'students need release extra energy frustration physical activity enables read longer concentrate actually enjoy reading',\n",
       " 'students need art supplies paint modeling clay collage materials supplies help integrate art throughout curriculum',\n",
       " 'students need storage new music classroom',\n",
       " 'students need ipad communication needs',\n",
       " 'students need chromebooks use research science projects',\n",
       " 'students need resources design projects geoboards create models start math projects class',\n",
       " 'students need cooking supplies mobile cooking cart',\n",
       " 'students need 8 makey makey sets become outrageous inventors creators',\n",
       " 'students need printer classroom projects worksheets enrichment classroom copies school limited 10 per student per month',\n",
       " 'students need supplies order aquarium science classroom',\n",
       " 'students need supplies pencil grips glue pump buzzers organizer tape spacers enrich learning classroom',\n",
       " 'students need two ollies launcher dash dot cubelets expand robot petting zoo library makerspace',\n",
       " 'students need basic supplies pencils pens paper sharpener bean bags interactive mental physical activities',\n",
       " 'students need activities center time resources organize center time',\n",
       " 'students need dress materials learn pretend interact one another dramatic play resources also help build communication',\n",
       " 'students need rug sit whole group instruction',\n",
       " 'students need tools become independent daily living skills practice including vacuum cleaner plates bowls kitchen appliances',\n",
       " 'students need item continue grow knowledge science technology engineering math class add available stations class',\n",
       " 'students need lockets diffuser pads glass bottles hold oils leather cords create necklaces sprays',\n",
       " 'students need books read next school year',\n",
       " 'students need 8 ipads 8 cases',\n",
       " 'students need variety seating options included order items bean bag chairs wobble seats flexible office chairs',\n",
       " 'students need promethean smartboard interactive math lessons',\n",
       " 'students need color toner brighten classroom world',\n",
       " 'students need alternative seating classroom movement needs not met standard chair desk',\n",
       " 'students need character development books',\n",
       " 'students need video equipment enhance digital learning skills tell creative digital stories video production uses visual language arts',\n",
       " 'students need chart paper fun smelly markers instill love writing fun writing time not even know',\n",
       " 'students need items use classroom provide options sit best meet learning needs',\n",
       " 'students need prizes prize box worked hard year need incentives reward hard work',\n",
       " 'students need gardening tools sand table tools outdoor games create peaceful outdoor classroom',\n",
       " 'students need four wobble stools five wobble cushions use around classroom',\n",
       " 'students need reliable technology order practice skills receive immediate feedback since not workbooks books math class',\n",
       " 'students need 6 chromebooks charging station computers easily accessible charged organized',\n",
       " 'students need four stand desks',\n",
       " 'students need updated art supplies replace particularly easels never new aprons better quality markers crayons pencils',\n",
       " 'students need journals hands activities learning literacy science',\n",
       " 'students need books classroom library',\n",
       " 'students need three active stools offer safe alternative seating students like lean 2 feet chairs walk around classroom',\n",
       " 'students need 2 chrome books help continued partnership discovery education adding technology everyday lessons',\n",
       " 'students need art supplies paint cups tissue paper craft sticks paint pipe stems construction paper storage organizer mini journals',\n",
       " 'students need powerful computer laptop capability handle graphics',\n",
       " 'students need manipulatives reinforce reading strategies',\n",
       " 'students need dry erase boards show math thinking math folder games improve algebra number skills study boards taking tests',\n",
       " 'students need hot dots enhance math reading skills',\n",
       " 'students need makerbot 3d printer filament create stem related projects',\n",
       " 'students need books classroom library storage tubs use books desk table tops also need durable trays classwork',\n",
       " 'students need options comes seating classroom items cart give students choices classroom',\n",
       " 'students need games like spot rush hour help grow mindset develop perseverance',\n",
       " 'students need gardening tools big enough middle school sized hands',\n",
       " 'students need new clean bright carpets sit well several stools use computer station also need big books read aloud time',\n",
       " 'students need computer run mechatronics class computer outdated hard compete robotics competitions',\n",
       " 'students need flexible seating classroom empower learning students needs carpet squares air stability wobble cushions balance ball chairs',\n",
       " 'students need award winning literature ignite passion reading',\n",
       " 'students need rug sit story time learning time teaching easel',\n",
       " 'students need variety seating options classroom help create child centered classroom well help focus',\n",
       " 'students need scissors colored paper three subject notebooks craft supplies construct interactive 3 reading writing read 180 notebooks',\n",
       " 'students need 2 runtz ball chairs help improve posture balance focus working',\n",
       " 'students need ipad mini 4 wi fi 128gb silver create videos podcasts order create cool projects need 4y drop spill plan protect ipad',\n",
       " 'students need motherboard makerbot 3d rapid prototyper',\n",
       " 'students need need bean bag chairs innovative reading center',\n",
       " 'students need wall maps countries world help students better visual places located fit world view',\n",
       " 'students need 6 ipads incorporate technology everyday learning',\n",
       " 'students need stimulating incentives motivate behavioral choices help build treasure box items like squeeze balls sticky hands small toys etc',\n",
       " 'students need games develop character social skills conversation cubes build rapport fidget toys busy hands talking session',\n",
       " 'students need emergent reader books practice reading become fluent readers',\n",
       " 'students need wobble stools area rugs music stands feed fidget productive way',\n",
       " 'students need 25 kindle fire tablets',\n",
       " 'students need seat sacks stay organized since formal desks removed creating collaborative learning environment',\n",
       " 'students need subscription time magazine kids',\n",
       " 'students need sensory seating items fine motor toys',\n",
       " 'students need barcode scanner easily check choral uniforms performance attire',\n",
       " 'students need flexible seating allow creative juices flow',\n",
       " 'students need 9 mp3 players listen books converted cds part listening center rotation',\n",
       " 'students need art supplies get started school year including crayons pencil sharpeners pencils markers poster tell',\n",
       " 'students need stem items incorporate stem students daily centers',\n",
       " 'students need ipads small group instruction',\n",
       " 'students need freedom choose sit include exercise balls wobble chairs bumpy discs',\n",
       " 'students need additional technology ipad would perfect',\n",
       " 'students need spot sit write learn create outdoor classroom outdoor convertible benches used many ways',\n",
       " 'students need aerodynamics aviation textbooks scientific plotters federal aviation regulations books give access stem aerospace knowledge',\n",
       " 'students need new books rumble things come back menagerie along book covers protect longevity books classroom library',\n",
       " 'students need classroom rug sit music time',\n",
       " 'students need sensory activities',\n",
       " 'students need 6 hokki stools middle school library encourage seated movement increased academic engagement',\n",
       " 'students need guided reading center teach closely next order improve reading new classroom teaching 2nd grade',\n",
       " 'students need alphabet activities aide learning abc',\n",
       " 'students need laptops use classroom please consider donating help us reach goal thank',\n",
       " 'students need ipads enhance education students low income communities need access technology education provide opportunities',\n",
       " 'students need schlastic news enhance learning non fiction text magazine format',\n",
       " 'students need enhance writing skills know like technology amazon fire tablets classroom',\n",
       " 'students need flexible seating options stability balls yoga mats bean bag chairs help feel comfortable home classroom',\n",
       " 'students need chromebooks tablets learning stations classroom',\n",
       " 'students need backpacks pencils crayons composition books start school year strong',\n",
       " 'students need notebooks materials including coloring supplies glue tape scissors order build interactive notebooks',\n",
       " 'students need following sensory supports visual auditory tactile sensory items adapted seating yoga mats laminator visuals',\n",
       " 'students need materials sensory exploration sensory table donated classroom',\n",
       " 'students need kore patented wobble chairs gaiam kids stay n play balance balls green mesh ergonomic office task swivel chairs improve student learning spaces',\n",
       " 'students need clipboards highlighters dry erase markers sharpies glue crayons binders',\n",
       " 'students need class sets books',\n",
       " 'students need kore wobble chairs yoga ball seats balance disks bean bag chairs foot pedals exercisers',\n",
       " 'students need library school want able access library books like school',\n",
       " 'students need 21 books improve literacy skills including flip word frog jog says cat cat orange pear apple bear',\n",
       " 'students need 2 chromebooks allow access literacy math resources level also need practice critical 21st century skills',\n",
       " 'students need clocks flashcards correctly use analog clock tell time',\n",
       " 'students need 10 ukuleles start ukulele program school',\n",
       " 'students need ipad cases headphones work individual technology assignments assessments',\n",
       " 'students need headphones listening station currently 2 pairs students share also writing journals help read write',\n",
       " 'students need listen learn phonics program listen learn phonemic awareness activity program building words build word magnetic board center time',\n",
       " 'students need alternative seats improve engagement participation behavior',\n",
       " 'students need place school supplies tables room group work collaborating need space students call',\n",
       " 'students need latin books increase vocabulary need class set minimus minimus secondus latin books elementary students',\n",
       " 'students need 3 dash dot robot packs learn coding',\n",
       " 'students need picture books use prompt discussions classroom issues equality friendship also need carpet meet read alouds',\n",
       " 'students need grade 2 3 stem bundle kit includes labs challenge kits nonfiction books',\n",
       " 'students need opportunities movement working independently need 4 wobble stools writing table',\n",
       " 'students need new books classroom library well set colored pencils art projects',\n",
       " 'students need stuffed animals light toys pencils wristbands birthday gifts pencil war prizes',\n",
       " 'students need headphones times kids magazines pencils',\n",
       " 'students need supplies support new science standards',\n",
       " 'students need paint pastels crayons colored pencils modeling clay felt learn arts integration classroom',\n",
       " 'students need alternative seating need wobble chair hokki stool floor chair choose smart seating',\n",
       " 'students need new macbook pros ipad pros protective covers',\n",
       " 'students need hot dot math centers ten frame dice magnetic ten frame number sense cards instant math centers get math stations running',\n",
       " 'students need headphones cd player books phonics directed activities enhance learning reading centers',\n",
       " 'students need scholastic let find big world clifford magazines',\n",
       " 'students need motivation read believe providing books series help motivate finish series read',\n",
       " 'students need class set book percy jackson olympians lightening thief improve literacy understanding mythology',\n",
       " 'students need flexible seating options help support learning 3 cando exercise chairs would provide chance move still learning',\n",
       " 'students need two ipads independent learning center time',\n",
       " 'students need storage bins help get classroom clutter free love learning hands discovery based activities need storage manipulatives',\n",
       " 'students need alphabet stamps stamp pads word study stamps',\n",
       " 'students need many dry erase markers marker boards times whole group math board math writing sight words around room',\n",
       " 'students need story telling kits like pete cat silly sally no david make reading area fun inviting',\n",
       " 'students need chromebook',\n",
       " 'students need colors coding class',\n",
       " 'students need paper scissors glue create capstone project detailing big ideas encountered middle school',\n",
       " 'students need styrofoam heads amazing social studies art project',\n",
       " 'students need blue lights access scripts clothing changes performances headsets sound room stage managers keyboard practice musical selections',\n",
       " 'students need art supplies science math manipulative resources help make best education bordeaux',\n",
       " 'students need resources help deal various obstacles challenge abilities successful',\n",
       " 'students need solar oven water filter straw conducting tape batteries leds soil sensors fresnel lenses books environmental science engineering',\n",
       " 'students need chalk chalk art festival budget limitations become issue please help us continue annual event',\n",
       " 'students need technology classroom enhance learning areas',\n",
       " 'students need football gloves safety reasons playing scholastic athletics managers need water back packs ensure proper hydrations practice',\n",
       " 'students need overhead computer wall projector 15 17 students class currently crowd around computer use technology',\n",
       " 'students need lego materials comfortable inviting seating options enhance classroom makerspace',\n",
       " 'students need books classroom new classroom without extra reading materials important fostering love reading',\n",
       " 'students need 26 book bins leveled readers build reading skills',\n",
       " 'students need blank board books create mythology books share younger students teach greek gods',\n",
       " 'students need giant sight sound tubes washable sensory play set help students autism process sensory needs',\n",
       " 'students need 1 chromebook 1 cover 1 power strip 3 licenses 1 storage shelf research developing reading writing technology skills',\n",
       " 'students need quality read along books extra copies stories already tape student copy read along',\n",
       " 'students need construction paper chart tablets markers mobile file accordion pocket folders hanging files creative organized learning',\n",
       " 'students need comfortable seating areas collaboration problem solving intervention group work basic supplies may not otherwise get',\n",
       " 'students need lakeshore stem learning bundle set nameplates provide support math writing',\n",
       " 'students need individual erasable boards solve problems share strategies daily math talks',\n",
       " 'students need alternative seating classroom includes high stools beanbags pillows storage containers',\n",
       " 'students need many instruments next greatest need new trombone',\n",
       " 'students need graphing composition notebooks math',\n",
       " 'students need chromebook speech text options',\n",
       " 'students need rug use place enjoy reading learning building community',\n",
       " 'students need leveled books grow classroom library',\n",
       " 'students need variety seating options exercise wobble chairs support district initiative personalized learning',\n",
       " 'students need reliable projector sound see hear content relates world around',\n",
       " 'students need restock worn recess equipment play need soccer balls footballs jump rope',\n",
       " 'students need reading materials integrate science social studies time kids superscience magazines biography collections',\n",
       " 'students need bouncy bands light filters print trackers help improve focus',\n",
       " 'students need listening center materials including headphones books cd',\n",
       " 'students need vacuum cleaning supplies learn valuable vocational skills need workplace home',\n",
       " 'students need leveled readers chapter books junie b jones magic tree house extend reading mastery',\n",
       " 'students need variety comfortable chairs educational carpet provide enriched environment promotes learning authentic fun way',\n",
       " 'students need movement classroom students unable sit long period time items help stay focused class seat work',\n",
       " 'students need listening center books improve literacy',\n",
       " 'students need 2 dash robots charging station cords charge robots tablets control',\n",
       " 'students need copies book forge extend reading understanding revolutionary war chains first book series',\n",
       " 'students need materials help keep personal classroom supplies organized fingertips',\n",
       " 'students need new interesting books encourage read help improve skills',\n",
       " 'students need connect art math ancient art folding paper students empowered design create artwork directly connected math',\n",
       " 'students need printer students need access reliable resources printer',\n",
       " 'students need 4 hokki stools help control wiggles',\n",
       " 'students need magic tree house books guiding reading groups',\n",
       " 'students need variety hands tools get creative juices flowing allowing unlimited possibilities created',\n",
       " 'students need individual copies shakespeare macbeth midsummer night dream',\n",
       " 'students need class set classic chapter books learning contracts tuck everlasting hoot flush peak bridge terabithia maniac magee',\n",
       " 'students need leveled readers read individual reading levels prepare second grade',\n",
       " 'students need scooter boards foster developmental skills',\n",
       " 'students need spiral notebooks scholastic news map skills erasers empower artistic talents art building math science skills',\n",
       " 'students need 23 kindle fire empower students integrating art mathematics',\n",
       " 'students need sit not worry table shaking falling need total 12 tables student sit safety',\n",
       " 'students need 5 ipads cases technology instruction',\n",
       " 'students need canvas panels paint group art display class plan create tree life',\n",
       " 'students need stacking stools balance cushions hokki stools flexible seating options classroom',\n",
       " 'students need books reader workshop books available better',\n",
       " 'students need access digital texts audiobooks interactive apps using kindle fire tablets protective cases',\n",
       " 'students need microphones background images use use produce top quality news cast videos entire school',\n",
       " 'students need 51 books enhance classroom library',\n",
       " 'students need four vex iq robotics construction kits two ozobot starter packs',\n",
       " 'students need various flexible seating arrangements including stools stability balls floor pillows',\n",
       " 'students need sphere ollie robot able apply coding skills learning coding club school',\n",
       " 'students need social emotional standardized curriculum provides lesson plans designed teach life skills successful school succeed life',\n",
       " 'students need freedom move within seats working classroom would like provide opportunity innovative seating',\n",
       " 'students need 8 round activity tables replace 30 individual student desks tables allow students work collaboratively project based learning',\n",
       " 'students need two chromeboks learn programming',\n",
       " 'students need kidney table one one small group instruction using table working collaboratively well',\n",
       " 'students need supplies help organize learning centers need rainbow sentence strips learning center pocket charts response dry erase boards',\n",
       " 'students need ipad integrated steam science technology engineering art math instruction need ipads help reach full potential',\n",
       " 'students need able move classrooms',\n",
       " 'students need healthy ways move day assortment items including handheld fidgets wiggle cushions resistance bands help immensely',\n",
       " 'students need helmets order expand football program include middle school graders inner city charter school students need quality helmets',\n",
       " 'students need 2 apple mini ipads improve phonics math reading comprehension writing skills',\n",
       " 'students need art craft supplies develop construct models including paper paint brushes modeling clay',\n",
       " 'students need alphabet rhyme syllable recognition games activities develop skills needed successful reader',\n",
       " 'students need 3 ipad airs covers headphones',\n",
       " 'students need color printer ink create realia based room also asking geeksquad protection sometimes class tech breaks arrives broken',\n",
       " 'students need wireless photo printer document wonderful projects display science art written oral presentations see',\n",
       " 'students need materials help literacy skills',\n",
       " 'students need handwriting paper',\n",
       " 'students need scholastic news develop connection reading world around',\n",
       " 'students need 12 piece simple wooden machine set simple machines project book hands inquiry based learning activities',\n",
       " 'students need gopros ipads help improving educational access technology',\n",
       " 'students need bean bags pillows sit alternatives hard class chairs',\n",
       " 'students need head phones use ipads',\n",
       " 'students need organized space shop guided reading books cart used 8 classrooms',\n",
       " 'students need additional tablets incorporate daily literacy math centers mastering skills needed successful',\n",
       " 'students need four wobble chairs help students love move ability move freely still able learn',\n",
       " 'students need books encourage read recommend books others books list south carolina book award nominees',\n",
       " 'students need printer linked student computers print publish writing',\n",
       " 'students need 10 ipads stem bundles osmos gaming system ipads maker space library',\n",
       " 'students need leveled texts hands activities phonics centers games develop knowledge high frequency words early reading skills',\n",
       " 'students need chromebooks add technology wonderful classroom',\n",
       " 'students need variety mixed media ranging drawing paper glue gun sticks safety goggles semester art projects',\n",
       " 'students need accurate model solar system study engineer create project based learning classroom',\n",
       " 'students need general supplies make choir class even fun next year put cool percussion instruments metronome cart',\n",
       " 'students need hands centers focused alphabet sounds blends digraphs vowel sounds rhyming learning centers help language delays',\n",
       " 'students need 3d printer become future proof empowering students art robotics stem cad computer skills using imaginations hands',\n",
       " 'students need new whiteboard old whiteboard actually made shower board needs replaced also need new whiteboard markers magnets',\n",
       " 'students need tablets cooperative learning groups order complete research print resources spot',\n",
       " 'students need six apple ipads engage 21st century learning skills bring digital learning classroom',\n",
       " 'students need wonder workshop dash robot launcher two kindle fire kids editions use controllers',\n",
       " 'students need become rock detective bucket kit grades 5 8 rock cycle interactive exploration geologic time rock cycle kit items',\n",
       " 'students need multicultural literature reflects many cultures classroom',\n",
       " 'students need reading writing phonemic awareness learning activities learn centers learning play best way learn',\n",
       " 'students need rigorous high interest text supplement older reading curriculum',\n",
       " 'students need pentominoes set class set book three pigs one wolf seven magic shapes',\n",
       " 'help us ditch desks students need large rug collaborative tables',\n",
       " 'students need different math manipulatives dice foam dominoes ten frames items help students different levels problem solving',\n",
       " 'students need ant farm kit models ant life cycle books ants',\n",
       " 'students need base ten blocks realistic play money ten frames',\n",
       " 'students need glue tape color printouts notebooks 180 students use interactive science notebooks record topics covered class lab',\n",
       " 'students need several cases crayola model magic class set colored pencils class set markers class set crayons integrated projects',\n",
       " 'students need art materials easel aprons express',\n",
       " 'students need alternative seating students today require physical activity help stay focussed lessons instruction work time',\n",
       " 'students need multimedia comprehension materials apps game improve learning',\n",
       " 'students need 10 headsets microphones classroom computers',\n",
       " 'students need biographies interesting motivating biographies inspire students learn people changed world',\n",
       " 'students need ink print narratives',\n",
       " 'students need stuffed reading buddies including piggie elephant pete cat splat independent reading',\n",
       " 'students need painted lady butterfly larvae host plants butterfly sanctuary study life cycle butterflies',\n",
       " 'students need bouncy bands desks fidgets help focus class',\n",
       " 'students need fun way learn read build fluency scholastic news magazines geared high interest get kids excited involved',\n",
       " 'students need 10 copies 4 books marcelo read world london eye mystery fish tree hurt go happy',\n",
       " 'students need cd player listen good stories want able read great literature like rest second graders school',\n",
       " 'students need variety active engaging activities help build reinforce many important kindergarten skills',\n",
       " 'students need sturdy sensory table hands literacy center kinetic sand kidfetti alphabet fishing game abc molds round center',\n",
       " 'students need easy reader books independent reading time',\n",
       " 'students need craft materials mod podge butcher paper pens stapler creative learn problem solve art',\n",
       " 'students need reminder watches improve classroom focus alertness',\n",
       " 'students need listening centers help build reading skills',\n",
       " 'students need book night first grade help ease transition kindergarten',\n",
       " 'students need three hokki stools',\n",
       " 'students need eight volleyballs',\n",
       " 'students need folders bulletin board paper',\n",
       " 'students need way bounce noticed no matter child need move bouncee bands allow movement without getting seat',\n",
       " 'students need print digital subscription time kids',\n",
       " 'students need headphones without speakers hooks hang',\n",
       " 'students need books classroom library need books different levels genres encourage motivate students read',\n",
       " 'students need voice amplifiers',\n",
       " 'students need pencils markers art books chromebooks empower education art',\n",
       " 'students need camera show parents day like school since non verbal also need pictures objects communicate',\n",
       " 'students need place work allows outlet restlessness extra energy traditional seating thing past flexible seating',\n",
       " 'students need personal dry erase boards erasers markers quickly learn write music notation also need bluetooth speaker listening music',\n",
       " 'students need ipad pe program basketball team',\n",
       " 'students need4 ipad minis cases perfect solution 3rd grade classroom',\n",
       " 'students need electric pencil sharpener highlighters successful end grade assessments',\n",
       " 'students need access flash cards increase mastery basic sight words index cards provide class support card stock make home sets',\n",
       " 'students need pencil sharpeners practice writing skills',\n",
       " 'students need general lab equipment complete inquiry based learning physical science class',\n",
       " 'students need ipads class integrate technology everyday learning ipads would used every subject getting students excited learning',\n",
       " 'students need cubelets introduce robotics',\n",
       " 'students need tablet use guided reading technology purposes',\n",
       " 'students need book bags traveling different events',\n",
       " 'students need chromebook laptop 2 mini ipads',\n",
       " 'students need 30 copies crash jerry spinilli used beginning year novel study',\n",
       " 'students need activities assist transition first grade students could benefit creative table top tasks support learning skills',\n",
       " 'students need manipulatives geoboards lacing beads legos incorporate play fine motor development full day academic kindergarten class',\n",
       " 'students need math manipulatives protractors base ten blocks improve math literacy students also need organizational tools',\n",
       " 'students need markers crayons colored pencils rolling cart hold art supplies',\n",
       " 'students need one 360 camera',\n",
       " 'students need 7 tablets create video photography students need glue masking tape sculpture projects students need mirrors portraits',\n",
       " 'students need dual whisper phones aread someone without disturbing others cd players allow kids listen reading independently',\n",
       " 'students need 25 copies scholastic magazine scope help become stronger readers writers thinkers',\n",
       " 'students need copper foil silver stringing wire mod podge create glass panel books cd cases illustrating poem',\n",
       " 'students need xylophones ensembles',\n",
       " 'students need materials intervention language tutor language exposure well nonfiction reading material meet social studies common core standards',\n",
       " 'students need pencils glue sticks small group reading carpet mailbox bins',\n",
       " 'students need pocket charts carts drawers poly zippered envelopes organize materials supplies foster independence responsibility',\n",
       " 'students need colored printer scanner copy machine use classroom specifically writer workshop',\n",
       " 'students need weighted blanket special need students classroom get frustrated easily way calm safe way',\n",
       " 'students need books use mentor texts read alouds well books math science focus fits curriculum',\n",
       " 'students need technological access current hands real life relevant learning experiences',\n",
       " 'students need supplies grow crystals study wind power investigations summer students study games scientific perspective',\n",
       " 'students need writing paper notebooks dry erase writing boards writing coloring utensils writing sequencing tiles',\n",
       " 'students need laptop battery pack mouse complete research projects activities math reading gain knowledge support aligned c c',\n",
       " 'students need tactile letters numbers use guided math reading groups',\n",
       " 'students need makey makey innovation kits code driven sphero robot teach code begin learning robotics coding',\n",
       " 'students need books improve literacy skills',\n",
       " 'students need magnetic white board help visually aid learning class',\n",
       " 'students need new seating classroom create comfortable learning environment much like new work place atmospheres seen places like google',\n",
       " 'hot new books end school year students need brand new books goosebumps fear street keep excited reading thanks',\n",
       " 'students need steam exploration kits help creative thinking problem solving skills',\n",
       " 'students need class sets rich literature improve comprehension fluency',\n",
       " 'students need 3 chromebooks use daily research educational apps presentations stretch learning outside school walls',\n",
       " 'students need three 4 x 8 magnetic white boards maximize mathematics learning classroom would also happy receive even two',\n",
       " 'students need materials creative play expand imagination skills stem',\n",
       " 'students need 30 subscriptions time kids learn current events around world magazines awesome students learn current events',\n",
       " 'students need 30 subscriptions scholastic news magazine learn current events',\n",
       " 'students need fitdesk bike help encourage lifelong healthy habits productive study strategies',\n",
       " 'students need laptop ipad learn code create robotic technology practice reading math skills prepare future',\n",
       " 'students need ev3 lego mindstorms robot build math science writing communication skills within classroom',\n",
       " 'students need 5 chromebooks aid literacy well improve computer skills',\n",
       " 'students need updated laptop access learning websites',\n",
       " 'students need amazon fire stick ipad keyboard case',\n",
       " 'students need rug whole group instruction',\n",
       " 'students need 4 ipad minis use math reading stations',\n",
       " 'students need photo printer paper literacy activities',\n",
       " 'students need robotics kit learn computer programming engineering develop teamwork',\n",
       " 'students need math manipulatives starting guided math supplies help make transitioning differentiating learning fun engaging',\n",
       " 'students need 3 ring binders collect student work portfolios also need art supplies projects interactive notebooks',\n",
       " 'students need 5 sets play doh making models school e initiative activities well hands projects subject areas',\n",
       " 'students need 3 ipads use documenting creating books videos researching plants insects balance motion new science curriculum',\n",
       " 'students need able document journey camp classen outdoor education program',\n",
       " 'students need 25 copies book rules cynthia lord learn life changing lessons people autism learning important reading skills',\n",
       " 'students need 5 kore wobble chairs help encourage focus engagement mobility kindergarten classroom',\n",
       " 'students need drum major podium',\n",
       " 'students need hanging file folders file folders store new interactive notebooks class notes',\n",
       " 'students need two sets books book clubs improve literacy discussion skills well new informational texts support ngss',\n",
       " 'students need following back school items start 2016 2017 school year many students not three ring binders folders etc',\n",
       " 'students need wobble cushions desk bands chair bands balance balls peddlers',\n",
       " 'students need leveled books read independent reading levels need fiction nonfiction books',\n",
       " 'students need basic school supplies technology conduct research english language arts social studies help prepare technology based world',\n",
       " 'students need additional seating choices accommodate needs children classroom',\n",
       " 'students need functional durable kidz gear wired headphones kids belkin rockstar multi headphone splitters properly interact class technology',\n",
       " 'students need instrument stands bari sax harness keep instruments optimal playing condition',\n",
       " 'students need 4 jellyfish jr seats add additional seating options classroom comfortable yet keep active',\n",
       " 'students need amazon fire e readers access many online leveled readers offered big universe unite literacy',\n",
       " 'students need kleenex pencils boxes erasers dry erase markers composition books spiral notebooks highlighters post notes',\n",
       " 'students need books informational literary fictional order uncover causing school prison pipeline',\n",
       " 'students need stem supplies technology tie stem initiative',\n",
       " 'students need library books students chose books selected would like books available students read time',\n",
       " 'students need sensory items go sensory room rocking chairs provide sensory stimulation children diagnosed autism',\n",
       " 'students need markers chart paper post note cards pens literacy workshop',\n",
       " 'students need ink cartridges projects printed color printer',\n",
       " 'students need bulletin board decoration boarders letters tape display beautiful work created throughout year',\n",
       " 'students need chromebooks classroom convenient access technology',\n",
       " 'students need class set 30 chromebooks charging cart',\n",
       " 'students need 16 fetal pig specimens dissection 1 digital microscope documenting inner workings anatomy digital art',\n",
       " 'students need pair new chromebooks classroom chromebooks would allow students creative collaborate together learning environment',\n",
       " 'students need ipad help communication literacy social math skills',\n",
       " 'students need legos create environment helps sponsor creative thinking attempt equalize exposure engineering design kindergarten',\n",
       " 'students need manipulatives station rotations students need math manipulatives show numbers different ways students need sight word games',\n",
       " 'students need music art supplies key engaging students education',\n",
       " 'students need art supplies writing material including paints canvas organizers',\n",
       " 'students need 1 stem bundle 1 stem folk tale kit',\n",
       " 'students need dough molding materials well music player rain sticks daily calming experiences connect art music literacy',\n",
       " 'students need 3 ipad minis improve technology learning center within classroom',\n",
       " 'students need following books better reading instruction classroom',\n",
       " 'students need labeled sorted leveled readers',\n",
       " 'students need 11 headphone sets',\n",
       " 'students need pa system present amplify voice students hear',\n",
       " 'students need interactive whiteboard contemporary multicultural books literature circles books independent reading projects bungee seats',\n",
       " 'students need items help make summer school enjoyable educational sensory items students asd books early literature learning',\n",
       " 'students need ability able move learn would like materials flexible seating classroom',\n",
       " 'students need enough tables chairs safely engage laboratory activities',\n",
       " 'students need indoor outdoor pillows comfortable place read variety text including math science stem nonfiction books improve literacy',\n",
       " 'students need tumbling mats provide protection falls stunts tumbling jumps',\n",
       " 'help students got wiggles students need 6 wiggle stools help allow move around centers continue work',\n",
       " 'students need working laptop computer',\n",
       " 'students need ipad perform research genius hour',\n",
       " 'students need flexible seating classroom including six stability balls',\n",
       " 'students need options flexible seating wobble stools stability balls make time class successful',\n",
       " 'students need dash dot programmable robots scratch coding resources books robotics',\n",
       " 'students need fraction bar sets',\n",
       " 'students need die cutter dies student government posters projects',\n",
       " 'students need different art supplies paints brushes drying racks drawing tools paper storage',\n",
       " 'students need supplies place escape read',\n",
       " 'students need chapter books build classroom library',\n",
       " 'students need bouncy bands desks able move sitting students need headphones listen ipads students need pencil sharpener',\n",
       " 'students need hands materials magnetic letters hear phones alphabet tubs enhance guided reading classroom',\n",
       " 'students need alternative seating options classroom use wiggle stools balance balls carpet squares flexible eating choices working',\n",
       " 'students need wobble seats',\n",
       " 'students need science books water testing kits magazines earth environment chair organizers ipad pro accessories ipad pencil research study',\n",
       " 'students need basic school supplies pencils glue tape rulers order work full potentials',\n",
       " 'students need 17 acer chromebooks help support english language arts instruction brother laser printer toner publish amazing writing',\n",
       " 'students need makey makey ozobots dot dash bring real world robotics classroom',\n",
       " 'students need table allow us access give space students need reusable materials like dry erase sheet pockets',\n",
       " ...]"
      ]
     },
     "execution_count": 28,
     "metadata": {},
     "output_type": "execute_result"
    }
   ],
   "source": [
    "project_resource_summary"
   ]
  },
  {
   "cell_type": "markdown",
   "metadata": {
    "colab_type": "text",
    "id": "QeUw6WMKCyn7"
   },
   "source": [
    "<h2><font color='red'> 1.4 Preprocessing of `project_title`</font></h2>"
   ]
  },
  {
   "cell_type": "code",
   "execution_count": 29,
   "metadata": {
    "colab": {},
    "colab_type": "code",
    "id": "Ql9ttfW3Cyn7"
   },
   "outputs": [
    {
     "name": "stderr",
     "output_type": "stream",
     "text": [
      "100%|███████████████████████████████████████████████████████████████████████| 109245/109245 [00:03<00:00, 36372.83it/s]\n"
     ]
    }
   ],
   "source": [
    "# similarly you can preprocess the titles also\n",
    "from tqdm import tqdm\n",
    "preprocessed_titles = []\n",
    "# tqdm is for printing the status bar\n",
    "for sentance in tqdm(project_data['project_title'].values):\n",
    "    sent = decontracted(sentance)\n",
    "    sent = sent.replace('\\\\r', ' ')\n",
    "    sent = sent.replace('\\\\\"', ' ')\n",
    "    sent = sent.replace('\\\\n', ' ')\n",
    "    sent = re.sub('[^A-Za-z0-9]+', ' ', sent)\n",
    "    # https://gist.github.com/sebleier/554280\n",
    "    sent = ' '.join(e for e in sent.split() if e not in stopwords)\n",
    "    preprocessed_titles.append(sent.lower().strip())\n",
    "    "
   ]
  },
  {
   "cell_type": "code",
   "execution_count": 30,
   "metadata": {},
   "outputs": [
    {
     "data": {
      "text/plain": [
       "109245"
      ]
     },
     "execution_count": 30,
     "metadata": {},
     "output_type": "execute_result"
    }
   ],
   "source": [
    "len(preprocessed_titles)"
   ]
  },
  {
   "cell_type": "code",
   "execution_count": 31,
   "metadata": {},
   "outputs": [
    {
     "name": "stderr",
     "output_type": "stream",
     "text": [
      "100%|██████████████████████████████████████████████████████████████████████| 109245/109245 [00:00<00:00, 786112.23it/s]\n"
     ]
    }
   ],
   "source": [
    "from tqdm import tqdm\n",
    "preprocessed_grade_category = []\n",
    "# tqdm is for printing the status bar\n",
    "for sentance in tqdm(project_data['project_grade_category'].values):\n",
    "    sentance = sentance.replace('Grades', '')\n",
    "    sentance = sentance.replace('-', '_')\n",
    "    preprocessed_grade_category.append(sentance.lower().strip())"
   ]
  },
  {
   "cell_type": "code",
   "execution_count": 32,
   "metadata": {},
   "outputs": [
    {
     "data": {
      "text/plain": [
       "109245"
      ]
     },
     "execution_count": 32,
     "metadata": {},
     "output_type": "execute_result"
    }
   ],
   "source": [
    "len(preprocessed_grade_category)"
   ]
  },
  {
   "cell_type": "code",
   "execution_count": 33,
   "metadata": {},
   "outputs": [
    {
     "name": "stderr",
     "output_type": "stream",
     "text": [
      "100%|███████████████████████████████████████████████████████████████████████| 109245/109245 [00:02<00:00, 50551.65it/s]\n"
     ]
    }
   ],
   "source": [
    "from tqdm import tqdm\n",
    "preprocessed_subject_categories = []\n",
    "# tqdm is for printing the status bar\n",
    "for sentance in tqdm(project_data['clean_categories'].values):\n",
    "    sent = decontracted(sentance)\n",
    "    sent = sent.replace('\\\\r', ' ')\n",
    "    sent = sent.replace('\\\\\"', ' ')\n",
    "    sent = sent.replace('\\\\n', ' ')\n",
    "    sent = re.sub('[^A-Za-z0-9]+', ' ', sent)\n",
    "    # https://gist.github.com/sebleier/554280\n",
    "    sent = ' '.join(e for e in sent.split() if e not in stopwords)\n",
    "    preprocessed_subject_categories.append(sent.lower().strip())"
   ]
  },
  {
   "cell_type": "markdown",
   "metadata": {
    "colab_type": "text",
    "id": "NQg4ZfFtCyn9"
   },
   "source": [
    "## 1.5 Preparing data for models"
   ]
  },
  {
   "cell_type": "code",
   "execution_count": 34,
   "metadata": {
    "colab": {},
    "colab_type": "code",
    "id": "V4GS54ZTCyn-",
    "outputId": "febd575b-ed33-454e-d2d5-e8f6f635d117"
   },
   "outputs": [
    {
     "data": {
      "text/html": [
       "<div>\n",
       "<style scoped>\n",
       "    .dataframe tbody tr th:only-of-type {\n",
       "        vertical-align: middle;\n",
       "    }\n",
       "\n",
       "    .dataframe tbody tr th {\n",
       "        vertical-align: top;\n",
       "    }\n",
       "\n",
       "    .dataframe thead th {\n",
       "        text-align: right;\n",
       "    }\n",
       "</style>\n",
       "<table border=\"1\" class=\"dataframe\">\n",
       "  <thead>\n",
       "    <tr style=\"text-align: right;\">\n",
       "      <th></th>\n",
       "      <th>Unnamed: 0</th>\n",
       "      <th>id</th>\n",
       "      <th>teacher_id</th>\n",
       "      <th>teacher_prefix</th>\n",
       "      <th>school_state</th>\n",
       "      <th>Date</th>\n",
       "      <th>project_grade_category</th>\n",
       "      <th>project_title</th>\n",
       "      <th>project_essay_1</th>\n",
       "      <th>project_essay_2</th>\n",
       "      <th>project_essay_3</th>\n",
       "      <th>project_essay_4</th>\n",
       "      <th>project_resource_summary</th>\n",
       "      <th>teacher_number_of_previously_posted_projects</th>\n",
       "      <th>clean_categories</th>\n",
       "      <th>clean_subcategories</th>\n",
       "      <th>essay</th>\n",
       "    </tr>\n",
       "  </thead>\n",
       "  <tbody>\n",
       "    <tr>\n",
       "      <th>55660</th>\n",
       "      <td>8393</td>\n",
       "      <td>p205479</td>\n",
       "      <td>2bf07ba08945e5d8b2a3f269b2b3cfe5</td>\n",
       "      <td>Mrs.</td>\n",
       "      <td>CA</td>\n",
       "      <td>2016-04-27 00:27:36</td>\n",
       "      <td>Grades PreK-2</td>\n",
       "      <td>Engineering STEAM into the Primary Classroom</td>\n",
       "      <td>I have been fortunate enough to use the Fairy ...</td>\n",
       "      <td>My students come from a variety of backgrounds...</td>\n",
       "      <td>Each month I try to do several science or STEM...</td>\n",
       "      <td>It is challenging to develop high quality scie...</td>\n",
       "      <td>My students need STEM kits to learn critical s...</td>\n",
       "      <td>53</td>\n",
       "      <td>Math_Science</td>\n",
       "      <td>AppliedSciences Health_LifeScience</td>\n",
       "      <td>I have been fortunate enough to use the Fairy ...</td>\n",
       "    </tr>\n",
       "    <tr>\n",
       "      <th>76127</th>\n",
       "      <td>37728</td>\n",
       "      <td>p043609</td>\n",
       "      <td>3f60494c61921b3b43ab61bdde2904df</td>\n",
       "      <td>Ms.</td>\n",
       "      <td>UT</td>\n",
       "      <td>2016-04-27 00:31:25</td>\n",
       "      <td>Grades 3-5</td>\n",
       "      <td>Sensory Tools for Focus</td>\n",
       "      <td>Imagine being 8-9 years old. You're in your th...</td>\n",
       "      <td>Most of my students have autism, anxiety, anot...</td>\n",
       "      <td>It is tough to do more than one thing at a tim...</td>\n",
       "      <td>When my students are able to calm themselves d...</td>\n",
       "      <td>My students need Boogie Boards for quiet senso...</td>\n",
       "      <td>4</td>\n",
       "      <td>SpecialNeeds</td>\n",
       "      <td>SpecialNeeds</td>\n",
       "      <td>Imagine being 8-9 years old. You're in your th...</td>\n",
       "    </tr>\n",
       "    <tr>\n",
       "      <th>51140</th>\n",
       "      <td>74477</td>\n",
       "      <td>p189804</td>\n",
       "      <td>4a97f3a390bfe21b99cf5e2b81981c73</td>\n",
       "      <td>Mrs.</td>\n",
       "      <td>CA</td>\n",
       "      <td>2016-04-27 00:46:53</td>\n",
       "      <td>Grades PreK-2</td>\n",
       "      <td>Mobile Learning with a Mobile Listening Center</td>\n",
       "      <td>Having a class of 24 students comes with diver...</td>\n",
       "      <td>I have a class of twenty-four kindergarten stu...</td>\n",
       "      <td>By having a mobile listening and storage cente...</td>\n",
       "      <td>A mobile listening center will help keep equip...</td>\n",
       "      <td>My students need a mobile listening center to ...</td>\n",
       "      <td>10</td>\n",
       "      <td>Literacy_Language</td>\n",
       "      <td>Literacy</td>\n",
       "      <td>Having a class of 24 students comes with diver...</td>\n",
       "    </tr>\n",
       "    <tr>\n",
       "      <th>473</th>\n",
       "      <td>100660</td>\n",
       "      <td>p234804</td>\n",
       "      <td>cbc0e38f522143b86d372f8b43d4cff3</td>\n",
       "      <td>Mrs.</td>\n",
       "      <td>GA</td>\n",
       "      <td>2016-04-27 00:53:00</td>\n",
       "      <td>Grades PreK-2</td>\n",
       "      <td>Flexible Seating for Flexible Learning</td>\n",
       "      <td>I recently read an article about giving studen...</td>\n",
       "      <td>I teach at a low-income (Title 1) school. Ever...</td>\n",
       "      <td>We need a classroom rug that we can use as a c...</td>\n",
       "      <td>Benjamin Franklin once said, \\\"Tell me and I f...</td>\n",
       "      <td>My students need flexible seating in the class...</td>\n",
       "      <td>2</td>\n",
       "      <td>AppliedLearning</td>\n",
       "      <td>EarlyDevelopment</td>\n",
       "      <td>I recently read an article about giving studen...</td>\n",
       "    </tr>\n",
       "    <tr>\n",
       "      <th>41558</th>\n",
       "      <td>33679</td>\n",
       "      <td>p137682</td>\n",
       "      <td>06f6e62e17de34fcf81020c77549e1d5</td>\n",
       "      <td>Mrs.</td>\n",
       "      <td>WA</td>\n",
       "      <td>2016-04-27 01:05:25</td>\n",
       "      <td>Grades 3-5</td>\n",
       "      <td>Going Deep: The Art of Inner Thinking!</td>\n",
       "      <td>My students crave challenge, they eat obstacle...</td>\n",
       "      <td>We are an urban, public k-5 elementary school....</td>\n",
       "      <td>With the new common core standards that have b...</td>\n",
       "      <td>These remarkable gifts will provide students w...</td>\n",
       "      <td>My students need copies of the New York Times ...</td>\n",
       "      <td>2</td>\n",
       "      <td>Literacy_Language</td>\n",
       "      <td>Literacy</td>\n",
       "      <td>My students crave challenge, they eat obstacle...</td>\n",
       "    </tr>\n",
       "  </tbody>\n",
       "</table>\n",
       "</div>"
      ],
      "text/plain": [
       "       Unnamed: 0       id                        teacher_id teacher_prefix  \\\n",
       "55660        8393  p205479  2bf07ba08945e5d8b2a3f269b2b3cfe5           Mrs.   \n",
       "76127       37728  p043609  3f60494c61921b3b43ab61bdde2904df            Ms.   \n",
       "51140       74477  p189804  4a97f3a390bfe21b99cf5e2b81981c73           Mrs.   \n",
       "473        100660  p234804  cbc0e38f522143b86d372f8b43d4cff3           Mrs.   \n",
       "41558       33679  p137682  06f6e62e17de34fcf81020c77549e1d5           Mrs.   \n",
       "\n",
       "      school_state                Date project_grade_category  \\\n",
       "55660           CA 2016-04-27 00:27:36          Grades PreK-2   \n",
       "76127           UT 2016-04-27 00:31:25             Grades 3-5   \n",
       "51140           CA 2016-04-27 00:46:53          Grades PreK-2   \n",
       "473             GA 2016-04-27 00:53:00          Grades PreK-2   \n",
       "41558           WA 2016-04-27 01:05:25             Grades 3-5   \n",
       "\n",
       "                                        project_title  \\\n",
       "55660    Engineering STEAM into the Primary Classroom   \n",
       "76127                         Sensory Tools for Focus   \n",
       "51140  Mobile Learning with a Mobile Listening Center   \n",
       "473            Flexible Seating for Flexible Learning   \n",
       "41558          Going Deep: The Art of Inner Thinking!   \n",
       "\n",
       "                                         project_essay_1  \\\n",
       "55660  I have been fortunate enough to use the Fairy ...   \n",
       "76127  Imagine being 8-9 years old. You're in your th...   \n",
       "51140  Having a class of 24 students comes with diver...   \n",
       "473    I recently read an article about giving studen...   \n",
       "41558  My students crave challenge, they eat obstacle...   \n",
       "\n",
       "                                         project_essay_2  \\\n",
       "55660  My students come from a variety of backgrounds...   \n",
       "76127  Most of my students have autism, anxiety, anot...   \n",
       "51140  I have a class of twenty-four kindergarten stu...   \n",
       "473    I teach at a low-income (Title 1) school. Ever...   \n",
       "41558  We are an urban, public k-5 elementary school....   \n",
       "\n",
       "                                         project_essay_3  \\\n",
       "55660  Each month I try to do several science or STEM...   \n",
       "76127  It is tough to do more than one thing at a tim...   \n",
       "51140  By having a mobile listening and storage cente...   \n",
       "473    We need a classroom rug that we can use as a c...   \n",
       "41558  With the new common core standards that have b...   \n",
       "\n",
       "                                         project_essay_4  \\\n",
       "55660  It is challenging to develop high quality scie...   \n",
       "76127  When my students are able to calm themselves d...   \n",
       "51140  A mobile listening center will help keep equip...   \n",
       "473    Benjamin Franklin once said, \\\"Tell me and I f...   \n",
       "41558  These remarkable gifts will provide students w...   \n",
       "\n",
       "                                project_resource_summary  \\\n",
       "55660  My students need STEM kits to learn critical s...   \n",
       "76127  My students need Boogie Boards for quiet senso...   \n",
       "51140  My students need a mobile listening center to ...   \n",
       "473    My students need flexible seating in the class...   \n",
       "41558  My students need copies of the New York Times ...   \n",
       "\n",
       "       teacher_number_of_previously_posted_projects   clean_categories  \\\n",
       "55660                                            53       Math_Science   \n",
       "76127                                             4       SpecialNeeds   \n",
       "51140                                            10  Literacy_Language   \n",
       "473                                               2    AppliedLearning   \n",
       "41558                                             2  Literacy_Language   \n",
       "\n",
       "                      clean_subcategories  \\\n",
       "55660  AppliedSciences Health_LifeScience   \n",
       "76127                        SpecialNeeds   \n",
       "51140                            Literacy   \n",
       "473                      EarlyDevelopment   \n",
       "41558                            Literacy   \n",
       "\n",
       "                                                   essay  \n",
       "55660  I have been fortunate enough to use the Fairy ...  \n",
       "76127  Imagine being 8-9 years old. You're in your th...  \n",
       "51140  Having a class of 24 students comes with diver...  \n",
       "473    I recently read an article about giving studen...  \n",
       "41558  My students crave challenge, they eat obstacle...  "
      ]
     },
     "execution_count": 34,
     "metadata": {},
     "output_type": "execute_result"
    }
   ],
   "source": [
    "project_data.columns\n",
    "project_data.head()"
   ]
  },
  {
   "cell_type": "code",
   "execution_count": 35,
   "metadata": {},
   "outputs": [],
   "source": [
    "import math \n",
    "project_data['teacher_prefix'] = project_data['teacher_prefix'].str.replace('.', '')\n"
   ]
  },
  {
   "cell_type": "code",
   "execution_count": 36,
   "metadata": {},
   "outputs": [],
   "source": [
    "price_data = resource_data.groupby('id').agg({'price':'sum', 'quantity':'sum'}).reset_index()\n"
   ]
  },
  {
   "cell_type": "markdown",
   "metadata": {},
   "source": [
    "### Combining all the preprossed features to a data frame to split the data to train and test split \n"
   ]
  },
  {
   "cell_type": "code",
   "execution_count": 37,
   "metadata": {},
   "outputs": [],
   "source": [
    "import numpy as np \n",
    "import pandas as pd \n",
    "catagories=list(project_data.clean_categories[0:10000])\n",
    "preprocessed_grade_category =list(preprocessed_grade_category[0:10000])\n",
    "preprocessed_titles= list(preprocessed_titles[0:10000])\n",
    "school_state=list(project_data.school_state[0:10000])\n",
    "clean_subcategories=list(project_data.clean_subcategories[0:10000])\n",
    "project_resource_summary=list(project_resource_summary[0:10000])\n",
    "preprocessed_essays=list(preprocessed_essays[0:10000])\n",
    "teacher_prefix=list(project_data.teacher_prefix[0:10000])\n",
    "id=list(project_data.id[0:10000])\n",
    "y=y[0:10000]\n",
    "\n",
    "\n",
    "price=price_data.price[0:10000]\n",
    "quantity=price_data.quantity[0:10000]\n"
   ]
  },
  {
   "cell_type": "code",
   "execution_count": 38,
   "metadata": {},
   "outputs": [
    {
     "data": {
      "text/plain": [
       "10000"
      ]
     },
     "execution_count": 38,
     "metadata": {},
     "output_type": "execute_result"
    }
   ],
   "source": [
    "preprocessed_grade_category =list(preprocessed_grade_category[0:20000])\n",
    "len(y)"
   ]
  },
  {
   "cell_type": "code",
   "execution_count": 39,
   "metadata": {},
   "outputs": [],
   "source": [
    "import numpy as np \n",
    "#https://stackoverflow.com/questions/18689823/pandas-dataframe-replace-nan-values-with-average-of-columns\n",
    "x=pd.DataFrame(dict(preprocessed_titles = preprocessed_titles, preprocessed_grade_category = preprocessed_grade_category,catagories=catagories,school_state=school_state,clean_subcategories=clean_subcategories,project_resource_summary=project_resource_summary,preprocessed_essays=preprocessed_essays,id=id,teacher_prefix=teacher_prefix,price=price,quantity=quantity))\n"
   ]
  },
  {
   "cell_type": "code",
   "execution_count": 40,
   "metadata": {},
   "outputs": [
    {
     "data": {
      "text/plain": [
       "preprocessed_titles            0\n",
       "preprocessed_grade_category    0\n",
       "catagories                     0\n",
       "school_state                   0\n",
       "clean_subcategories            0\n",
       "project_resource_summary       0\n",
       "preprocessed_essays            0\n",
       "id                             0\n",
       "teacher_prefix                 0\n",
       "price                          0\n",
       "quantity                       0\n",
       "dtype: int64"
      ]
     },
     "execution_count": 40,
     "metadata": {},
     "output_type": "execute_result"
    }
   ],
   "source": [
    "\n",
    "x.isnull().sum()\n"
   ]
  },
  {
   "cell_type": "markdown",
   "metadata": {},
   "source": [
    "### spliting the data into training test and cv and performing various feature operations."
   ]
  },
  {
   "cell_type": "code",
   "execution_count": 41,
   "metadata": {},
   "outputs": [],
   "source": [
    "from sklearn.model_selection import train_test_split\n",
    "X_train, X_test, y_train, y_test = train_test_split(x, y, test_size=0.33, stratify=y)\n"
   ]
  },
  {
   "cell_type": "markdown",
   "metadata": {
    "colab_type": "text",
    "id": "6FDsc1epCyoD"
   },
   "source": [
    "we are going to consider\n",
    "\n",
    "       - school_state : categorical data\n",
    "       - clean_categories : categorical data\n",
    "       - clean_subcategories : categorical data\n",
    "       - project_grade_category : categorical data\n",
    "       - teacher_prefix : categorical data\n",
    "       \n",
    "       - project_title : text data\n",
    "       - text : text data\n",
    "       - project_resource_summary: text data (optinal)\n",
    "       \n",
    "       - quantity : numerical (optinal)\n",
    "       - teacher_number_of_previously_posted_projects : numerical\n",
    "       - price : numerical"
   ]
  },
  {
   "cell_type": "code",
   "execution_count": 42,
   "metadata": {},
   "outputs": [
    {
     "name": "stdout",
     "output_type": "stream",
     "text": [
      "(6700, 11) (6700,)\n",
      "(3300, 11) (3300,)\n",
      "====================================================================================================\n"
     ]
    }
   ],
   "source": [
    "print(X_train.shape, y_train.shape)\n",
    "print(X_test.shape, y_test.shape)\n",
    "\n",
    "print(\"=\"*100)"
   ]
  },
  {
   "cell_type": "markdown",
   "metadata": {},
   "source": [
    "### Essays BOW encoding "
   ]
  },
  {
   "cell_type": "code",
   "execution_count": 43,
   "metadata": {},
   "outputs": [
    {
     "name": "stdout",
     "output_type": "stream",
     "text": [
      "After vectorizations\n",
      "(6700, 5000) (6700,)\n",
      "(3300, 5000) (3300,)\n",
      "====================================================================================================\n"
     ]
    }
   ],
   "source": [
    "from sklearn.feature_extraction.text import CountVectorizer\n",
    "vectorizer = CountVectorizer(min_df=10,ngram_range=(1,4), max_features=5000)\n",
    "vectorizer.fit(X_train['preprocessed_essays'].values) # fit has to happen only on train data\n",
    "\n",
    "# we use the fitted CountVectorizer to convert the text to vector\n",
    "X_train_essay_bow = vectorizer.transform(X_train['preprocessed_essays'].values)\n",
    "X_test_essay_bow = vectorizer.transform(X_test['preprocessed_essays'].values)\n",
    "\n",
    "print(\"After vectorizations\")\n",
    "print(X_train_essay_bow.shape, y_train.shape)\n",
    "print(X_test_essay_bow.shape, y_test.shape)\n",
    "print(\"=\"*100)"
   ]
  },
  {
   "cell_type": "markdown",
   "metadata": {},
   "source": [
    "### Project Titles BOW encoding "
   ]
  },
  {
   "cell_type": "code",
   "execution_count": 44,
   "metadata": {},
   "outputs": [
    {
     "name": "stdout",
     "output_type": "stream",
     "text": [
      "After vectorizations\n",
      "(6700, 627) (6700,)\n",
      "(3300, 627) (3300,)\n",
      "====================================================================================================\n"
     ]
    }
   ],
   "source": [
    "vectorizer = CountVectorizer(min_df=10,ngram_range=(1,3), max_features=5000)\n",
    "vectorizer.fit(X_train['preprocessed_titles'].values) # fit has to happen only on train data\n",
    "\n",
    "# we use the fitted CountVectorizer to convert the text to vector\n",
    "X_train_titles_bow = vectorizer.transform(X_train['preprocessed_titles'].values)\n",
    "X_test_titles_bow = vectorizer.transform(X_test['preprocessed_titles'].values)\n",
    "\n",
    "print(\"After vectorizations\")\n",
    "print(X_train_titles_bow.shape, y_train.shape)\n",
    "print(X_test_titles_bow.shape, y_test.shape)\n",
    "print(\"=\"*100)"
   ]
  },
  {
   "cell_type": "markdown",
   "metadata": {},
   "source": [
    "### Project Resource Summary BOW encoding "
   ]
  },
  {
   "cell_type": "code",
   "execution_count": 45,
   "metadata": {},
   "outputs": [
    {
     "name": "stdout",
     "output_type": "stream",
     "text": [
      "After vectorizations\n",
      "(6700, 631) (6700,)\n",
      "(3300, 631) (3300,)\n",
      "====================================================================================================\n"
     ]
    }
   ],
   "source": [
    "vectorizer = CountVectorizer(min_df=10,ngram_range=(1,4), max_features=5000)\n",
    "vectorizer.fit(X_train['preprocessed_titles'].values) # fit has to happen only on train data\n",
    "\n",
    "# we use the fitted CountVectorizer to convert the text to vector\n",
    "X_train_resource_bow = vectorizer.transform(X_train['project_resource_summary'].values)\n",
    "X_test_resource_bow = vectorizer.transform(X_test['project_resource_summary'].values)\n",
    "\n",
    "print(\"After vectorizations\")\n",
    "print(X_train_resource_bow.shape, y_train.shape)\n",
    "print(X_test_resource_bow.shape, y_test.shape)\n",
    "print(\"=\"*100)"
   ]
  },
  {
   "cell_type": "markdown",
   "metadata": {
    "colab_type": "text",
    "id": "0d0QeeQ-CyoD"
   },
   "source": [
    "### 1.5.1 Vectorizing Categorical data"
   ]
  },
  {
   "cell_type": "markdown",
   "metadata": {},
   "source": [
    "### one hot encoding the catogorical features: state"
   ]
  },
  {
   "cell_type": "markdown",
   "metadata": {
    "colab_type": "text",
    "id": "kFZFSOirCyoD"
   },
   "source": [
    "- https://www.appliedaicourse.com/course/applied-ai-course-online/lessons/handling-categorical-and-numerical-features/"
   ]
  },
  {
   "cell_type": "code",
   "execution_count": 46,
   "metadata": {
    "colab": {},
    "colab_type": "code",
    "id": "_5mt7VMXCyoF",
    "outputId": "0dbca3d7-df66-46b6-d9b3-a4035f29f8ab"
   },
   "outputs": [
    {
     "name": "stdout",
     "output_type": "stream",
     "text": [
      "After vectorizations\n",
      "(6700, 51) (6700,)\n",
      "(3300, 51) (3300,)\n",
      "['ak', 'al', 'ar', 'az', 'ca', 'co', 'ct', 'dc', 'de', 'fl', 'ga', 'hi', 'ia', 'id', 'il', 'in', 'ks', 'ky', 'la', 'ma', 'md', 'me', 'mi', 'mn', 'mo', 'ms', 'mt', 'nc', 'nd', 'ne', 'nh', 'nj', 'nm', 'nv', 'ny', 'oh', 'ok', 'or', 'pa', 'ri', 'sc', 'sd', 'tn', 'tx', 'ut', 'va', 'vt', 'wa', 'wi', 'wv', 'wy']\n",
      "====================================================================================================\n"
     ]
    }
   ],
   "source": [
    "vectorizer = CountVectorizer()\n",
    "vectorizer.fit(X_train['school_state'].values) # fit has to happen only on train data\n",
    "\n",
    "# we use the fitted CountVectorizer to convert the text to vector\n",
    "X_train_state_ohe = vectorizer.transform(X_train['school_state'].values)\n",
    "X_test_state_ohe = vectorizer.transform(X_test['school_state'].values)\n",
    "\n",
    "print(\"After vectorizations\")\n",
    "print(X_train_state_ohe.shape, y_train.shape)\n",
    "print(X_test_state_ohe.shape, y_test.shape)\n",
    "print(vectorizer.get_feature_names())\n",
    "print(\"=\"*100)"
   ]
  },
  {
   "cell_type": "markdown",
   "metadata": {},
   "source": [
    "### one hot encoding the catogorical features: teachers prefix"
   ]
  },
  {
   "cell_type": "code",
   "execution_count": 47,
   "metadata": {},
   "outputs": [
    {
     "name": "stdout",
     "output_type": "stream",
     "text": [
      "After vectorizations\n",
      "(6700, 5) (6700,)\n",
      "(3300, 5) (3300,)\n",
      "['dr', 'mr', 'mrs', 'ms', 'teacher']\n",
      "====================================================================================================\n"
     ]
    }
   ],
   "source": [
    "vectorizer = CountVectorizer()\n",
    "vectorizer.fit(X_train['teacher_prefix'].values) # fit has to happen only on train data\n",
    "\n",
    "# we use the fitted CountVectorizer to convert the text to vector\n",
    "X_train_teacher_ohe = vectorizer.transform(X_train['teacher_prefix'].values)\n",
    "X_test_teacher_ohe = vectorizer.transform(X_test['teacher_prefix'].values)\n",
    "\n",
    "print(\"After vectorizations\")\n",
    "print(X_train_teacher_ohe.shape, y_train.shape)\n",
    "print(X_test_teacher_ohe.shape, y_test.shape)\n",
    "print(vectorizer.get_feature_names())\n",
    "print(\"=\"*100)"
   ]
  },
  {
   "cell_type": "markdown",
   "metadata": {},
   "source": [
    "### one hot encoding the catogorical features: subject catagories "
   ]
  },
  {
   "cell_type": "code",
   "execution_count": 48,
   "metadata": {
    "colab": {},
    "colab_type": "code",
    "id": "npr7SzACCyoH",
    "outputId": "68c81ac7-c96e-4a19-849e-6b8213608464"
   },
   "outputs": [
    {
     "name": "stdout",
     "output_type": "stream",
     "text": [
      "After vectorizations\n",
      "(6700, 7) (6700,)\n",
      "(3300, 7) (3300,)\n",
      "['appliedlearning', 'health_sports', 'history_civics', 'literacy_language', 'math_science', 'music_arts', 'specialneeds']\n",
      "====================================================================================================\n"
     ]
    }
   ],
   "source": [
    "# we use count vectorizer to convert the values into one \n",
    "catagories\n",
    "vectorizer = CountVectorizer()\n",
    "vectorizer.fit(X_train['catagories'].values) # fit has to happen only on train data\n",
    "\n",
    "# we use the fitted CountVectorizer to convert the text to vector\n",
    "X_train_catagories_ohe = vectorizer.transform(X_train['catagories'].values)\n",
    "\n",
    "X_test_catagories_ohe = vectorizer.transform(X_test['catagories'].values)\n",
    "\n",
    "print(\"After vectorizations\")\n",
    "print(X_train_catagories_ohe.shape, y_train.shape)\n",
    "print(X_test_catagories_ohe.shape, y_test.shape)\n",
    "print(vectorizer.get_feature_names())\n",
    "print(\"=\"*100)"
   ]
  },
  {
   "cell_type": "markdown",
   "metadata": {},
   "source": [
    "### one hot encoding the catogorical features: subject sub catagories "
   ]
  },
  {
   "cell_type": "code",
   "execution_count": 49,
   "metadata": {},
   "outputs": [
    {
     "name": "stdout",
     "output_type": "stream",
     "text": [
      "After vectorizations\n",
      "(6700, 28) (6700,)\n",
      "(3300, 28) (3300,)\n",
      "['appliedsciences', 'charactereducation', 'civics_government', 'college_careerprep', 'communityservice', 'earlydevelopment', 'economics', 'environmentalscience', 'esl', 'extracurricular', 'financialliteracy', 'foreignlanguages', 'gym_fitness', 'health_lifescience', 'health_wellness', 'history_geography', 'literacy', 'literature_writing', 'mathematics', 'music', 'nutritioneducation', 'other', 'parentinvolvement', 'performingarts', 'socialsciences', 'specialneeds', 'teamsports', 'visualarts']\n",
      "====================================================================================================\n"
     ]
    }
   ],
   "source": [
    "catagories\n",
    "vectorizer = CountVectorizer()\n",
    "vectorizer.fit(X_train['clean_subcategories'].values) # fit has to happen only on train data\n",
    "\n",
    "# we use the fitted CountVectorizer to convert the text to vector\n",
    "X_train_sub_catagories_ohe = vectorizer.transform(X_train['clean_subcategories'].values)\n",
    "X_test_sub_catagories_ohe = vectorizer.transform(X_test['clean_subcategories'].values)\n",
    "\n",
    "print(\"After vectorizations\")\n",
    "print(X_train_sub_catagories_ohe.shape, y_train.shape)\n",
    "print(X_test_sub_catagories_ohe.shape, y_test.shape)\n",
    "print(vectorizer.get_feature_names())\n",
    "print(\"=\"*100)"
   ]
  },
  {
   "cell_type": "markdown",
   "metadata": {},
   "source": [
    "### one hot encoding the catogorical features: project grade catogory "
   ]
  },
  {
   "cell_type": "code",
   "execution_count": 50,
   "metadata": {},
   "outputs": [
    {
     "name": "stdout",
     "output_type": "stream",
     "text": [
      "After vectorizations\n",
      "(6700, 4) (6700,)\n",
      "(3300, 4) (3300,)\n",
      "['3_5', '6_8', '9_12', 'prek_2']\n",
      "====================================================================================================\n"
     ]
    }
   ],
   "source": [
    "preprocessed_grade_category\n",
    "catagories\n",
    "vectorizer = CountVectorizer()\n",
    "vectorizer.fit(X_train['preprocessed_grade_category'].values) # fit has to happen only on train data\n",
    "\n",
    "# we use the fitted CountVectorizer to convert the text to vector\n",
    "X_train_grade_catagories_ohe = vectorizer.transform(X_train['preprocessed_grade_category'].values)\n",
    "X_test_grade_catagories_ohe = vectorizer.transform(X_test['preprocessed_grade_category'].values)\n",
    "\n",
    "print(\"After vectorizations\")\n",
    "print(X_train_grade_catagories_ohe.shape, y_train.shape)\n",
    "print(X_test_grade_catagories_ohe.shape, y_test.shape)\n",
    "print(vectorizer.get_feature_names())\n",
    "print(\"=\"*100)"
   ]
  },
  {
   "cell_type": "markdown",
   "metadata": {},
   "source": [
    "### Normalizing numerical value price "
   ]
  },
  {
   "cell_type": "code",
   "execution_count": 51,
   "metadata": {},
   "outputs": [
    {
     "name": "stdout",
     "output_type": "stream",
     "text": [
      "After vectorizations\n",
      "(6700, 1) (6700,)\n",
      "(3300, 1) (3300,)\n",
      "====================================================================================================\n"
     ]
    }
   ],
   "source": [
    "from sklearn.preprocessing import Normalizer\n",
    "normalizer = Normalizer()\n",
    "normalizer.fit(X_train['price'].values.reshape(-1,1))\n",
    "\n",
    "X_train_price_norm = normalizer.transform(X_train['price'].values.reshape(-1,1))\n",
    "X_test_price_norm = normalizer.transform(X_test['price'].values.reshape(-1,1))\n",
    "\n",
    "print(\"After vectorizations\")\n",
    "print(X_train_price_norm.shape, y_train.shape)\n",
    "print(X_test_price_norm.shape, y_test.shape)\n",
    "print(\"=\"*100)"
   ]
  },
  {
   "cell_type": "markdown",
   "metadata": {},
   "source": [
    "### Normalizing numerical value quantity "
   ]
  },
  {
   "cell_type": "code",
   "execution_count": 52,
   "metadata": {},
   "outputs": [
    {
     "name": "stdout",
     "output_type": "stream",
     "text": [
      "After vectorizations\n",
      "(6700, 1) (6700,)\n",
      "(3300, 1) (3300,)\n",
      "====================================================================================================\n"
     ]
    }
   ],
   "source": [
    "from sklearn.preprocessing import Normalizer\n",
    "normalizer = Normalizer()\n",
    "normalizer.fit(X_train['quantity'].values.reshape(-1,1))\n",
    "\n",
    "X_train_quantity_norm = normalizer.transform(X_train['quantity'].values.reshape(-1,1))\n",
    "\n",
    "X_test_quantity_norm = normalizer.transform(X_test['quantity'].values.reshape(-1,1))\n",
    "\n",
    "print(\"After vectorizations\")\n",
    "print(X_train_quantity_norm.shape, y_train.shape)\n",
    "\n",
    "print(X_test_quantity_norm.shape, y_test.shape)\n",
    "print(\"=\"*100)"
   ]
  },
  {
   "cell_type": "code",
   "execution_count": 53,
   "metadata": {},
   "outputs": [
    {
     "name": "stdout",
     "output_type": "stream",
     "text": [
      "Final Data matrix\n",
      "(6700, 6355) (6700,)\n",
      "(3300, 6355) (3300,)\n",
      "====================================================================================================\n"
     ]
    }
   ],
   "source": [
    "from scipy.sparse import hstack\n",
    "X_tr = hstack((X_train_essay_bow,X_train_titles_bow,X_train_resource_bow,X_train_state_ohe,X_train_teacher_ohe,X_train_catagories_ohe,X_train_sub_catagories_ohe,X_train_grade_catagories_ohe,X_train_price_norm,X_train_quantity_norm))\n",
    "X_te = hstack((X_test_essay_bow,X_test_titles_bow,X_test_resource_bow,X_test_state_ohe,X_test_teacher_ohe,X_test_catagories_ohe,X_test_sub_catagories_ohe,X_test_grade_catagories_ohe,X_test_price_norm,X_test_quantity_norm))\n",
    "\n",
    "print(\"Final Data matrix\")\n",
    "print(X_tr.shape, y_train.shape)\n",
    "\n",
    "print(X_te.shape, y_test.shape)\n",
    "print(\"=\"*100)"
   ]
  },
  {
   "cell_type": "markdown",
   "metadata": {},
   "source": [
    "### Grid Search for KNN for BOW excoded text "
   ]
  },
  {
   "cell_type": "code",
   "execution_count": 54,
   "metadata": {},
   "outputs": [
    {
     "data": {
      "image/png": "[encoded data removed]",
      "text/plain": [
       "<Figure size 432x288 with 1 Axes>"
      ]
     },
     "metadata": {
      "needs_background": "light"
     },
     "output_type": "display_data"
    }
   ],
   "source": [
    "from sklearn.model_selection import GridSearchCV\n",
    "import matplotlib.pyplot as plt\n",
    "from sklearn.neighbors import KNeighborsClassifier\n",
    "from sklearn.metrics import roc_auc_score\n",
    "\n",
    "neigh = KNeighborsClassifier(n_jobs=-1)\n",
    "parameters = {'n_neighbors':[1, 5, 11, 15, 21, 23,25,31, 41, 51]}\n",
    "clf = GridSearchCV(neigh, parameters, cv=3, scoring='roc_auc',n_jobs=-1)\n",
    "clf.fit(X_tr, y_train)\n",
    "\n",
    "train_auc= clf.cv_results_['mean_train_score']\n",
    "train_auc_std= clf.cv_results_['std_train_score']\n",
    "cv_auc = clf.cv_results_['mean_test_score'] \n",
    "cv_auc_std= clf.cv_results_['std_test_score']\n",
    "\n",
    "\n",
    "plt.gca().fill_between(parameters['n_neighbors'],train_auc - train_auc_std,train_auc + train_auc_std,alpha=0.2,color='darkblue')\n",
    "\n",
    "plt.plot(parameters['n_neighbors'], cv_auc, label='CV AUC')\n",
    "\n",
    "plt.gca().fill_between(parameters['n_neighbors'],cv_auc - cv_auc_std,cv_auc + cv_auc_std,alpha=0.2,color='darkorange')\n",
    "\n",
    "plt.scatter(parameters['n_neighbors'], train_auc, label='Train AUC points')\n",
    "plt.scatter(parameters['n_neighbors'], cv_auc, label='CV AUC points')\n",
    "\n",
    "\n",
    "plt.legend()\n",
    "plt.xlabel(\"K: hyperparameter\")\n",
    "plt.ylabel(\"AUC\")\n",
    "plt.title(\"ERROR PLOTS\")\n",
    "plt.grid()\n",
    "plt.show()"
   ]
  },
  {
   "cell_type": "code",
   "execution_count": 55,
   "metadata": {},
   "outputs": [
    {
     "data": {
      "text/plain": [
       "KNeighborsClassifier(algorithm='auto', leaf_size=30, metric='minkowski',\n",
       "           metric_params=None, n_jobs=-1, n_neighbors=15, p=2,\n",
       "           weights='uniform')"
      ]
     },
     "execution_count": 55,
     "metadata": {},
     "output_type": "execute_result"
    }
   ],
   "source": [
    "clf.best_estimator_ "
   ]
  },
  {
   "cell_type": "code",
   "execution_count": 56,
   "metadata": {},
   "outputs": [
    {
     "data": {
      "text/plain": [
       "{'n_neighbors': 15}"
      ]
     },
     "execution_count": 56,
     "metadata": {},
     "output_type": "execute_result"
    }
   ],
   "source": [
    "clf.best_params_ "
   ]
  },
  {
   "cell_type": "markdown",
   "metadata": {},
   "source": [
    "## best k=22 for BOW text encoding and test AUC=.512"
   ]
  },
  {
   "cell_type": "code",
   "execution_count": 57,
   "metadata": {},
   "outputs": [
    {
     "data": {
      "image/png": "[encoded data removed]",
      "text/plain": [
       "<Figure size 432x288 with 1 Axes>"
      ]
     },
     "metadata": {
      "needs_background": "light"
     },
     "output_type": "display_data"
    }
   ],
   "source": [
    "from sklearn.metrics import roc_curve, auc\n",
    "\n",
    "\n",
    "neigh = KNeighborsClassifier(n_neighbors=15,n_jobs=-1)\n",
    "neigh.fit(X_tr, y_train)\n",
    "# roc_auc_score(y_true, y_score) the 2nd parameter should be probability estimates of the positive class\n",
    "# not the predicted outputs\n",
    "\n",
    "y_train_pred = neigh.predict_proba(X_tr)    \n",
    "y_test_pred = neigh.predict_proba(X_te)\n",
    "train_fpr, train_tpr, tr_thresholds = roc_curve(y_train, y_train_pred[:, 1])\n",
    "test_fpr, test_tpr, te_thresholds = roc_curve(y_test, y_test_pred[:, 1])\n",
    "\n",
    "plt.plot(train_fpr, train_tpr, label=\"train AUC =\"+str(auc(train_fpr, train_tpr)))\n",
    "plt.plot(test_fpr, test_tpr, label=\"test AUC =\"+str(auc(test_fpr, test_tpr)))\n",
    "plt.legend()\n",
    "plt.xlabel(\"FPR\")\n",
    "plt.ylabel(\"TPR\")\n",
    "plt.title(\"ROC curve for hyper parameter k=50\")\n",
    "plt.grid()\n",
    "plt.show()"
   ]
  },
  {
   "cell_type": "code",
   "execution_count": 57,
   "metadata": {},
   "outputs": [
    {
     "data": {
      "text/plain": [
       "array([0.        , 0.00157708, 0.01314233, 0.05546064, 0.14114864,\n",
       "       0.27835458, 0.43869102, 0.59377053, 0.73583914, 0.84097779,\n",
       "       0.91102642, 0.95360757, 0.97739519, 0.99014325, 0.99526876,\n",
       "       0.99763438, 0.99947431, 0.99973715, 1.        ])"
      ]
     },
     "execution_count": 57,
     "metadata": {},
     "output_type": "execute_result"
    }
   ],
   "source": [
    "train_tpr"
   ]
  },
  {
   "cell_type": "markdown",
   "metadata": {},
   "source": [
    "### Essays Tfidf encoding "
   ]
  },
  {
   "cell_type": "code",
   "execution_count": 59,
   "metadata": {},
   "outputs": [
    {
     "name": "stdout",
     "output_type": "stream",
     "text": [
      "After vectorizations\n",
      "(6700, 5000) (6700,)\n",
      "(3300, 5000) (3300,)\n",
      "====================================================================================================\n"
     ]
    }
   ],
   "source": [
    "from sklearn.feature_extraction.text import TfidfVectorizer\n",
    "vectorizer = TfidfVectorizer(min_df=10,ngram_range=(1,4), max_features=5000)\n",
    "vectorizer.fit(X_train['preprocessed_essays'].values) # fit has to happen only on train data\n",
    "\n",
    "# we use the fitted CountVectorizer to convert the text to vector\n",
    "X_train_essay_tfidf = vectorizer.transform(X_train['preprocessed_essays'].values)\n",
    "X_test_essay_tfidf = vectorizer.transform(X_test['preprocessed_essays'].values)\n",
    "\n",
    "print(\"After vectorizations\")\n",
    "print(X_train_essay_tfidf.shape, y_train.shape)\n",
    "\n",
    "print(X_test_essay_tfidf.shape, y_test.shape)\n",
    "print(\"=\"*100)"
   ]
  },
  {
   "cell_type": "markdown",
   "metadata": {},
   "source": [
    "### Project Title tfidf encoding "
   ]
  },
  {
   "cell_type": "code",
   "execution_count": 60,
   "metadata": {},
   "outputs": [
    {
     "name": "stdout",
     "output_type": "stream",
     "text": [
      "After vectorizations\n",
      "(6700, 631) (6700,)\n",
      "(3300, 631) (3300,)\n",
      "====================================================================================================\n"
     ]
    }
   ],
   "source": [
    "vectorizer = TfidfVectorizer(min_df=10,ngram_range=(1,4), max_features=5000)\n",
    "vectorizer.fit(X_train['preprocessed_titles'].values) \n",
    "X_train_titles_tfidf = vectorizer.transform(X_train['preprocessed_titles'].values)\n",
    "\n",
    "X_test_titles_tfidf = vectorizer.transform(X_test['preprocessed_titles'].values)\n",
    "\n",
    "print(\"After vectorizations\")\n",
    "print(X_train_titles_tfidf.shape, y_train.shape)\n",
    "\n",
    "print(X_test_titles_tfidf.shape, y_test.shape)\n",
    "print(\"=\"*100)"
   ]
  },
  {
   "cell_type": "markdown",
   "metadata": {},
   "source": [
    "### Project Resource summary tfidf "
   ]
  },
  {
   "cell_type": "code",
   "execution_count": 62,
   "metadata": {},
   "outputs": [
    {
     "name": "stdout",
     "output_type": "stream",
     "text": [
      "After vectorizations\n",
      "(6700, 1908) (6700,)\n",
      "(3300, 1908) (3300,)\n",
      "====================================================================================================\n"
     ]
    }
   ],
   "source": [
    "vectorizer = TfidfVectorizer(min_df=10,ngram_range=(1,4), max_features=5000)\n",
    "vectorizer.fit(X_train['project_resource_summary'].values)\n",
    "X_train_resource_tfidf = vectorizer.transform(X_train['project_resource_summary'].values)\n",
    "\n",
    "X_test_resource_tfidf = vectorizer.transform(X_test['project_resource_summary'].values)\n",
    "\n",
    "print(\"After vectorizations\")\n",
    "print(X_train_resource_tfidf.shape, y_train.shape)\n",
    "\n",
    "print(X_test_resource_tfidf.shape, y_test.shape)\n",
    "print(\"=\"*100)"
   ]
  },
  {
   "cell_type": "markdown",
   "metadata": {},
   "source": [
    "### combining tfidf tesxt encoding with rest of the features "
   ]
  },
  {
   "cell_type": "code",
   "execution_count": 63,
   "metadata": {},
   "outputs": [
    {
     "name": "stdout",
     "output_type": "stream",
     "text": [
      "Final Data matrix\n",
      "(6700, 7636) (6700,)\n",
      "(3300, 7636) (3300,)\n",
      "====================================================================================================\n"
     ]
    }
   ],
   "source": [
    "X_tr = hstack((X_train_essay_tfidf,X_train_titles_tfidf,X_train_resource_tfidf,X_train_state_ohe,X_train_teacher_ohe,X_train_catagories_ohe,X_train_sub_catagories_ohe,X_train_grade_catagories_ohe,X_train_price_norm,X_train_quantity_norm))\n",
    "\n",
    "X_te = hstack((X_test_essay_tfidf,X_test_titles_tfidf,X_test_resource_tfidf,X_test_state_ohe,X_test_teacher_ohe,X_test_catagories_ohe,X_test_sub_catagories_ohe,X_test_grade_catagories_ohe,X_test_price_norm,X_test_quantity_norm))\n",
    "\n",
    "print(\"Final Data matrix\")\n",
    "print(X_tr.shape, y_train.shape)\n",
    "\n",
    "print(X_te.shape, y_test.shape)\n",
    "print(\"=\"*100)"
   ]
  },
  {
   "cell_type": "markdown",
   "metadata": {},
   "source": [
    "### Grid Search for KNN for TFIDF excoded text "
   ]
  },
  {
   "cell_type": "code",
   "execution_count": 64,
   "metadata": {},
   "outputs": [
    {
     "data": {
      "image/png": "[encoded data removed]",
      "text/plain": [
       "<Figure size 432x288 with 1 Axes>"
      ]
     },
     "metadata": {
      "needs_background": "light"
     },
     "output_type": "display_data"
    }
   ],
   "source": [
    "neigh = KNeighborsClassifier(n_jobs=-1)\n",
    "parameters = {'n_neighbors':[1, 5, 11, 15, 21, 23,25,31, 41, 51]}\n",
    "clf = GridSearchCV(neigh, parameters, cv=3,scoring='roc_auc',n_jobs=-1)\n",
    "clf.fit(X_tr, y_train)\n",
    "\n",
    "train_auc= clf.cv_results_['mean_train_score']\n",
    "train_auc_std= clf.cv_results_['std_train_score']\n",
    "cv_auc = clf.cv_results_['mean_test_score'] \n",
    "cv_auc_std= clf.cv_results_['std_test_score']\n",
    "\n",
    "\n",
    "plt.gca().fill_between(parameters['n_neighbors'],train_auc - train_auc_std,train_auc + train_auc_std,alpha=0.2,color='darkblue')\n",
    "\n",
    "plt.plot(parameters['n_neighbors'], cv_auc, label='CV AUC')\n",
    "\n",
    "plt.gca().fill_between(parameters['n_neighbors'],cv_auc - cv_auc_std,cv_auc + cv_auc_std,alpha=0.2,color='darkorange')\n",
    "\n",
    "plt.scatter(parameters['n_neighbors'], train_auc, label='Train AUC points')\n",
    "plt.scatter(parameters['n_neighbors'], cv_auc, label='CV AUC points')\n",
    "\n",
    "\n",
    "plt.legend()\n",
    "plt.xlabel(\"K: hyperparameter\")\n",
    "plt.ylabel(\"AUC\")\n",
    "plt.title(\"ERROR PLOTS\")\n",
    "plt.grid()\n",
    "plt.show()"
   ]
  },
  {
   "cell_type": "code",
   "execution_count": 65,
   "metadata": {},
   "outputs": [
    {
     "data": {
      "text/plain": [
       "{'n_neighbors': 5}"
      ]
     },
     "execution_count": 65,
     "metadata": {},
     "output_type": "execute_result"
    }
   ],
   "source": [
    "clf.best_params_ "
   ]
  },
  {
   "cell_type": "markdown",
   "metadata": {},
   "source": [
    "### best k=22 for tfidf  text encoded data and the AUC for test data is .5"
   ]
  },
  {
   "cell_type": "code",
   "execution_count": 66,
   "metadata": {},
   "outputs": [
    {
     "data": {
      "image/png": "[encoded data removed]",
      "text/plain": [
       "<Figure size 432x288 with 1 Axes>"
      ]
     },
     "metadata": {
      "needs_background": "light"
     },
     "output_type": "display_data"
    }
   ],
   "source": [
    "neigh = KNeighborsClassifier(n_neighbors=22,n_jobs=-1)\n",
    "neigh.fit(X_tr, y_train)\n",
    "# roc_auc_score(y_true, y_score) the 2nd parameter should be probability estimates of the positive class\n",
    "# not the predicted outputs\n",
    "\n",
    "y_train_pred = neigh.predict_proba(X_tr)    \n",
    "y_test_pred = neigh.predict_proba(X_te)\n",
    "train_fpr, train_tpr, tr_thresholds = roc_curve(y_train, y_train_pred[:, 1])\n",
    "test_fpr, test_tpr, te_thresholds = roc_curve(y_test, y_test_pred[:, 1])\n",
    "\n",
    "plt.plot(train_fpr, train_tpr, label=\"train AUC =\"+str(auc(train_fpr, train_tpr)))\n",
    "plt.plot(test_fpr, test_tpr, label=\"test AUC =\"+str(auc(test_fpr, test_tpr)))\n",
    "plt.legend()\n",
    "plt.xlabel(\"K: hyperparameter\")\n",
    "plt.ylabel(\"AUC\")\n",
    "plt.title(\"ERROR PLOTS\")\n",
    "plt.grid()\n",
    "plt.show()"
   ]
  },
  {
   "cell_type": "markdown",
   "metadata": {},
   "source": [
    "### Average W2V encoding for essays"
   ]
  },
  {
   "cell_type": "code",
   "execution_count": 67,
   "metadata": {},
   "outputs": [],
   "source": [
    "with open('glove_vectors', 'rb') as f:\n",
    "    model = pickle.load(f)\n",
    "    glove_words =  set(model.keys())"
   ]
  },
  {
   "cell_type": "code",
   "execution_count": 68,
   "metadata": {},
   "outputs": [],
   "source": [
    "def preprocessing(x):\n",
    "    avg_w2v_vectors_essay = []; # the avg-w2v for each sentence/review is stored in this list\n",
    "    for sentence in tqdm(x): # for each review/sentence\n",
    "        vector = np.zeros(300) # as word vectors are of zero length\n",
    "        cnt_words =0; # num of words with a valid vector in the sentence/review\n",
    "        for word in sentence.split(): # for each word in a review/sentence\n",
    "            if word in glove_words:\n",
    "                vector += model[word]\n",
    "                cnt_words += 1\n",
    "        if cnt_words != 0:\n",
    "            vector /= cnt_words\n",
    "        avg_w2v_vectors_essay.append(vector)\n",
    "    return avg_w2v_vectors_essay\n",
    "    \n"
   ]
  },
  {
   "cell_type": "markdown",
   "metadata": {},
   "source": [
    "### Essays AVG_W2V encoding "
   ]
  },
  {
   "cell_type": "code",
   "execution_count": 69,
   "metadata": {},
   "outputs": [
    {
     "name": "stderr",
     "output_type": "stream",
     "text": [
      "100%|████████████████████████████████████████████████████████████████████████████| 6700/6700 [00:02<00:00, 3297.93it/s]\n",
      "100%|████████████████████████████████████████████████████████████████████████████| 3300/3300 [00:00<00:00, 3371.48it/s]\n"
     ]
    },
    {
     "name": "stdout",
     "output_type": "stream",
     "text": [
      "After vectorizations\n",
      "6700 (6700,)\n",
      "3300 (3300,)\n",
      "====================================================================================================\n"
     ]
    }
   ],
   "source": [
    "X_train_essay_avg_W2V = preprocessing(X_train['preprocessed_essays'].values)\n",
    "\n",
    "X_test_essay_avg_W2Vf = preprocessing(X_test['preprocessed_essays'].values)\n",
    "\n",
    "print(\"After vectorizations\")\n",
    "print(len(X_train_essay_avg_W2V), y_train.shape)\n",
    "\n",
    "print(len(X_test_essay_avg_W2Vf), y_test.shape)\n",
    "print(\"=\"*100)"
   ]
  },
  {
   "cell_type": "code",
   "execution_count": 93,
   "metadata": {},
   "outputs": [
    {
     "data": {
      "text/plain": [
       "(8978,)"
      ]
     },
     "execution_count": 93,
     "metadata": {},
     "output_type": "execute_result"
    }
   ],
   "source": [
    "X_train['preprocessed_essays'].shape"
   ]
  },
  {
   "cell_type": "markdown",
   "metadata": {},
   "source": [
    "### Projecgt Title AVG_W2V encoding "
   ]
  },
  {
   "cell_type": "code",
   "execution_count": 70,
   "metadata": {},
   "outputs": [
    {
     "name": "stderr",
     "output_type": "stream",
     "text": [
      "100%|███████████████████████████████████████████████████████████████████████████| 6700/6700 [00:00<00:00, 55982.32it/s]\n",
      "100%|███████████████████████████████████████████████████████████████████████████| 3300/3300 [00:00<00:00, 47957.82it/s]\n"
     ]
    },
    {
     "name": "stdout",
     "output_type": "stream",
     "text": [
      "After vectorizations\n",
      "6700 (6700,)\n",
      "3300 (3300,)\n",
      "====================================================================================================\n"
     ]
    }
   ],
   "source": [
    "X_train_titles_AVG_W2V = preprocessing(X_train['preprocessed_titles'].values)\n",
    "\n",
    "X_test_titles_AVG_W2V = preprocessing(X_test['preprocessed_titles'].values)\n",
    "\n",
    "print(\"After vectorizations\")\n",
    "print(len(X_train_titles_AVG_W2V), y_train.shape)\n",
    "\n",
    "print(len(X_test_titles_AVG_W2V), y_test.shape)\n",
    "print(\"=\"*100)"
   ]
  },
  {
   "cell_type": "markdown",
   "metadata": {},
   "source": [
    "### Project resource summary AVG_W2V encoding "
   ]
  },
  {
   "cell_type": "code",
   "execution_count": 71,
   "metadata": {},
   "outputs": [
    {
     "name": "stderr",
     "output_type": "stream",
     "text": [
      "100%|███████████████████████████████████████████████████████████████████████████| 6700/6700 [00:00<00:00, 27305.76it/s]\n",
      "100%|███████████████████████████████████████████████████████████████████████████| 3300/3300 [00:00<00:00, 25643.63it/s]\n"
     ]
    },
    {
     "name": "stdout",
     "output_type": "stream",
     "text": [
      "After vectorizations\n",
      "6700 (6700,)\n",
      "3300 (3300,)\n",
      "====================================================================================================\n"
     ]
    }
   ],
   "source": [
    "X_train_resource_AVG_W2V = preprocessing(X_train['project_resource_summary'].values)\n",
    "\n",
    "X_test_resource_AVG_W2V = preprocessing(X_test['project_resource_summary'].values)\n",
    "\n",
    "print(\"After vectorizations\")\n",
    "print(len(X_train_resource_AVG_W2V), y_train.shape)\n",
    "\n",
    "print(len(X_test_resource_AVG_W2V), y_test.shape)\n",
    "print(\"=\"*100)"
   ]
  },
  {
   "cell_type": "code",
   "execution_count": 73,
   "metadata": {},
   "outputs": [
    {
     "name": "stdout",
     "output_type": "stream",
     "text": [
      "Final Data matrix\n",
      "(6700, 997) (6700,)\n",
      "(3300, 997) (3300,)\n",
      "====================================================================================================\n"
     ]
    }
   ],
   "source": [
    "X_tr = hstack((X_train_essay_avg_W2V,X_train_titles_AVG_W2V,X_train_resource_AVG_W2V,X_train_state_ohe,X_train_teacher_ohe,X_train_catagories_ohe,X_train_sub_catagories_ohe,X_train_grade_catagories_ohe,X_train_price_norm,X_train_quantity_norm))\n",
    "\n",
    "X_te = hstack((X_test_essay_avg_W2Vf,X_test_titles_AVG_W2V,X_test_resource_AVG_W2V,X_test_state_ohe,X_test_teacher_ohe,X_test_catagories_ohe,X_test_sub_catagories_ohe,X_test_grade_catagories_ohe,X_test_price_norm,X_test_quantity_norm))\n",
    "\n",
    "print(\"Final Data matrix\")\n",
    "print(X_tr.shape, y_train.shape)\n",
    "\n",
    "print(X_te.shape, y_test.shape)\n",
    "print(\"=\"*100)"
   ]
  },
  {
   "cell_type": "markdown",
   "metadata": {},
   "source": [
    "### Grid Search KNN for AVG_W2V"
   ]
  },
  {
   "cell_type": "code",
   "execution_count": 74,
   "metadata": {},
   "outputs": [
    {
     "data": {
      "image/png": "[encoded data removed]",
      "text/plain": [
       "<Figure size 432x288 with 1 Axes>"
      ]
     },
     "metadata": {
      "needs_background": "light"
     },
     "output_type": "display_data"
    }
   ],
   "source": [
    "neigh = KNeighborsClassifier(n_jobs=-1)\n",
    "parameters = {'n_neighbors':[ 1, 5, 11, 15, 21, 23,25,31, 41, 51]}\n",
    "clf = GridSearchCV(neigh, parameters, cv=3, scoring='roc_auc',n_jobs=-1)\n",
    "clf.fit(X_tr, y_train)\n",
    "\n",
    "train_auc= clf.cv_results_['mean_train_score']\n",
    "train_auc_std= clf.cv_results_['std_train_score']\n",
    "cv_auc = clf.cv_results_['mean_test_score'] \n",
    "cv_auc_std= clf.cv_results_['std_test_score']\n",
    "\n",
    "\n",
    "plt.gca().fill_between(parameters['n_neighbors'],train_auc - train_auc_std,train_auc + train_auc_std,alpha=0.2,color='darkblue')\n",
    "\n",
    "plt.plot(parameters['n_neighbors'], cv_auc, label='CV AUC')\n",
    "\n",
    "plt.gca().fill_between(parameters['n_neighbors'],cv_auc - cv_auc_std,cv_auc + cv_auc_std,alpha=0.2,color='darkorange')\n",
    "\n",
    "plt.scatter(parameters['n_neighbors'], train_auc, label='Train AUC points')\n",
    "plt.scatter(parameters['n_neighbors'], cv_auc, label='CV AUC points')\n",
    "\n",
    "\n",
    "plt.legend()\n",
    "plt.xlabel(\"K: hyperparameter\")\n",
    "plt.ylabel(\"AUC\")\n",
    "plt.title(\"ERROR PLOTS\")\n",
    "plt.grid()\n",
    "plt.show()"
   ]
  },
  {
   "cell_type": "code",
   "execution_count": 75,
   "metadata": {},
   "outputs": [
    {
     "data": {
      "text/plain": [
       "{'n_neighbors': 51}"
      ]
     },
     "execution_count": 75,
     "metadata": {},
     "output_type": "execute_result"
    }
   ],
   "source": [
    "clf.best_params_ "
   ]
  },
  {
   "cell_type": "code",
   "execution_count": 77,
   "metadata": {},
   "outputs": [
    {
     "data": {
      "image/png": "[encoded data removed]",
      "text/plain": [
       "<Figure size 432x288 with 1 Axes>"
      ]
     },
     "metadata": {
      "needs_background": "light"
     },
     "output_type": "display_data"
    }
   ],
   "source": [
    "neigh = KNeighborsClassifier(n_neighbors=51,n_jobs=-1)\n",
    "neigh.fit(X_tr, y_train)\n",
    "# roc_auc_score(y_true, y_score) the 2nd parameter should be probability estimates of the positive class\n",
    "# not the predicted outputs\n",
    "\n",
    "y_train_pred = neigh.predict_proba(X_tr)    \n",
    "y_test_pred = neigh.predict_proba(X_te)\n",
    "train_fpr, train_tpr, tr_thresholds = roc_curve(y_train, y_train_pred[:, 1])\n",
    "test_fpr, test_tpr, te_thresholds = roc_curve(y_test, y_test_pred[:, 1])\n",
    "\n",
    "plt.plot(train_fpr, train_tpr, label=\"train AUC =\"+str(auc(train_fpr, train_tpr)))\n",
    "plt.plot(test_fpr, test_tpr, label=\"test AUC =\"+str(auc(test_fpr, test_tpr)))\n",
    "plt.legend()\n",
    "plt.xlabel(\"K: hyperparameter\")\n",
    "plt.ylabel(\"AUC\")\n",
    "plt.title(\"ERROR PLOTS\")\n",
    "plt.grid()\n",
    "plt.show()"
   ]
  },
  {
   "cell_type": "code",
   "execution_count": 79,
   "metadata": {},
   "outputs": [],
   "source": [
    "def tfidf_processing(x):\n",
    "    tfidf_model = TfidfVectorizer()\n",
    "    tfidf_model.fit(x)\n",
    "# we are converting a dictionary with word as a key, and the idf as a value\n",
    "    dictionary = dict(zip(tfidf_model.get_feature_names(), list(tfidf_model.idf_)))\n",
    "    tfidf_words = set(tfidf_model.get_feature_names())\n",
    "\n",
    "\n",
    "    tfidf_w2v_vectors= []; # the avg-w2v for each sentence/review is stored in this list\n",
    "    for sentence in tqdm(x): # for each review/sentence\n",
    "        vector = np.zeros(300) # as word vectors are of zero length\n",
    "        tf_idf_weight =0; # num of words with a valid vector in the sentence/review\n",
    "        for word in sentence.split(): # for each word in a review/sentence\n",
    "            if (word in glove_words) and (word in tfidf_words):\n",
    "                vec = model[word] # getting the vector for each word\n",
    "            # here we are multiplying idf value(dictionary[word]) and the tf value((sentence.count(word)/len(sentence.split())))\n",
    "                tf_idf = dictionary[word]*(sentence.count(word)/len(sentence.split())) # getting the tfidf value for each word\n",
    "                vector += (vec * tf_idf) # calculating tfidf weighted w2v\n",
    "                tf_idf_weight += tf_idf\n",
    "        if tf_idf_weight != 0:\n",
    "            vector /= tf_idf_weight\n",
    "        tfidf_w2v_vectors.append(vector)\n",
    "    \n",
    "    return tfidf_w2v_vectors\n",
    "    \n"
   ]
  },
  {
   "cell_type": "markdown",
   "metadata": {},
   "source": [
    "### Project Essay tfidf_W2V encoding "
   ]
  },
  {
   "cell_type": "code",
   "execution_count": 80,
   "metadata": {},
   "outputs": [
    {
     "name": "stderr",
     "output_type": "stream",
     "text": [
      "100%|█████████████████████████████████████████████████████████████████████████████| 6700/6700 [00:13<00:00, 483.30it/s]\n",
      "100%|█████████████████████████████████████████████████████████████████████████████| 3300/3300 [00:06<00:00, 491.17it/s]\n"
     ]
    },
    {
     "name": "stdout",
     "output_type": "stream",
     "text": [
      "After vectorizations\n",
      "6700 (6700,)\n",
      "3300 (3300,)\n",
      "====================================================================================================\n"
     ]
    }
   ],
   "source": [
    "X_train_essay_tfidf = tfidf_processing(X_train['preprocessed_essays'].values)\n",
    "\n",
    "X_test_essay_tfidf = tfidf_processing(X_test['preprocessed_essays'].values)\n",
    "\n",
    "print(\"After vectorizations\")\n",
    "print(len(X_train_essay_tfidf), y_train.shape)\n",
    "\n",
    "print(len(X_test_essay_tfidf), y_test.shape)\n",
    "print(\"=\"*100)"
   ]
  },
  {
   "cell_type": "markdown",
   "metadata": {},
   "source": [
    "### Project Title tfidf_W2V encoding "
   ]
  },
  {
   "cell_type": "code",
   "execution_count": 81,
   "metadata": {},
   "outputs": [
    {
     "name": "stderr",
     "output_type": "stream",
     "text": [
      "100%|███████████████████████████████████████████████████████████████████████████| 6700/6700 [00:00<00:00, 26624.82it/s]\n",
      "100%|███████████████████████████████████████████████████████████████████████████| 3300/3300 [00:00<00:00, 26733.11it/s]\n"
     ]
    },
    {
     "name": "stdout",
     "output_type": "stream",
     "text": [
      "After vectorizations\n",
      "6700 (6700,)\n",
      "3300 (3300,)\n",
      "====================================================================================================\n"
     ]
    }
   ],
   "source": [
    "X_train_titles_tfidf_W2V = tfidf_processing(X_train['preprocessed_titles'].values)\n",
    "X_test_titles_tfidf_W2V = tfidf_processing(X_test['preprocessed_titles'].values)\n",
    "\n",
    "print(\"After vectorizations\")\n",
    "print(len(X_train_titles_tfidf_W2V), y_train.shape)\n",
    "\n",
    "print(len(X_test_titles_tfidf_W2V), y_test.shape)\n",
    "print(\"=\"*100)"
   ]
  },
  {
   "cell_type": "markdown",
   "metadata": {},
   "source": [
    "### Project Resource tfidf_W2V encoding "
   ]
  },
  {
   "cell_type": "code",
   "execution_count": 82,
   "metadata": {},
   "outputs": [
    {
     "name": "stderr",
     "output_type": "stream",
     "text": [
      "100%|███████████████████████████████████████████████████████████████████████████| 6700/6700 [00:00<00:00, 10075.80it/s]\n",
      "100%|███████████████████████████████████████████████████████████████████████████| 3300/3300 [00:00<00:00, 11079.73it/s]\n"
     ]
    },
    {
     "name": "stdout",
     "output_type": "stream",
     "text": [
      "After vectorizations\n",
      "6700 (6700,)\n",
      "3300 (3300,)\n",
      "====================================================================================================\n"
     ]
    }
   ],
   "source": [
    "X_train_resource_tfidf_W2V = tfidf_processing(X_train['project_resource_summary'].values)\n",
    "\n",
    "X_test_resource_tfidf_W2V = tfidf_processing(X_test['project_resource_summary'].values)\n",
    "\n",
    "print(\"After vectorizations\")\n",
    "print(len(X_train_resource_tfidf_W2V), y_train.shape)\n",
    "\n",
    "print(len(X_test_resource_tfidf_W2V), y_test.shape)\n",
    "print(\"=\"*100)"
   ]
  },
  {
   "cell_type": "markdown",
   "metadata": {},
   "source": [
    "### combining Tfidf w2v  encoding "
   ]
  },
  {
   "cell_type": "code",
   "execution_count": 87,
   "metadata": {},
   "outputs": [
    {
     "name": "stdout",
     "output_type": "stream",
     "text": [
      "Final Data matrix\n",
      "(6700, 997) (6700,)\n",
      "(3300, 997) (3300,)\n",
      "====================================================================================================\n"
     ]
    }
   ],
   "source": [
    "from scipy.sparse import hstack\n",
    "X_tr = hstack((X_train_essay_tfidf,X_train_titles_tfidf_W2V,X_train_resource_tfidf_W2V,X_train_state_ohe,X_train_teacher_ohe,X_train_catagories_ohe,X_train_sub_catagories_ohe,X_train_grade_catagories_ohe,X_train_price_norm,X_train_quantity_norm))\n",
    "\n",
    "X_te = hstack((X_test_essay_tfidf,X_test_titles_tfidf_W2V,X_test_resource_tfidf_W2V,X_test_state_ohe,X_test_teacher_ohe,X_test_catagories_ohe,X_test_sub_catagories_ohe,X_test_grade_catagories_ohe,X_test_price_norm,X_test_quantity_norm))\n",
    "\n",
    "print(\"Final Data matrix\")\n",
    "print(X_tr.shape, y_train.shape)\n",
    "\n",
    "print(X_te.shape, y_test.shape)\n",
    "print(\"=\"*100)"
   ]
  },
  {
   "cell_type": "code",
   "execution_count": 84,
   "metadata": {},
   "outputs": [
    {
     "data": {
      "image/png": "[encoded data removed]",
      "text/plain": [
       "<Figure size 432x288 with 1 Axes>"
      ]
     },
     "metadata": {
      "needs_background": "light"
     },
     "output_type": "display_data"
    }
   ],
   "source": [
    "from sklearn.model_selection import GridSearchCV\n",
    "import matplotlib.pyplot as plt\n",
    "from sklearn.neighbors import KNeighborsClassifier\n",
    "from sklearn.metrics import roc_auc_score\n",
    "\n",
    "neigh = KNeighborsClassifier(n_jobs=-1)\n",
    "parameters = {'n_neighbors': [15, 21,23, 31, 41, 51,53]}\n",
    "clf = GridSearchCV(neigh, parameters, cv=2, scoring='roc_auc',n_jobs=-1)\n",
    "clf.fit(X_tr, y_train)\n",
    "\n",
    "train_auc= clf.cv_results_['mean_train_score']\n",
    "train_auc_std= clf.cv_results_['std_train_score']\n",
    "cv_auc = clf.cv_results_['mean_test_score'] \n",
    "cv_auc_std= clf.cv_results_['std_test_score']\n",
    "\n",
    "\n",
    "plt.gca().fill_between(parameters['n_neighbors'],train_auc - train_auc_std,train_auc + train_auc_std,alpha=0.2,color='darkblue')\n",
    "\n",
    "plt.plot(parameters['n_neighbors'], cv_auc, label='CV AUC')\n",
    "\n",
    "plt.gca().fill_between(parameters['n_neighbors'],cv_auc - cv_auc_std,cv_auc + cv_auc_std,alpha=0.2,color='darkorange')\n",
    "\n",
    "plt.scatter(parameters['n_neighbors'], train_auc, label='Train AUC points')\n",
    "plt.scatter(parameters['n_neighbors'], cv_auc, label='CV AUC points')\n",
    "\n",
    "\n",
    "plt.legend()\n",
    "plt.xlabel(\"K: hyperparameter\")\n",
    "plt.ylabel(\"AUC\")\n",
    "plt.title(\"ERROR PLOTS\")\n",
    "plt.grid()\n",
    "plt.show()"
   ]
  },
  {
   "cell_type": "code",
   "execution_count": 85,
   "metadata": {},
   "outputs": [
    {
     "data": {
      "text/plain": [
       "{'n_neighbors': 41}"
      ]
     },
     "execution_count": 85,
     "metadata": {},
     "output_type": "execute_result"
    }
   ],
   "source": [
    "clf.best_params_ "
   ]
  },
  {
   "cell_type": "code",
   "execution_count": 86,
   "metadata": {},
   "outputs": [
    {
     "data": {
      "image/png": "[encoded data removed]",
      "text/plain": [
       "<Figure size 432x288 with 1 Axes>"
      ]
     },
     "metadata": {
      "needs_background": "light"
     },
     "output_type": "display_data"
    }
   ],
   "source": [
    "neigh = KNeighborsClassifier(n_neighbors=41,n_jobs=-1)\n",
    "neigh.fit(X_tr, y_train)\n",
    "# roc_auc_score(y_true, y_score) the 2nd parameter should be probability estimates of the positive class\n",
    "# not the predicted outputs\n",
    "\n",
    "y_train_pred = neigh.predict_proba(X_tr)    \n",
    "y_test_pred = neigh.predict_proba(X_te)\n",
    "train_fpr, train_tpr, tr_thresholds = roc_curve(y_train, y_train_pred[:, 1])\n",
    "test_fpr, test_tpr, te_thresholds = roc_curve(y_test, y_test_pred[:, 1])\n",
    "\n",
    "plt.plot(train_fpr, train_tpr, label=\"train AUC =\"+str(auc(train_fpr, train_tpr)))\n",
    "plt.plot(test_fpr, test_tpr, label=\"test AUC =\"+str(auc(test_fpr, test_tpr)))\n",
    "plt.legend()\n",
    "plt.xlabel(\"K: hyperparameter\")\n",
    "plt.ylabel(\"AUC\")\n",
    "plt.title(\"ERROR PLOTS\")\n",
    "plt.grid()\n",
    "plt.show()"
   ]
  },
  {
   "cell_type": "markdown",
   "metadata": {},
   "source": [
    "### Feature selection on TFIDF"
   ]
  },
  {
   "cell_type": "code",
   "execution_count": 123,
   "metadata": {},
   "outputs": [
    {
     "name": "stdout",
     "output_type": "stream",
     "text": [
      "Final Data matrix\n",
      "(6700, 2936) (6700,)\n",
      "(3300, 2936) (3300,)\n",
      "====================================================================================================\n"
     ]
    }
   ],
   "source": [
    "X_tr = hstack((X_train_essay_tfidf,X_train_titles_tfidf,X_train_resource_tfidf,X_train_state_ohe,X_train_teacher_ohe,X_train_catagories_ohe,X_train_sub_catagories_ohe,X_train_grade_catagories_ohe,X_train_price_norm,X_train_quantity_norm))\n",
    "\n",
    "X_te = hstack((X_test_essay_tfidf,X_test_titles_tfidf,X_test_resource_tfidf,X_test_state_ohe,X_test_teacher_ohe,X_test_catagories_ohe,X_test_sub_catagories_ohe,X_test_grade_catagories_ohe,X_test_price_norm,X_test_quantity_norm))\n",
    "\n",
    "print(\"Final Data matrix\")\n",
    "print(X_tr.shape, y_train.shape)\n",
    "\n",
    "print(X_te.shape, y_test.shape)\n",
    "print(\"=\"*100)"
   ]
  },
  {
   "cell_type": "code",
   "execution_count": 105,
   "metadata": {},
   "outputs": [],
   "source": [
    "from sklearn.feature_selection import SelectKBest\n",
    "from sklearn.feature_selection import chi2\n"
   ]
  },
  {
   "cell_type": "code",
   "execution_count": 127,
   "metadata": {},
   "outputs": [
    {
     "name": "stdout",
     "output_type": "stream",
     "text": [
      "6700\n",
      "3300\n"
     ]
    }
   ],
   "source": [
    "y1=y[0:6700]\n",
    "y2=y[6700:10000]\n",
    "print(len(y1))\n",
    "print(len(y2))\n",
    "x_tr=abs(X_tr)"
   ]
  },
  {
   "cell_type": "code",
   "execution_count": 135,
   "metadata": {},
   "outputs": [
    {
     "name": "stdout",
     "output_type": "stream",
     "text": [
      "the reduced train data dimention are (6700, 20)\n",
      "the reduced test data dimention are (3300, 20)\n"
     ]
    }
   ],
   "source": [
    "X_tr=abs(X_tr)\n",
    "X_tr_fit=SelectKBest(score_func=chi2,k=20).fit(X_tr,y1)\n",
    "X_tr_reduced=X_tr_fit.transform(X_tr)\n",
    "X_te_reduced=X_tr_fit.transform(X_te)\n",
    "print(\"the reduced train data dimention are\",X_tr_reduced.shape)\n",
    "print(\"the reduced test data dimention are\",X_te_reduced.shape)"
   ]
  },
  {
   "cell_type": "code",
   "execution_count": 141,
   "metadata": {},
   "outputs": [
    {
     "data": {
      "image/png": "[encoded data removed]",
      "text/plain": [
       "<Figure size 432x288 with 1 Axes>"
      ]
     },
     "metadata": {
      "needs_background": "light"
     },
     "output_type": "display_data"
    }
   ],
   "source": [
    "from sklearn.model_selection import GridSearchCV\n",
    "import matplotlib.pyplot as plt\n",
    "from sklearn.neighbors import KNeighborsClassifier\n",
    "from sklearn.metrics import roc_auc_score\n",
    "neigh = KNeighborsClassifier(n_jobs=-1)\n",
    "parameters = {'n_neighbors':[1, 5,9, 15, 21,23, 31, 41,43,45]}\n",
    "clf = GridSearchCV(neigh, parameters, cv=3,scoring='roc_auc',n_jobs=-1)\n",
    "clf.fit(X_tr_reduced,y1)\n",
    "\n",
    "train_auc= clf.cv_results_['mean_train_score']\n",
    "train_auc_std= clf.cv_results_['std_train_score']\n",
    "cv_auc = clf.cv_results_['mean_test_score'] \n",
    "cv_auc_std= clf.cv_results_['std_test_score']\n",
    "\n",
    "\n",
    "plt.gca().fill_between(parameters['n_neighbors'],train_auc - train_auc_std,train_auc + train_auc_std,alpha=0.2,color='darkblue')\n",
    "\n",
    "plt.plot(parameters['n_neighbors'], cv_auc, label='CV AUC')\n",
    "\n",
    "plt.gca().fill_between(parameters['n_neighbors'],cv_auc - cv_auc_std,cv_auc + cv_auc_std,alpha=0.2,color='darkorange')\n",
    "\n",
    "plt.scatter(parameters['n_neighbors'], train_auc, label='Train AUC points')\n",
    "plt.scatter(parameters['n_neighbors'], cv_auc, label='CV AUC points')\n",
    "\n",
    "\n",
    "plt.legend()\n",
    "plt.xlabel(\"K: hyperparameter\")\n",
    "plt.ylabel(\"AUC\")\n",
    "plt.title(\"ERROR PLOTS\")\n",
    "plt.grid()\n",
    "plt.show()"
   ]
  },
  {
   "cell_type": "code",
   "execution_count": 142,
   "metadata": {},
   "outputs": [
    {
     "data": {
      "text/plain": [
       "{'n_neighbors': 41}"
      ]
     },
     "execution_count": 142,
     "metadata": {},
     "output_type": "execute_result"
    }
   ],
   "source": [
    "clf.best_params_ "
   ]
  },
  {
   "cell_type": "code",
   "execution_count": 144,
   "metadata": {},
   "outputs": [
    {
     "data": {
      "image/png": "[encoded data removed]",
      "text/plain": [
       "<Figure size 432x288 with 1 Axes>"
      ]
     },
     "metadata": {
      "needs_background": "light"
     },
     "output_type": "display_data"
    }
   ],
   "source": [
    "neigh = KNeighborsClassifier(n_neighbors=41,n_jobs=-1)\n",
    "neigh.fit(X_tr_reduced, y1)\n",
    "# roc_auc_score(y_true, y_score) the 2nd parameter should be probability estimates of the positive class\n",
    "# not the predicted outputs\n",
    "\n",
    "y_train_pred = neigh.predict_proba(X_tr_reduced)    \n",
    "y_test_pred = neigh.predict_proba(X_te_reduced)\n",
    "pred= neigh.predict(X_te_reduced)\n",
    "train_fpr, train_tpr, tr_thresholds = roc_curve(y1, y_train_pred[:, 1])\n",
    "test_fpr, test_tpr, te_thresholds = roc_curve(y2, y_test_pred[:, 1])\n",
    "\n",
    "plt.plot(train_fpr, train_tpr, label=\"train AUC =\"+str(auc(train_fpr, train_tpr)))\n",
    "plt.plot(test_fpr, test_tpr, label=\"test AUC =\"+str(auc(test_fpr, test_tpr)))\n",
    "plt.legend()\n",
    "plt.xlabel(\"K: hyperparameter\")\n",
    "plt.ylabel(\"AUC\")\n",
    "plt.title(\"ERROR PLOTS\")\n",
    "plt.grid()\n",
    "plt.show()"
   ]
  },
  {
   "cell_type": "code",
   "execution_count": 77,
   "metadata": {},
   "outputs": [
    {
     "data": {
      "text/plain": [
       "array([1, 1, 1, ..., 1, 1, 1], dtype=int64)"
      ]
     },
     "execution_count": 77,
     "metadata": {},
     "output_type": "execute_result"
    }
   ],
   "source": [
    "pred"
   ]
  },
  {
   "cell_type": "code",
   "execution_count": 70,
   "metadata": {},
   "outputs": [
    {
     "name": "stdout",
     "output_type": "stream",
     "text": [
      "+---------------------+--------------+---------------+\n",
      "|       Encoding      | n_neighbours | AUC-Test Data |\n",
      "+---------------------+--------------+---------------+\n",
      "|         BOW         |      22      |       50      |\n",
      "|        TFIDF        |      22      |       47      |\n",
      "|       AVG-W2V       |      15      |       48      |\n",
      "|      TF-IDF-W2V     |      15      |       48      |\n",
      "| TF-IDF(reduced dim) |      31      |       53      |\n",
      "+---------------------+--------------+---------------+\n"
     ]
    }
   ],
   "source": [
    "from prettytable import PrettyTable\n",
    "    \n",
    "x = PrettyTable()\n",
    "\n",
    "x.field_names = [\"Encoding\", \"n_neighbours\", \"AUC-Test Data\"]\n",
    "\n",
    "x.add_row([\"BOW\",15,48])\n",
    "x.add_row([\"TFIDF\",5,47])\n",
    "x.add_row([\"AVG-W2V\",15,50])\n",
    "x.add_row([\"TF-IDF-W2V\",141,47])\n",
    "x.add_row([\"TF-IDF(reduced dim)\",41,51])\n",
    "print(x)"
   ]
  },
  {
   "cell_type": "markdown",
   "metadata": {},
   "source": [
    "### Conclusions the best model is tfidf which has best AUC 51 for test and train data for the hyper parameter k=41 above are the tabulated results   "
   ]
  },
  {
   "cell_type": "code",
   "execution_count": 145,
   "metadata": {},
   "outputs": [
    {
     "data": {
      "text/plain": [
       "array([[   0,  512],\n",
       "       [   0, 2788]], dtype=int64)"
      ]
     },
     "execution_count": 145,
     "metadata": {},
     "output_type": "execute_result"
    }
   ],
   "source": [
    "from sklearn.metrics import confusion_matrix\n",
    "confusion_matrix(y2,pred)"
   ]
  },
  {
   "cell_type": "code",
   "execution_count": 159,
   "metadata": {},
   "outputs": [
    {
     "data": {
      "text/plain": [
       "<matplotlib.axes._subplots.AxesSubplot at 0x1bb908e05c0>"
      ]
     },
     "execution_count": 159,
     "metadata": {},
     "output_type": "execute_result"
    },
    {
     "data": {
      "image/png": "[encoded data removed]",
      "text/plain": [
       "<Figure size 720x504 with 2 Axes>"
      ]
     },
     "metadata": {},
     "output_type": "display_data"
    }
   ],
   "source": [
    "import seaborn as sn\n",
    "import matplotlib.pyplot as plt\n",
    "\n",
    "array = [[   0,  512],\n",
    "       [   0, 2788]]        \n",
    "\n",
    "df_cm = pd.DataFrame(array, range(2),\n",
    "                  range(2))\n",
    "plt.figure(figsize = (10,7))\n",
    "\n",
    "sn.set(font_scale=1.4)#for label size\n",
    "sn.heatmap(df_cm, annot=True,square=True,vmax=10)# font size"
   ]
  },
  {
   "cell_type": "code",
   "execution_count": null,
   "metadata": {},
   "outputs": [],
   "source": []
  }
 ],
 "metadata": {
  "colab": {
   "collapsed_sections": [
    "0d0QeeQ-CyoD",
    "5YnkzKnmCyoN",
    "W544CoFtCyoN",
    "gK_SHRpTCyol",
    "YHwGesZUCyo1",
    "_s3QN_ZNCypD",
    "B1dIm8PiCypw",
    "s85gPOAbCyp1",
    "oq3NW2CbCyp3",
    "TJLjbsNYCyp5"
   ],
   "name": "3_DonorsChoose_KNN.ipynb",
   "provenance": [],
   "version": "0.3.2"
  },
  "kernelspec": {
   "display_name": "Python 3",
   "language": "python",
   "name": "python3"
  },
  "language_info": {
   "codemirror_mode": {
    "name": "ipython",
    "version": 3
   },
   "file_extension": ".py",
   "mimetype": "text/x-python",
   "name": "python",
   "nbconvert_exporter": "python",
   "pygments_lexer": "ipython3",
   "version": "3.7.3"
  }
 },
 "nbformat": 4,
 "nbformat_minor": 1
}
